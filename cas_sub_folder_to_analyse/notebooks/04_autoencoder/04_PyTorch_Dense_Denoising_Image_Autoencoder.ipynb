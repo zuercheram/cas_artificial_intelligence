{
  "cells": [
    {
      "cell_type": "code",
      "execution_count": null,
      "metadata": {
        "id": "9qVXBJ7u8l5s"
      },
      "outputs": [],
      "source": [
        "import torch\n",
        "from torch import nn\n",
        "from torch.utils.data import DataLoader, TensorDataset\n",
        "from torchvision import datasets\n",
        "from torchvision.transforms import ToTensor, Lambda, Compose, Normalize\n",
        "import numpy as np\n",
        "import matplotlib.pyplot as plt\n",
        "plt.rcParams[\"figure.figsize\"] = (24,8)"
      ]
    },
    {
      "cell_type": "code",
      "execution_count": null,
      "metadata": {
        "id": "XSGCOKM48l5t"
      },
      "outputs": [],
      "source": [
        "# Hyperparameter definieren\n",
        "learning_rate = 1e-3\n",
        "batch_size = 64"
      ]
    },
    {
      "cell_type": "markdown",
      "metadata": {
        "id": "m_MLxccl8l5t"
      },
      "source": [
        "**Train dataset**"
      ]
    },
    {
      "cell_type": "code",
      "execution_count": null,
      "metadata": {
        "id": "jtEv_AFMxSCZ"
      },
      "outputs": [],
      "source": [
        "class AddGaussianNoise(object):\n",
        "    def __init__(self, mean=0., std=1.):\n",
        "        self.std = std\n",
        "        self.mean = mean\n",
        "\n",
        "    def __call__(self, tensor):\n",
        "        return tensor + torch.randn(tensor.size()) * self.std + self.mean\n",
        "\n",
        "    def __repr__(self):\n",
        "        return self.__class__.__name__ + '(mean={0}, std={1})'.format(self.mean, self.std)\n"
      ]
    },
    {
      "cell_type": "code",
      "execution_count": null,
      "metadata": {
        "id": "iyMV1yqW7M02"
      },
      "outputs": [],
      "source": [
        "def standardize(image: torch.Tensor) -> torch.Tensor:\n",
        "    image /= 255.\n",
        "    return image"
      ]
    },
    {
      "cell_type": "code",
      "execution_count": null,
      "metadata": {
        "id": "3nZtiFDBwfRU"
      },
      "outputs": [],
      "source": [
        "transforms=Compose([\n",
        "    ToTensor(),\n",
        "    Normalize((0.1307,), (0.3081,)),\n",
        "    AddGaussianNoise(0., 100.),\n",
        "    Lambda(standardize)\n",
        "])"
      ]
    },
    {
      "cell_type": "code",
      "execution_count": null,
      "metadata": {
        "id": "1YoVg1lhXsxx"
      },
      "outputs": [],
      "source": [
        "# Download training data from open datasets.\n",
        "training_data = datasets.CIFAR10(\n",
        "    root=\"data\",\n",
        "    train=True,\n",
        "    download=True,\n",
        "    transform=transforms\n",
        ")\n",
        "\n",
        "# Download test data from open datasets.\n",
        "test_data = datasets.CIFAR10(\n",
        "    root=\"data\",\n",
        "    train=False,\n",
        "    download=True,\n",
        "    transform=transforms\n",
        ")"
      ]
    },
    {
      "cell_type": "code",
      "execution_count": null,
      "metadata": {
        "colab": {
          "base_uri": "https://localhost:8080/"
        },
        "id": "6Ud6PVDkbkIk",
        "outputId": "4a2ca125-0b28-41cc-edee-92426468c619"
      },
      "outputs": [],
      "source": [
        "training_data.data.shape, test_data.data.shape"
      ]
    },
    {
      "cell_type": "code",
      "execution_count": null,
      "metadata": {
        "colab": {
          "base_uri": "https://localhost:8080/"
        },
        "id": "swsLcc7g1Gti",
        "outputId": "610b5fdf-f83f-465b-ee00-f054bd1be416"
      },
      "outputs": [],
      "source": [
        "training_data.data.min(), training_data.data.max()"
      ]
    },
    {
      "cell_type": "code",
      "execution_count": null,
      "metadata": {
        "id": "rM_KatKUbraY"
      },
      "outputs": [],
      "source": [
        "# daten zu float 32 konvertieren\n",
        "# alles durch 255 dividieren\n",
        "# training_data.data/255 - > 0 bis 1\n",
        "# image vor dem AE mit Noise und nach der Eingabe - hoffentlich dann ohne Noise ausgeben\n",
        "\n",
        "train_noise = torch.tensor(np.random.randn(50000, 32, 32, 3)*100, dtype=torch.float32)\n",
        "\n",
        "test_noise = torch.tensor(np.random.randn(10000, 32, 32, 3)*100, dtype=torch.float32)"
      ]
    },
    {
      "cell_type": "code",
      "execution_count": null,
      "metadata": {},
      "outputs": [],
      "source": [
        "img_noise = train_noise.detach().numpy()*255\n",
        "plt.imshow(img_noise[0]);"
      ]
    },
    {
      "cell_type": "code",
      "execution_count": null,
      "metadata": {},
      "outputs": [],
      "source": [
        "\n",
        "plt.imshow(test_data.data[0])"
      ]
    },
    {
      "cell_type": "code",
      "execution_count": null,
      "metadata": {
        "id": "H1tEDf14k-b9"
      },
      "outputs": [],
      "source": [
        "train = (torch.tensor(training_data.data).type(torch.float32) + train_noise)/255.\n",
        "test = (torch.tensor(test_data.data).type(torch.float32) + test_noise)/255.\n",
        "\n",
        "# train = (training_data.data.type(torch.float32) + train_noise)/255.\n",
        "# test = (test_data.data.type(torch.float32) + test_noise)/255."
      ]
    },
    {
      "cell_type": "code",
      "execution_count": null,
      "metadata": {
        "colab": {
          "base_uri": "https://localhost:8080/"
        },
        "id": "3jDEtgFZF2F7",
        "outputId": "20454ca2-2857-4578-b8d0-ae27d0b87ac1"
      },
      "outputs": [],
      "source": [
        "train.shape, test.shape"
      ]
    },
    {
      "cell_type": "code",
      "execution_count": null,
      "metadata": {
        "id": "uPq0zgV4cW7I"
      },
      "outputs": [],
      "source": [
        "training_data_ae = TensorDataset(train, train)\n",
        "test_data_ae = TensorDataset(test, test)"
      ]
    },
    {
      "cell_type": "code",
      "execution_count": null,
      "metadata": {
        "id": "KB3S00UNBHVG"
      },
      "outputs": [],
      "source": [
        "#training_data_ae.transform = transforms\n",
        "#test_data_ae.transform = transforms"
      ]
    },
    {
      "cell_type": "code",
      "execution_count": null,
      "metadata": {
        "colab": {
          "base_uri": "https://localhost:8080/"
        },
        "id": "MGZOcuCaX6S2",
        "outputId": "9e5f93c4-bb88-495f-9178-374aad6d0fef"
      },
      "outputs": [],
      "source": [
        "\n",
        "\n",
        "# Create data loaders.\n",
        "train_dataloader = DataLoader(training_data_ae, batch_size=batch_size)\n",
        "test_dataloader = DataLoader(test_data_ae, batch_size=batch_size)\n",
        "\n",
        "for X, y in test_dataloader:\n",
        "    print(\"Shape of X [Batch Size, Channels, H, W]: \", X.shape)\n",
        "    print(\"Shape of y: \", y.shape, y.dtype) # SAME AS INPUT\n",
        "    break"
      ]
    },
    {
      "cell_type": "code",
      "execution_count": null,
      "metadata": {
        "colab": {
          "base_uri": "https://localhost:8080/",
          "height": 693
        },
        "id": "OOujeUOVbieg",
        "outputId": "909c93a6-0739-4c1b-ba34-623a3a7da1f1"
      },
      "outputs": [],
      "source": [
        "data, labels = next(iter(test_dataloader))\n",
        "print(torch.min(data), torch.max(data))\n",
        "img = data.detach().numpy()*255\n",
        "img = img.astype(int)\n",
        "plt.imshow(img[0]);"
      ]
    },
    {
      "cell_type": "markdown",
      "metadata": {
        "id": "5PzvIAwg8l5w"
      },
      "source": [
        "**Examine Dataset Range**"
      ]
    },
    {
      "cell_type": "code",
      "execution_count": null,
      "metadata": {
        "colab": {
          "base_uri": "https://localhost:8080/"
        },
        "id": "j_Cx7tFD8l5w",
        "outputId": "7fd2f0b2-2cbd-4b95-ee5d-51ec8096b673"
      },
      "outputs": [],
      "source": [
        "data, labels = next(iter(train_dataloader))\n",
        "print(torch.min(data), torch.max(data))"
      ]
    },
    {
      "cell_type": "markdown",
      "metadata": {
        "id": "NjKdciOQ8l5x"
      },
      "source": [
        "**Model**"
      ]
    },
    {
      "cell_type": "code",
      "execution_count": null,
      "metadata": {
        "id": "uDnpHVDscywY"
      },
      "outputs": [],
      "source": [
        "class DenoisingAutoencoder(nn.Module):\n",
        "    def __init__(self):\n",
        "        super(DenoisingAutoencoder, self).__init__()\n",
        "        self.flatten = nn.Flatten()\n",
        "        self.encoder = nn.Sequential(\n",
        "            nn.Linear(32*32*3, 128), nn.ReLU(), # use tanh\n",
        "            nn.Linear(128, 64), nn.ReLU(),\n",
        "            # nn.Linear(64, 32), nn.ReLU(),\n",
        "            # nn.Linear(32, 8), nn.ReLU(),\n",
        "        )\n",
        "\n",
        "        self.decoder = nn.Sequential(\n",
        "            # nn.Linear(8, 32), nn.ReLU(),\n",
        "            # nn.Linear(32, 64), nn.ReLU(),\n",
        "            nn.Linear(64, 128), nn.ReLU(),\n",
        "            nn.Linear(128, 32*32*3),nn.Sigmoid()  # Data value range [0, 1]\n",
        "        )\n",
        "\n",
        "    def forward(self, x):\n",
        "        x = self.flatten(x)\n",
        "        x = self.encoder(x)\n",
        "        out = self.decoder(x)\n",
        "        out = torch.reshape(out, (-1, 32, 32, 3))\n",
        "        return out\n",
        "\n",
        "model = DenoisingAutoencoder()"
      ]
    },
    {
      "cell_type": "code",
      "execution_count": null,
      "metadata": {
        "id": "4cc6I9k6dXfq"
      },
      "outputs": [],
      "source": [
        "# Initialize the loss function\n",
        "loss_fn = nn.CrossEntropyLoss()"
      ]
    },
    {
      "cell_type": "code",
      "execution_count": null,
      "metadata": {
        "id": "oe0DdcFqdcXr"
      },
      "outputs": [],
      "source": [
        "# Define optimizer\n",
        "optimizer = torch.optim.Adam(model.parameters(), lr=learning_rate)"
      ]
    },
    {
      "cell_type": "code",
      "execution_count": null,
      "metadata": {
        "id": "lbqEyotEdjo2"
      },
      "outputs": [],
      "source": [
        "# Training Loop\n",
        "# In TF kann man einfach fitten, in PyTorch muss man selbst loopen\n",
        "\n",
        "def train_loop(dataloader, model, loss_fn, optimizer):\n",
        "    size = len(dataloader.dataset) # Von da wissen wir die Anzahl der Zyklen\n",
        "    for batch, (X, y) in enumerate(dataloader): # X == y\n",
        "        # Compute prediction and loss\n",
        "        recon = model(X) # reconstructed data\n",
        "        loss = loss_fn(recon, X) # benchmark recon against X\n",
        "\n",
        "        # Backpropagation\n",
        "        optimizer.zero_grad()\n",
        "\n",
        "        # Gradienten auf x Berechnen\n",
        "        # In tensorflow: Apply gradient oder Gewicht = Gewicht + LearningRate*Gradient\n",
        "        loss.backward()\n",
        "        # Uberschreiben aller Gewichte und Biases mit neuen Werten\n",
        "        optimizer.step()\n",
        "\n",
        "        if batch % 500 == 0:\n",
        "            loss, current = loss.item(), batch * len(X)\n",
        "            print(f\"loss, Train: {loss:>7f}  [{current:>5d}/{size:>5d}]\")"
      ]
    },
    {
      "cell_type": "code",
      "execution_count": null,
      "metadata": {
        "id": "_QUolrlOGPNV"
      },
      "outputs": [],
      "source": [
        "def test_loop(test_dataloader, model, loss_fn):\n",
        "    size = len(test_dataloader.dataset)\n",
        "    test_loss = 0.\n",
        "    with torch.no_grad():\n",
        "        for batch, (X, y) in enumerate(test_dataloader):\n",
        "            pred = model(X)\n",
        "            test_loss += loss_fn(pred, y).item()\n",
        "\n",
        "\n",
        "    test_loss /= size\n",
        "    print(f\"Avg loss, Test: {test_loss:>8f} \\n\")\n",
        "\n",
        "    return test_loss"
      ]
    },
    {
      "cell_type": "code",
      "execution_count": null,
      "metadata": {
        "colab": {
          "base_uri": "https://localhost:8080/"
        },
        "id": "6EXp2A8_fKMY",
        "outputId": "646b5666-d69a-40e0-d225-9642fbb71698"
      },
      "outputs": [],
      "source": [
        "epochs = 10\n",
        "test_losses = []\n",
        "for t in range(epochs):\n",
        "    #print(f\"Epoch {t+1}\\n-------------------------------\")\n",
        "    train_loop(train_dataloader, model, loss_fn, optimizer)\n",
        "    test_loss = test_loop(test_dataloader, model, loss_fn)\n",
        "    test_losses.append(test_loss)\n",
        "\n",
        "print(\"Done!\")\n"
      ]
    },
    {
      "cell_type": "code",
      "execution_count": null,
      "metadata": {
        "colab": {
          "base_uri": "https://localhost:8080/",
          "height": 463
        },
        "id": "ExqYYse68l50",
        "outputId": "1ac607ad-c732-40c7-f4d4-43a4eb88d0ea"
      },
      "outputs": [],
      "source": [
        "plt.plot(np.array(test_losses));"
      ]
    },
    {
      "cell_type": "code",
      "execution_count": null,
      "metadata": {
        "colab": {
          "base_uri": "https://localhost:8080/",
          "height": 693
        },
        "id": "Zub-_Y0v3Pfg",
        "outputId": "cc24e186-cd6d-4852-97a7-2be8ab0a8a47"
      },
      "outputs": [],
      "source": [
        "data, labels = next(iter(test_dataloader))\n",
        "print(torch.min(data), torch.max(data))\n",
        "img = data.detach().numpy()*255\n",
        "img = img.astype(int)\n",
        "plt.imshow(img[0]);"
      ]
    },
    {
      "cell_type": "code",
      "execution_count": null,
      "metadata": {
        "colab": {
          "base_uri": "https://localhost:8080/"
        },
        "id": "1K-2qGV8H_Po",
        "outputId": "9882df9b-a8b2-463d-86c3-296bc19f37f5"
      },
      "outputs": [],
      "source": [
        "img.shape"
      ]
    },
    {
      "cell_type": "code",
      "execution_count": null,
      "metadata": {
        "id": "2q_W91UoM1Rb"
      },
      "outputs": [],
      "source": [
        "img_new = model(data)\n"
      ]
    },
    {
      "cell_type": "code",
      "execution_count": null,
      "metadata": {
        "id": "BYERldK1Qf3A"
      },
      "outputs": [],
      "source": [
        "img_new = (img_new.detach().numpy()*255).astype(int)\n",
        "print(img_new)"
      ]
    },
    {
      "cell_type": "code",
      "execution_count": null,
      "metadata": {
        "colab": {
          "base_uri": "https://localhost:8080/",
          "height": 693
        },
        "id": "onROY5iFQnMI",
        "outputId": "a0273b94-d4c4-4371-eb9f-1a29ba537d95"
      },
      "outputs": [],
      "source": [
        "plt.imshow(img_new[0])"
      ]
    }
  ],
  "metadata": {
    "colab": {
      "provenance": []
    },
    "kernelspec": {
      "display_name": "Python 3",
      "language": "python",
      "name": "python3"
    },
    "language_info": {
      "codemirror_mode": {
        "name": "ipython",
        "version": 3
      },
      "file_extension": ".py",
      "mimetype": "text/x-python",
      "name": "python",
      "nbconvert_exporter": "python",
      "pygments_lexer": "ipython3",
      "version": "3.11.5"
    }
  },
  "nbformat": 4,
  "nbformat_minor": 0
}
