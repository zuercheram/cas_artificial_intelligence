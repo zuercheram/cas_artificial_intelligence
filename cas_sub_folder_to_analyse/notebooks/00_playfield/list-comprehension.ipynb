{
 "cells": [
  {
   "cell_type": "code",
   "execution_count": 1,
   "metadata": {},
   "outputs": [],
   "source": [
    "import numpy as np"
   ]
  },
  {
   "cell_type": "code",
   "execution_count": 9,
   "metadata": {},
   "outputs": [
    {
     "name": "stdout",
     "output_type": "stream",
     "text": [
      "[10  8 14 25 15 48 12 10 47 21  8 28  7  9 18 15 36 27 38 49 24 49  3 43\n",
      " 39 41 31 35 14 26  2 18 27  7 48 38  9 26  1 23 43 36  3  5 25 44 27 46\n",
      " 22 16 37  6  2 40 22 26 43 27 27 15 33 23 46 41 47 44 42 30 35 16 49 10\n",
      " 21  7 30 14 30 31 41 18 32  6 31  4 37 20 49  8 29  6 49 24 17 18 46 34\n",
      " 30 17 14 39]\n",
      "100\n"
     ]
    }
   ],
   "source": [
    "X = np.random.randint(1, 50, size = 100)\n",
    "print(X)\n",
    "print(len(X))"
   ]
  },
  {
   "cell_type": "code",
   "execution_count": 11,
   "metadata": {},
   "outputs": [
    {
     "name": "stdout",
     "output_type": "stream",
     "text": [
      "[25, 48, 47, 21, 28, 36, 27, 38, 49, 24, 49, 43, 39, 41, 31, 35, 26, 27, 48, 38, 26, 23, 43, 36, 25, 44, 27, 46, 22, 37, 40, 22, 26, 43, 27, 27, 33, 23, 46, 41, 47, 44, 42, 30, 35, 49, 21, 30, 30, 31, 41, 32, 31, 37, 49, 29, 49, 24, 46, 34, 30, 39]\n",
      "62\n"
     ]
    }
   ],
   "source": [
    "Y = [x for x in X if x > 20 and x < 50]\n",
    "print(Y)\n",
    "print(len(Y))"
   ]
  },
  {
   "cell_type": "code",
   "execution_count": 13,
   "metadata": {},
   "outputs": [
    {
     "name": "stdout",
     "output_type": "stream",
     "text": [
      "[27, 23, 35, 57, 37, 103, 31, 27, 101, 49, 23, 63, 21, 25, 43, 37, 79, 61, 83, 105, 55, 105, 13, 93, 85, 89, 69, 77, 35, 59, 11, 43, 61, 21, 103, 83, 25, 59, 9, 53, 93, 79, 13, 17, 57, 95, 61, 99, 51, 39, 81, 19, 11, 87, 51, 59, 93, 61, 61, 37, 73, 53, 99, 89, 101, 95, 91, 67, 77, 39, 105, 27, 49, 21, 67, 35, 67, 69, 89, 43, 71, 19, 69, 15, 81, 47, 105, 23, 65, 19, 105, 55, 41, 43, 99, 75, 67, 41, 35, 85]\n"
     ]
    }
   ],
   "source": [
    "P = [2*x + 7 for x in X]\n",
    "print(P)"
   ]
  },
  {
   "cell_type": "code",
   "execution_count": 15,
   "metadata": {},
   "outputs": [
    {
     "name": "stdout",
     "output_type": "stream",
     "text": [
      "[15, 48, 12, 21, 9, 18, 15, 36, 27, 24, 3, 39, 18, 27, 48, 9, 36, 3, 27, 6, 27, 27, 15, 33, 42, 30, 21, 30, 30, 18, 6, 6, 24, 18, 30, 39]\n"
     ]
    }
   ],
   "source": [
    "G = [x for x in X if x%3 == 0]\n",
    "print(G)"
   ]
  },
  {
   "cell_type": "code",
   "execution_count": null,
   "metadata": {},
   "outputs": [],
   "source": []
  }
 ],
 "metadata": {
  "kernelspec": {
   "display_name": "ai",
   "language": "python",
   "name": "python3"
  },
  "language_info": {
   "codemirror_mode": {
    "name": "ipython",
    "version": 3
   },
   "file_extension": ".py",
   "mimetype": "text/x-python",
   "name": "python",
   "nbconvert_exporter": "python",
   "pygments_lexer": "ipython3",
   "version": "3.11.5"
  }
 },
 "nbformat": 4,
 "nbformat_minor": 2
}
