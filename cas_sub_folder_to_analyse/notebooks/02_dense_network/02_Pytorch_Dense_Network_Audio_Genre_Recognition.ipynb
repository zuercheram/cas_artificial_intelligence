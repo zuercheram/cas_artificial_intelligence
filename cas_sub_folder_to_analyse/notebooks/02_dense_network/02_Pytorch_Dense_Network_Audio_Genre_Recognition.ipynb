{
  "cells": [
    {
      "cell_type": "code",
      "execution_count": null,
      "metadata": {
        "id": "s3o5A_2eY3i0"
      },
      "outputs": [],
      "source": [
        "import torch\n",
        "import os\n",
        "import torchaudio\n",
        "from torch import nn\n",
        "from torch.utils.data import DataLoader, TensorDataset"
      ]
    },
    {
      "cell_type": "code",
      "execution_count": null,
      "metadata": {
        "id": "3VqAoVbUeTtt"
      },
      "outputs": [],
      "source": [
        "DATA_PATH = '../../data/music_genre_dataset'\n",
        "\n",
        "WAV_PATH = os.path.join(DATA_PATH, 'genres_original')\n",
        "TEST_PATH = os.path.join(DATA_PATH, 'test_set')"
      ]
    },
    {
      "cell_type": "code",
      "execution_count": null,
      "metadata": {},
      "outputs": [],
      "source": [
        "### Arguments\n",
        "### path: path of either wav or png directory\n",
        "### Returns\n",
        "### dictionary of 'genre' -> number\n",
        "def extract_classes(path=WAV_PATH):\n",
        "    classes = {}\n",
        "    i = 0\n",
        "    for genre in os.listdir(path):\n",
        "        classes[genre] = i\n",
        "        i += 1\n",
        "    return classes\n",
        "CLASSES = extract_classes()\n",
        "print(CLASSES)"
      ]
    },
    {
      "cell_type": "markdown",
      "metadata": {},
      "source": [
        "The classification of genre is enumerated in the following way: {'blues': 0, 'classical': 1, 'country': 2, 'disco': 3, 'hiphop': 4, 'jazz': 5, 'metal': 6, 'pop': 7, 'reggae': 8, 'rock': 9}"
      ]
    },
    {
      "cell_type": "code",
      "execution_count": null,
      "metadata": {},
      "outputs": [],
      "source": [
        "def get_genre_lable_vector(genre):\n",
        "    if genre == 'blues':\n",
        "        return torch.tensor([[1,0,0,0,0,0,0,0,0,0]])\n",
        "    elif genre == 'classical':\n",
        "        return torch.tensor([[0,1,0,0,0,0,0,0,0,0]])\n",
        "    elif genre == 'country':\n",
        "        return torch.tensor([[0,0,1,0,0,0,0,0,0,0]])\n",
        "    elif genre == 'disco':\n",
        "        return torch.tensor([[0,0,0,1,0,0,0,0,0,0]])\n",
        "    elif genre == 'hiphop':\n",
        "        return torch.tensor([[0,0,0,0,1,0,0,0,0,0]])\n",
        "    elif genre == 'jazz':\n",
        "        return torch.tensor([[0,0,0,0,0,1,0,0,0,0]])\n",
        "    elif genre == 'metal':\n",
        "        return torch.tensor([[0,0,0,0,0,0,1,0,0,0]])\n",
        "    elif genre == 'pop':\n",
        "        return torch.tensor([[0,0,0,0,0,0,0,1,0,0]])\n",
        "    elif genre == 'reggae':\n",
        "        return torch.tensor([[0,0,0,0,0,0,0,0,1,0]])\n",
        "    else:\n",
        "        return torch.tensor([[0,0,0,0,0,0,0,0,0,1]])"
      ]
    },
    {
      "cell_type": "code",
      "execution_count": null,
      "metadata": {},
      "outputs": [],
      "source": [
        "'''\n",
        "Returns a set of tensors with vectorized wav files and the labels for each wav file.\n",
        "\n",
        "train: tensor([[0.3,0.2,...,n],[0.1,0.4,...,n],...,z]),\n",
        "label: tensor(z,10)\n",
        "}\n",
        "'''\n",
        "def getTrainDataSet(path, duration=10, sr=22050):\n",
        "    genres = os.listdir(path)\n",
        "    n_frame = duration * sr        \n",
        "    audio_tensor = torch.Tensor()\n",
        "    label_tensor = torch.Tensor()\n",
        "    for genre in genres:\n",
        "        genre_path = os.path.join(path, genre)\n",
        "        files = os.listdir(genre_path)\n",
        "        for file in files:\n",
        "            file_path = os.path.join(genre_path, file)\n",
        "            audio_frames = torchaudio.load(file_path, num_frames=n_frame)\n",
        "            audio_tensor = torch.cat((audio_tensor, audio_frames[0]), dim=0)            \n",
        "            label_tensor = torch.cat((label_tensor, get_genre_lable_vector(genre)), dim=0)\n",
        "    return audio_tensor, label_tensor\n",
        "\n",
        "train, label = getTrainDataSet(WAV_PATH)\n",
        "print(train.shape)\n",
        "print(label.shape)\n",
        "print(train)\n",
        "print(label)"
      ]
    },
    {
      "cell_type": "code",
      "execution_count": null,
      "metadata": {},
      "outputs": [],
      "source": [
        "test, test_label = getTrainDataSet(TEST_PATH)"
      ]
    },
    {
      "cell_type": "code",
      "execution_count": null,
      "metadata": {},
      "outputs": [],
      "source": [
        "BATCH_SIZE = 64"
      ]
    },
    {
      "cell_type": "code",
      "execution_count": null,
      "metadata": {},
      "outputs": [],
      "source": [
        "train_tensor = TensorDataset(train, label)\n",
        "test_tensor = TensorDataset(test, test_label)\n",
        "\n",
        "train_loader = DataLoader(dataset = train_tensor, batch_size = BATCH_SIZE, shuffle = True)\n",
        "test_loader = DataLoader(dataset = test_tensor, batch_size = BATCH_SIZE, shuffle = True)"
      ]
    },
    {
      "cell_type": "code",
      "execution_count": null,
      "metadata": {},
      "outputs": [],
      "source": [
        "input_layer_size = 0\n",
        "\n",
        "for X, y in train_loader:\n",
        "    input_layer_size = X.shape[1]\n",
        "    print(X.shape[1])\n",
        "    break"
      ]
    },
    {
      "cell_type": "code",
      "execution_count": null,
      "metadata": {},
      "outputs": [],
      "source": [
        "torch.full(size=(10,), fill_value=1)"
      ]
    },
    {
      "cell_type": "code",
      "execution_count": null,
      "metadata": {},
      "outputs": [],
      "source": [
        "# Get cpu, gpu or mps device for training.\n",
        "device = (\n",
        "    \"cuda\"\n",
        "    if torch.cuda.is_available()\n",
        "    else \"mps\"\n",
        "    if torch.backends.mps.is_available()\n",
        "    else \"cpu\"\n",
        ")\n",
        "print(f\"Using {device} device\")\n",
        "\n",
        "# Define model\n",
        "\n",
        "class NeuralNetwork(nn.Module):\n",
        "    def __init__(self):\n",
        "        super(NeuralNetwork, self).__init__()        \n",
        "        self.linear_relu_stack = nn.Sequential(\n",
        "            nn.Linear(input_layer_size, 512),\n",
        "            nn.ReLU(),\n",
        "            nn.Linear(512, 512),\n",
        "            nn.ReLU(),\n",
        "            nn.Linear(512, 10),\n",
        "            nn.Softmax()          \n",
        "        )\n",
        "\n",
        "    def forward(self, x):        \n",
        "        logits = self.linear_relu_stack(x)\n",
        "        return logits\n",
        "\n",
        "model = NeuralNetwork().to(device)"
      ]
    },
    {
      "cell_type": "code",
      "execution_count": null,
      "metadata": {},
      "outputs": [],
      "source": [
        "learning_rate = 1e-3\n",
        "batch_size = 64\n",
        "epochs = 5"
      ]
    },
    {
      "cell_type": "code",
      "execution_count": null,
      "metadata": {},
      "outputs": [],
      "source": [
        "# Initialize the loss function\n",
        "loss_fn = nn.MSELoss() # mean absolute error , mse"
      ]
    },
    {
      "cell_type": "code",
      "execution_count": null,
      "metadata": {},
      "outputs": [],
      "source": [
        "optimizer = torch.optim.Adam(model.parameters(), lr=learning_rate)"
      ]
    },
    {
      "cell_type": "code",
      "execution_count": null,
      "metadata": {},
      "outputs": [],
      "source": [
        "def train_loop(dataloader, model, loss_fn, optimizer):\n",
        "    size = len(dataloader.dataset)\n",
        "    for batch, (X, y) in enumerate(dataloader):\n",
        "        # Compute prediction and loss\n",
        "        pred = model(X)        \n",
        "        loss = loss_fn(pred, y)\n",
        "\n",
        "        # Backpropagation\n",
        "        optimizer.zero_grad() # fit\n",
        "        loss.backward()\n",
        "        optimizer.step()\n",
        "\n",
        "        if batch % 100 == 0:\n",
        "            loss, current = loss.item(), batch * len(X)\n",
        "            print(f\"loss: {loss:>7f}  [{current:>5d}/{size:>5d}]\")"
      ]
    },
    {
      "cell_type": "code",
      "execution_count": null,
      "metadata": {},
      "outputs": [],
      "source": [
        "def test_loop(dataloader, model, loss_fn):\n",
        "    size = len(dataloader.dataset)\n",
        "    test_loss, correct = 0, 0\n",
        "\n",
        "    with torch.no_grad():\n",
        "        for X, y in dataloader:\n",
        "            pred = model(X)\n",
        "            test_loss += loss_fn(pred, y).item()            \n",
        "            correct += (pred.argmax(1) == y.argmax(1)).type(torch.float).sum().item()\n",
        "\n",
        "    test_loss /= size\n",
        "    correct /= size\n",
        "    print(f\"Test Error: \\n Accuracy: {(100*correct):>0.1f}%, Avg loss: {test_loss:>8f} \\n\")"
      ]
    },
    {
      "cell_type": "code",
      "execution_count": null,
      "metadata": {},
      "outputs": [],
      "source": [
        "for t in range(epochs):\n",
        "    print(f\"Epoch {t+1}\\n-------------------------------\")\n",
        "    train_loop(train_loader, model, loss_fn, optimizer)\n",
        "    test_loop(test_loader, model, loss_fn)\n",
        "print(\"Done!\")"
      ]
    },
    {
      "cell_type": "code",
      "execution_count": null,
      "metadata": {},
      "outputs": [],
      "source": [
        "torch.save(model.state_dict(), \"model.pth\")\n",
        "print(\"Saved PyTorch Model State to model.pth\")"
      ]
    },
    {
      "cell_type": "code",
      "execution_count": null,
      "metadata": {},
      "outputs": [],
      "source": [
        "model = NeuralNetwork().to(device)\n",
        "model.load_state_dict(torch.load(\"model.pth\"))"
      ]
    },
    {
      "cell_type": "code",
      "execution_count": null,
      "metadata": {},
      "outputs": [],
      "source": [
        "classes = [\n",
        "    \"blues\",\n",
        "    \"classical\",\n",
        "    \"country\",\n",
        "    \"disco\",\n",
        "    \"hiphop\",\n",
        "    \"jazz\",\n",
        "    \"metal\",\n",
        "    \"pop\",\n",
        "    \"reggae\",\n",
        "    \"rock\",\n",
        "]\n",
        "\n",
        "model.eval()\n",
        "x, y = test_tensor[0][0], test_tensor[0][1]\n",
        "with torch.no_grad():\n",
        "    x = x.to(device)\n",
        "    pred = model(x)\n",
        "    predicted, actual = classes[pred[0].argmax(0)], classes[y]\n",
        "    print(f'Predicted: \"{predicted}\", Actual: \"{actual}\"')"
      ]
    }
  ],
  "metadata": {
    "colab": {
      "provenance": []
    },
    "kernelspec": {
      "display_name": "Python 3",
      "name": "python3"
    },
    "language_info": {
      "codemirror_mode": {
        "name": "ipython",
        "version": 3
      },
      "file_extension": ".py",
      "mimetype": "text/x-python",
      "name": "python",
      "nbconvert_exporter": "python",
      "pygments_lexer": "ipython3",
      "version": "3.11.5"
    }
  },
  "nbformat": 4,
  "nbformat_minor": 0
}
