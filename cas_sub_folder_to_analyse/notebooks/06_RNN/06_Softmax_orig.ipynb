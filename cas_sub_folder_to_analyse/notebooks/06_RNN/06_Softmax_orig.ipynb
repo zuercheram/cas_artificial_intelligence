{
  "nbformat": 4,
  "nbformat_minor": 0,
  "metadata": {
    "colab": {
      "provenance": []
    },
    "kernelspec": {
      "name": "python3",
      "display_name": "Python 3"
    }
  },
  "cells": [
    {
      "cell_type": "code",
      "metadata": {
        "id": "10Atgs1SEP_Y"
      },
      "source": [
        "import numpy as np\n",
        "x_input = np.array([-2, 4, 13, 25])\n",
        "\n",
        "x_input = np.array([12, 4, -.8, 55, 34, 0.1, 688])"
      ],
      "execution_count": null,
      "outputs": []
    },
    {
      "cell_type": "code",
      "metadata": {
        "colab": {
          "base_uri": "https://localhost:8080/"
        },
        "id": "_nfOPbNvVUuW",
        "outputId": "d654e831-15ec-4d1f-ba59-3293489ffb3b"
      },
      "source": [
        "type(x_input)"
      ],
      "execution_count": null,
      "outputs": [
        {
          "output_type": "execute_result",
          "data": {
            "text/plain": [
              "numpy.ndarray"
            ]
          },
          "metadata": {
            "tags": []
          },
          "execution_count": 30
        }
      ]
    },
    {
      "cell_type": "code",
      "metadata": {
        "id": "PCU6epYOF5ly"
      },
      "source": [
        "Numerator = np.exp(x_input)"
      ],
      "execution_count": null,
      "outputs": []
    },
    {
      "cell_type": "code",
      "metadata": {
        "colab": {
          "base_uri": "https://localhost:8080/"
        },
        "id": "Z7r_1A9b0CFW",
        "outputId": "7258a347-32ef-48d7-9089-c43ebedc9e85"
      },
      "source": [
        "print(Numerator)"
      ],
      "execution_count": null,
      "outputs": [
        {
          "output_type": "stream",
          "text": [
            "[1.62754791e+005 5.45981500e+001 4.49328964e-001 7.69478527e+023\n",
            " 5.83461743e+014 1.10517092e+000 6.23165712e+298]\n"
          ],
          "name": "stdout"
        }
      ]
    },
    {
      "cell_type": "code",
      "metadata": {
        "id": "cLakgomc0FKo"
      },
      "source": [
        "Denominator = np.sum(np.exp(x_input))"
      ],
      "execution_count": null,
      "outputs": []
    },
    {
      "cell_type": "code",
      "metadata": {
        "colab": {
          "base_uri": "https://localhost:8080/"
        },
        "id": "HrknBZQc0PSn",
        "outputId": "93a0663a-cf8f-4e9a-fc53-83f8464bd46a"
      },
      "source": [
        "print(Denominator)"
      ],
      "execution_count": null,
      "outputs": [
        {
          "output_type": "stream",
          "text": [
            "6.231657119844268e+298\n"
          ],
          "name": "stdout"
        }
      ]
    },
    {
      "cell_type": "code",
      "metadata": {
        "id": "ZzWryxwX0RCy"
      },
      "source": [
        "softmax_output = Numerator/Denominator"
      ],
      "execution_count": null,
      "outputs": []
    },
    {
      "cell_type": "code",
      "metadata": {
        "colab": {
          "base_uri": "https://localhost:8080/"
        },
        "id": "_93ZNOMw0Y_K",
        "outputId": "b5809241-f7f9-4066-f906-0bb2efd83328"
      },
      "source": [
        "print(softmax_output)"
      ],
      "execution_count": null,
      "outputs": [
        {
          "output_type": "stream",
          "text": [
            "[2.61174176e-294 8.76141755e-298 7.21042502e-300 1.23478958e-275\n",
            " 9.36286659e-285 1.77347838e-299 1.00000000e+000]\n"
          ],
          "name": "stdout"
        }
      ]
    },
    {
      "cell_type": "code",
      "metadata": {
        "colab": {
          "base_uri": "https://localhost:8080/"
        },
        "id": "ZkbBxCGh0bSC",
        "outputId": "14575db3-67f2-492d-fb38-ed1a7ef6d5ff"
      },
      "source": [
        "np.sum(softmax_output)"
      ],
      "execution_count": null,
      "outputs": [
        {
          "output_type": "execute_result",
          "data": {
            "text/plain": [
              "1.0"
            ]
          },
          "metadata": {
            "tags": []
          },
          "execution_count": 37
        }
      ]
    },
    {
      "cell_type": "code",
      "metadata": {
        "colab": {
          "base_uri": "https://localhost:8080/"
        },
        "id": "bk2l8yHE0iLW",
        "outputId": "dd7d056c-3140-43d3-aa1a-1fcbc569bc46"
      },
      "source": [
        "np.argmax(softmax_output)"
      ],
      "execution_count": null,
      "outputs": [
        {
          "output_type": "execute_result",
          "data": {
            "text/plain": [
              "6"
            ]
          },
          "metadata": {
            "tags": []
          },
          "execution_count": 38
        }
      ]
    },
    {
      "cell_type": "code",
      "metadata": {
        "id": "mNI-BlGa04vr"
      },
      "source": [],
      "execution_count": null,
      "outputs": []
    }
  ]
}