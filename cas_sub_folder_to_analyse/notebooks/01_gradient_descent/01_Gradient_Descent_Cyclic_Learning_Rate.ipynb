{
 "cells": [
  {
   "cell_type": "code",
   "execution_count": null,
   "metadata": {},
   "outputs": [],
   "source": [
    "import numpy as np\n",
    "import matplotlib.pyplot as plt\n",
    "import math\n",
    "import csv"
   ]
  },
  {
   "cell_type": "code",
   "execution_count": null,
   "metadata": {},
   "outputs": [],
   "source": [
    "def f(x):\n",
    "    return 2 + np.sin(x) * np.cos(2*x-15)*2\n",
    "\n",
    "def df(x):\n",
    "    return 2 * np.cos(x) * np.cos(2 * x - 15) - 4 * np.sin(x) * np.sin(2 * x - 15)\n",
    "\n",
    "def calcCyclicLr(x, stepsize, y, y_max):\n",
    "    n_steps = (y_max - y) / stepsize    \n",
    "    cycle = (math.floor(x / n_steps) + 1)\n",
    "    cycle_step = x - ((cycle - 1) * n_steps)    \n",
    "    if (cycle % 2) == 0:\n",
    "        return y_max - cycle_step * stepsize\n",
    "    else:\n",
    "        return cycle_step * stepsize + y\n",
    "\n",
    "    # cycle = math.floor(1 + epoch / (2 * stepsize))    \n",
    "    # x = abs(epoch / stepsize - 2 * cycle + 1)    \n",
    "    # calcedLR = lr + (maxLr - lr) * max(0, (1-x))    \n",
    "    # return calcedLR\n",
    "\n",
    "x = np.linspace(5, 12, 200)\n",
    "y = f(x)\n",
    "\n",
    "csvfile = \"gradient-descent-run.csv\""
   ]
  },
  {
   "cell_type": "markdown",
   "metadata": {},
   "source": [
    "Open a CSV file and write a header into it."
   ]
  },
  {
   "cell_type": "code",
   "execution_count": null,
   "metadata": {},
   "outputs": [],
   "source": [
    "def startCSV():\n",
    "    with open(csvfile, 'w', newline='') as _csvfile:\n",
    "        writer = csv.writer(_csvfile, dialect='excel', delimiter=';')\n",
    "        writer.writerow(['X', 'Y', 'gd ' + str(1e-1), 'LR', ])\n",
    "\n",
    "def writeRow(X, Y, GD, LR):\n",
    "    with open(csvfile, 'a', newline='') as _csvfile:\n",
    "        writer = csv.writer(_csvfile, delimiter=';')\n",
    "        writer.writerow([X, Y, GD, LR, ])"
   ]
  },
  {
   "cell_type": "code",
   "execution_count": null,
   "metadata": {},
   "outputs": [],
   "source": [
    "# x_start = 7\n",
    "# dy_dx_old = df(x_start)\n",
    "# dy_dx_new = 0\n",
    "\n",
    "# lr = 0.1\n",
    "# maxLr = 1\n",
    "# stepsize = 0.15\n",
    "# tolerance = 1e-1\n",
    "# index = 0"
   ]
  },
  {
   "cell_type": "code",
   "execution_count": null,
   "metadata": {},
   "outputs": [],
   "source": [
    "x_start = 7.5\n",
    "dy_dx_old = df(x_start)\n",
    "dy_dx_new = 0\n",
    "\n",
    "lr = 0.1\n",
    "maxLr = 1\n",
    "stepsize = 0.15\n",
    "tolerance = 1e-1\n",
    "index = 0"
   ]
  },
  {
   "cell_type": "code",
   "execution_count": null,
   "metadata": {},
   "outputs": [],
   "source": [
    "plt.scatter(x_start, f(x_start), c='red')\n",
    "startCSV()\n",
    "\n",
    "gd = abs(dy_dx_new - dy_dx_old)\n",
    "\n",
    "while gd > tolerance:\n",
    "    x_temp = x_start\n",
    "    dy_dx_old = dy_dx_new\n",
    "    _lr = calcCyclicLr(index, stepsize, lr, maxLr)\n",
    "    x_start = x_start - _lr * dy_dx_old\n",
    "    dy_dx_new = df(x_start)\n",
    "    plt.scatter(x_start, f(x_start), c='lightblue')\n",
    "    plt.plot([x_temp, x_start], [f(x_temp), f(x_start)], c='lightgreen')\n",
    "    gd = abs(dy_dx_new - dy_dx_old)\n",
    "    writeRow(x_temp, f(x_temp), gd, _lr)\n",
    "    index+=1   \n",
    " \n",
    "plt.scatter(x_start, f(x_start), c='green')\n",
    "plt.xlabel('x')\n",
    "plt.ylabel('y')\n",
    "plt.plot(x,y)\n",
    "plt.show()"
   ]
  }
 ],
 "metadata": {
  "kernelspec": {
   "display_name": "ai",
   "language": "python",
   "name": "python3"
  },
  "language_info": {
   "codemirror_mode": {
    "name": "ipython",
    "version": 3
   },
   "file_extension": ".py",
   "mimetype": "text/x-python",
   "name": "python",
   "nbconvert_exporter": "python",
   "pygments_lexer": "ipython3",
   "version": "3.12.0"
  }
 },
 "nbformat": 4,
 "nbformat_minor": 2
}
