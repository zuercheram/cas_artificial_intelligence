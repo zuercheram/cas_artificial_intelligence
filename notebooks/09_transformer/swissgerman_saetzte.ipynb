{
 "cells": [
  {
   "cell_type": "markdown",
   "id": "029b8b01",
   "metadata": {
    "papermill": {
     "duration": 0.009051,
     "end_time": "2023-02-15T09:10:55.683791",
     "exception": false,
     "start_time": "2023-02-15T09:10:55.674740",
     "status": "completed"
    },
    "tags": []
   },
   "source": [
    "# **Swissgerman Sätze GPT**\n",
    "---\n",
    "\n",
    "from Andrej Karpathy's Tutorial: [ Let's build GPT: from scratch, in code, spelled out. ](https://www.youtube.com/watch?v=kCc8FmEb1nY)\n",
    "\n",
    "- As per the tutorial, the tokenizer used was character-level, which I made a notebook for separately here: [ShakespeareGPT [character-level]](https://www.kaggle.com/code/shreydan/shakespearegpt-character-level). The results were pretty incredible with character-level but it invented new words (just like Shakespeare :P).\n",
    "- In this notebook, the model is slightly larger, uses a Byte-Pair Encoding tokenizer via HuggingFace trained on the shakespeare corpus from scratch, following their [tutorial on how to build GPT2 tokenizer from scratch](https://huggingface.co/course/chapter6/8?fw=pt#building-a-bpe-tokenizer-from-scratch), hopefully the words in this are more coherent.\n",
    "- the purpose ofc here is to learn language-modelling, shakespeareGPT spits out text that looks like Shakespeare plays but they mostly dont make sense. We need to later fine tune the language model to output meaningful generated texts.\n",
    "- I still need to figure out how to use multiple GPUs to utilize the 2x T4s but this runs well on P100.\n",
    "- The full code I wrote following the incredible tutorial is here: [github/shreydan/shakespeareGPT](https://github.com/shreydan/shakespeareGPT)\n",
    "- This is a neat little playground to try it yourself and play with the hyperparameters!"
   ]
  },
  {
   "cell_type": "code",
   "execution_count": 19,
   "id": "b8b41410",
   "metadata": {
    "execution": {
     "iopub.execute_input": "2023-02-15T09:10:55.702186Z",
     "iopub.status.busy": "2023-02-15T09:10:55.701352Z",
     "iopub.status.idle": "2023-02-15T09:11:07.349280Z",
     "shell.execute_reply": "2023-02-15T09:11:07.348090Z"
    },
    "papermill": {
     "duration": 11.659819,
     "end_time": "2023-02-15T09:11:07.351871",
     "exception": false,
     "start_time": "2023-02-15T09:10:55.692052",
     "status": "completed"
    },
    "tags": []
   },
   "outputs": [
    {
     "name": "stdout",
     "output_type": "stream",
     "text": [
      "/bin/bash: /home/marco/miniconda3/lib/libtinfo.so.6: no version information available (required by /bin/bash)\n",
      "\n",
      "\u001b[1m[\u001b[0m\u001b[34;49mnotice\u001b[0m\u001b[1;39;49m]\u001b[0m\u001b[39;49m A new release of pip is available: \u001b[0m\u001b[31;49m23.2.1\u001b[0m\u001b[39;49m -> \u001b[0m\u001b[32;49m23.3.2\u001b[0m\n",
      "\u001b[1m[\u001b[0m\u001b[34;49mnotice\u001b[0m\u001b[1;39;49m]\u001b[0m\u001b[39;49m To update, run: \u001b[0m\u001b[32;49m/usr/bin/python3 -m pip install --upgrade pip\u001b[0m\n"
     ]
    }
   ],
   "source": [
    "!pip install torchinfo -q"
   ]
  },
  {
   "cell_type": "code",
   "execution_count": 20,
   "id": "c8b00abb",
   "metadata": {
    "_cell_guid": "b1076dfc-b9ad-4769-8c92-a6c4dae69d19",
    "_uuid": "8f2839f25d086af736a60e9eeb907d3b93b6e0e5",
    "execution": {
     "iopub.execute_input": "2023-02-15T09:11:07.370077Z",
     "iopub.status.busy": "2023-02-15T09:11:07.369719Z",
     "iopub.status.idle": "2023-02-15T09:11:09.370077Z",
     "shell.execute_reply": "2023-02-15T09:11:09.369123Z"
    },
    "papermill": {
     "duration": 2.012192,
     "end_time": "2023-02-15T09:11:09.372226",
     "exception": false,
     "start_time": "2023-02-15T09:11:07.360034",
     "status": "completed"
    },
    "tags": []
   },
   "outputs": [
    {
     "data": {
      "text/plain": [
       "<torch._C.Generator at 0x7f06a80be050>"
      ]
     },
     "execution_count": 20,
     "metadata": {},
     "output_type": "execute_result"
    }
   ],
   "source": [
    "import torch\n",
    "import torch.nn as nn\n",
    "import torch.nn.functional as F\n",
    "\n",
    "from dataclasses import dataclass\n",
    "\n",
    "from tqdm.auto import tqdm\n",
    "\n",
    "from pathlib import Path\n",
    "\n",
    "import matplotlib.pyplot as plt\n",
    "\n",
    "from tokenizers import Tokenizer\n",
    "from tokenizers.models import WordPiece\n",
    "import tokenizers.pre_tokenizers as pre_tokenizers\n",
    "import tokenizers.processors as processors\n",
    "import tokenizers.decoders as decoders\n",
    "from tokenizers.trainers import WordPieceTrainer\n",
    "\n",
    "from torchinfo import summary\n",
    "import pandas as pd\n",
    "\n",
    "torch.manual_seed(1357)"
   ]
  },
  {
   "cell_type": "markdown",
   "id": "ceeea54d",
   "metadata": {
    "papermill": {
     "duration": 0.007635,
     "end_time": "2023-02-15T09:11:09.389215",
     "exception": false,
     "start_time": "2023-02-15T09:11:09.381580",
     "status": "completed"
    },
    "tags": []
   },
   "source": [
    "# Data"
   ]
  },
  {
   "cell_type": "code",
   "execution_count": 9,
   "id": "0895672d",
   "metadata": {},
   "outputs": [],
   "source": [
    "data = pd.read_parquet('data/leipziz-swiss.parquet')"
   ]
  },
  {
   "cell_type": "code",
   "execution_count": 22,
   "id": "3e748a13",
   "metadata": {},
   "outputs": [],
   "source": [
    "data = data[:-100].to_string(index=False)"
   ]
  },
  {
   "cell_type": "code",
   "execution_count": 24,
   "id": "8f748b95",
   "metadata": {},
   "outputs": [],
   "source": [
    "with open('data/leipziz-swiss.txt','w',encoding='utf-8') as f:\n",
    "    f.write(data)"
   ]
  },
  {
   "cell_type": "markdown",
   "id": "db836a8b",
   "metadata": {
    "papermill": {
     "duration": 0.007651,
     "end_time": "2023-02-15T09:11:09.476953",
     "exception": false,
     "start_time": "2023-02-15T09:11:09.469302",
     "status": "completed"
    },
    "tags": []
   },
   "source": [
    "# Word Piece Tokenizer"
   ]
  },
  {
   "cell_type": "code",
   "execution_count": 25,
   "id": "faf9416d",
   "metadata": {
    "execution": {
     "iopub.execute_input": "2023-02-15T09:11:09.494115Z",
     "iopub.status.busy": "2023-02-15T09:11:09.493788Z",
     "iopub.status.idle": "2023-02-15T09:11:10.410781Z",
     "shell.execute_reply": "2023-02-15T09:11:10.409635Z"
    },
    "papermill": {
     "duration": 0.928184,
     "end_time": "2023-02-15T09:11:10.413058",
     "exception": false,
     "start_time": "2023-02-15T09:11:09.484874",
     "status": "completed"
    },
    "tags": []
   },
   "outputs": [
    {
     "name": "stdout",
     "output_type": "stream",
     "text": [
      "\n",
      "\n",
      "\n"
     ]
    }
   ],
   "source": [
    "tokenizer_path = Path('./tokenizer/')\n",
    "tokenizer_path.mkdir(exist_ok=True)\n",
    "\n",
    "tokenizer = Tokenizer(WordPiece())\n",
    "\n",
    "tokenizer.pre_tokenizer = pre_tokenizers.ByteLevel(add_prefix_space=False)\n",
    "tokenizer.post_processor = processors.ByteLevel(trim_offsets=False)\n",
    "tokenizer.decoder = decoders.ByteLevel()\n",
    "trainer = WordPieceTrainer(special_tokens=['<|endoftext|>'], min_frequency=2)\n",
    "\n",
    "tokenizer.train(['data/leipziz-swiss.txt'],trainer)\n",
    "tokenizer.save(str(tokenizer_path / 'leipziz-swiss.json'))"
   ]
  },
  {
   "cell_type": "code",
   "execution_count": 27,
   "id": "93051629",
   "metadata": {},
   "outputs": [],
   "source": [
    "tokenizer.token_to_id(\"1016 het dr französisch König Robert II. d Erbe vom Herzog Henri le Vénérable gschlage. 1031 het zweit Sohn vom französischen König Robert II. us em Huus vo de Kapetinger, dr Robert, s Herzogtum Burgund as Apanage übercho.\")"
   ]
  },
  {
   "cell_type": "markdown",
   "id": "582b8ba1",
   "metadata": {
    "papermill": {
     "duration": 0.007821,
     "end_time": "2023-02-15T09:11:10.428958",
     "exception": false,
     "start_time": "2023-02-15T09:11:10.421137",
     "status": "completed"
    },
    "tags": []
   },
   "source": [
    "# Config"
   ]
  },
  {
   "cell_type": "code",
   "execution_count": 76,
   "id": "262e1892",
   "metadata": {
    "execution": {
     "iopub.execute_input": "2023-02-15T09:11:10.446743Z",
     "iopub.status.busy": "2023-02-15T09:11:10.446204Z",
     "iopub.status.idle": "2023-02-15T09:11:10.526285Z",
     "shell.execute_reply": "2023-02-15T09:11:10.525343Z"
    },
    "papermill": {
     "duration": 0.091202,
     "end_time": "2023-02-15T09:11:10.528296",
     "exception": false,
     "start_time": "2023-02-15T09:11:10.437094",
     "status": "completed"
    },
    "tags": []
   },
   "outputs": [
    {
     "data": {
      "text/plain": [
       "('cuda', 3413)"
      ]
     },
     "execution_count": 76,
     "metadata": {},
     "output_type": "execute_result"
    }
   ],
   "source": [
    "@dataclass\n",
    "class Config:\n",
    "    \n",
    "    block_size = 256 # context-length\n",
    "    batch_size = 64 # mini-batch size\n",
    "    \n",
    "    vocab_size = tokenizer.get_vocab_size()\n",
    "    \n",
    "    train_size = 0.9 \n",
    "    \n",
    "    n_embed = 384\n",
    "    n_heads = 6\n",
    "    head_size = n_embed // n_heads # computes to 384/6=64\n",
    "    \n",
    "    n_layers = 3\n",
    "    \n",
    "    train_iters = 5000 # no. of batches to train on\n",
    "    val_iters = 500 # no. of batches to validate on every eval_intervals\n",
    "    \n",
    "    eval_interval = 1000 # validate after every eval_interval iterations while training\n",
    "    \n",
    "    lr = 5e-4\n",
    "    \n",
    "    attn_dropout = 0.2\n",
    "    block_dropout = 0.2\n",
    "    \n",
    "    device = 'cuda' if torch.cuda.is_available() else 'cpu'\n",
    "    \n",
    "Config.device, Config.vocab_size"
   ]
  },
  {
   "cell_type": "markdown",
   "id": "c5f27222",
   "metadata": {
    "papermill": {
     "duration": 0.007947,
     "end_time": "2023-02-15T09:11:10.544574",
     "exception": false,
     "start_time": "2023-02-15T09:11:10.536627",
     "status": "completed"
    },
    "tags": []
   },
   "source": [
    "# Dataset"
   ]
  },
  {
   "cell_type": "code",
   "execution_count": 77,
   "id": "3b2a7746",
   "metadata": {
    "execution": {
     "iopub.execute_input": "2023-02-15T09:11:10.562657Z",
     "iopub.status.busy": "2023-02-15T09:11:10.561748Z",
     "iopub.status.idle": "2023-02-15T09:11:10.572342Z",
     "shell.execute_reply": "2023-02-15T09:11:10.571376Z"
    },
    "papermill": {
     "duration": 0.021803,
     "end_time": "2023-02-15T09:11:10.574273",
     "exception": false,
     "start_time": "2023-02-15T09:11:10.552470",
     "status": "completed"
    },
    "tags": []
   },
   "outputs": [],
   "source": [
    "class LiederDataset:\n",
    "    def __init__(self, Config, is_test=False) -> None:\n",
    "        self.file_path = Path('data/liedertexte.txt')\n",
    "        self.tokenizer_path = Path('tokenizer/liedertexte.json')\n",
    "        with open(self.file_path,'r',encoding='utf-8') as f:\n",
    "            self.data = f.read()\n",
    "        self.tokenizer = Tokenizer.from_file(str(self.tokenizer_path))\n",
    "        \n",
    "        self.full_data = torch.tensor(self.tokenizer.encode(self.data).ids, dtype=torch.long)\n",
    "        \n",
    "        self.is_test = is_test\n",
    "        if self.is_test:\n",
    "            self.data = self.full_data[int(Config.train_size*len(self.full_data)):]\n",
    "        else:\n",
    "            self.data = self.full_data[:int(Config.train_size*len(self.full_data))]\n",
    "\n",
    "        self.block_size = Config.block_size\n",
    "        self.batch_size = Config.batch_size\n",
    "\n",
    "    def __len__(self) -> int:\n",
    "        return len(self.data)\n",
    "\n",
    "    def get_block_size(self) -> int:\n",
    "        return self.block_size\n",
    "\n",
    "    def get_vocab_size(self) -> int:\n",
    "        return self.tokenizer.get_vocab_size()\n",
    "\n",
    "    def __next__(self):\n",
    "        ix = torch.randint(len(self.data) - self.block_size, (self.batch_size,))\n",
    "        x = torch.stack([self.data[i:i+self.block_size] for i in ix])\n",
    "        y = torch.stack([self.data[i+1:i+self.block_size+1] for i in ix])\n",
    "        return x,y"
   ]
  },
  {
   "cell_type": "markdown",
   "id": "460ed556",
   "metadata": {
    "papermill": {
     "duration": 0.007845,
     "end_time": "2023-02-15T09:11:10.590045",
     "exception": false,
     "start_time": "2023-02-15T09:11:10.582200",
     "status": "completed"
    },
    "tags": []
   },
   "source": [
    "---\n",
    "\n",
    "# **GPT Model**"
   ]
  },
  {
   "cell_type": "markdown",
   "id": "9dfd2a5f",
   "metadata": {
    "papermill": {
     "duration": 0.007764,
     "end_time": "2023-02-15T09:11:10.605813",
     "exception": false,
     "start_time": "2023-02-15T09:11:10.598049",
     "status": "completed"
    },
    "tags": []
   },
   "source": [
    "## Single Attention Head"
   ]
  },
  {
   "cell_type": "code",
   "execution_count": 78,
   "id": "51afd115",
   "metadata": {
    "execution": {
     "iopub.execute_input": "2023-02-15T09:11:10.624133Z",
     "iopub.status.busy": "2023-02-15T09:11:10.623181Z",
     "iopub.status.idle": "2023-02-15T09:11:10.633191Z",
     "shell.execute_reply": "2023-02-15T09:11:10.632005Z"
    },
    "papermill": {
     "duration": 0.021524,
     "end_time": "2023-02-15T09:11:10.635499",
     "exception": false,
     "start_time": "2023-02-15T09:11:10.613975",
     "status": "completed"
    },
    "tags": []
   },
   "outputs": [],
   "source": [
    "class AttentionHead(nn.Module):\n",
    "    def __init__(self, Config):\n",
    "        super().__init__()\n",
    "\n",
    "        self.block_size = Config.block_size\n",
    "        self.n_embed = Config.n_embed\n",
    "        self.head_size = Config.head_size\n",
    "        \n",
    "        self.key = nn.Linear(self.n_embed, self.head_size, bias=False)\n",
    "        self.query = nn.Linear(self.n_embed, self.head_size, bias=False)\n",
    "        \n",
    "        self.value = nn.Linear(self.n_embed, self.head_size, bias=False)\n",
    "\n",
    "        self.register_buffer(\n",
    "            'tril',\n",
    "            torch.tril(torch.ones(self.block_size,self.block_size))\n",
    "        )\n",
    "        \n",
    "        self.dropout = nn.Dropout(Config.attn_dropout)\n",
    "\n",
    "    def forward(self, x):\n",
    "\n",
    "        B,T,C = x.shape\n",
    "\n",
    "        k = self.key(x)\n",
    "        q = self.query(x)\n",
    "\n",
    "        wei = q@k.transpose(-2,-1) * (C ** 0.5)\n",
    "        wei = wei.masked_fill(self.tril[:T,:T]==0,float('-inf'))\n",
    "        wei = F.softmax(wei, dim=-1)\n",
    "        wei = self.dropout(wei)\n",
    "        \n",
    "        v = self.value(x)\n",
    "        out = wei @ v\n",
    "        \n",
    "        return out"
   ]
  },
  {
   "cell_type": "markdown",
   "id": "f9cf7e02",
   "metadata": {
    "papermill": {
     "duration": 0.007892,
     "end_time": "2023-02-15T09:11:10.651472",
     "exception": false,
     "start_time": "2023-02-15T09:11:10.643580",
     "status": "completed"
    },
    "tags": []
   },
   "source": [
    "## MultiHead Attention"
   ]
  },
  {
   "cell_type": "code",
   "execution_count": 79,
   "id": "46bb27be",
   "metadata": {
    "execution": {
     "iopub.execute_input": "2023-02-15T09:11:10.668742Z",
     "iopub.status.busy": "2023-02-15T09:11:10.668423Z",
     "iopub.status.idle": "2023-02-15T09:11:10.674991Z",
     "shell.execute_reply": "2023-02-15T09:11:10.674075Z"
    },
    "papermill": {
     "duration": 0.01775,
     "end_time": "2023-02-15T09:11:10.677153",
     "exception": false,
     "start_time": "2023-02-15T09:11:10.659403",
     "status": "completed"
    },
    "tags": []
   },
   "outputs": [],
   "source": [
    "class MultiHeadAttention(nn.Module):\n",
    "    def __init__(self, Config):\n",
    "        super().__init__()\n",
    "        self.n_heads = Config.n_heads\n",
    "        self.head_size = Config.head_size\n",
    "        \n",
    "        self.heads = nn.ModuleList([AttentionHead(Config) for _ in range(self.n_heads)])\n",
    "        \n",
    "        self.projection = nn.Linear(Config.n_embed, Config.n_embed)\n",
    "        \n",
    "        self.dropout = nn.Dropout(Config.attn_dropout)\n",
    "    \n",
    "    def forward(self,x):\n",
    "        x = torch.cat([h(x) for h in self.heads],dim=-1)\n",
    "        x = self.projection(x)\n",
    "        x = self.dropout(x)\n",
    "        return x"
   ]
  },
  {
   "cell_type": "markdown",
   "id": "474f88d0",
   "metadata": {
    "papermill": {
     "duration": 0.007875,
     "end_time": "2023-02-15T09:11:10.692909",
     "exception": false,
     "start_time": "2023-02-15T09:11:10.685034",
     "status": "completed"
    },
    "tags": []
   },
   "source": [
    "## Feed Forward Layer"
   ]
  },
  {
   "cell_type": "code",
   "execution_count": 80,
   "id": "7eb47416",
   "metadata": {
    "execution": {
     "iopub.execute_input": "2023-02-15T09:11:10.711211Z",
     "iopub.status.busy": "2023-02-15T09:11:10.710230Z",
     "iopub.status.idle": "2023-02-15T09:11:10.716751Z",
     "shell.execute_reply": "2023-02-15T09:11:10.715882Z"
    },
    "papermill": {
     "duration": 0.017692,
     "end_time": "2023-02-15T09:11:10.718711",
     "exception": false,
     "start_time": "2023-02-15T09:11:10.701019",
     "status": "completed"
    },
    "tags": []
   },
   "outputs": [],
   "source": [
    "class FeedForward(nn.Module):\n",
    "    def __init__(self, Config):\n",
    "        super().__init__()\n",
    "        self.net = nn.Sequential(\n",
    "            nn.Linear(Config.n_embed,Config.n_embed * 4),\n",
    "            nn.ReLU(),\n",
    "            nn.Linear(Config.n_embed * 4, Config.n_embed), # projection\n",
    "            nn.Dropout(Config.block_dropout)\n",
    "        )\n",
    "    def forward(self,x):\n",
    "        return self.net(x)"
   ]
  },
  {
   "cell_type": "markdown",
   "id": "c8e59a37",
   "metadata": {
    "papermill": {
     "duration": 0.008044,
     "end_time": "2023-02-15T09:11:10.734687",
     "exception": false,
     "start_time": "2023-02-15T09:11:10.726643",
     "status": "completed"
    },
    "tags": []
   },
   "source": [
    "# Transformer Block"
   ]
  },
  {
   "cell_type": "code",
   "execution_count": 81,
   "id": "039e949b",
   "metadata": {
    "execution": {
     "iopub.execute_input": "2023-02-15T09:11:10.752630Z",
     "iopub.status.busy": "2023-02-15T09:11:10.751790Z",
     "iopub.status.idle": "2023-02-15T09:11:10.758272Z",
     "shell.execute_reply": "2023-02-15T09:11:10.757442Z"
    },
    "papermill": {
     "duration": 0.017434,
     "end_time": "2023-02-15T09:11:10.760234",
     "exception": false,
     "start_time": "2023-02-15T09:11:10.742800",
     "status": "completed"
    },
    "tags": []
   },
   "outputs": [],
   "source": [
    "class TransformerBlock(nn.Module):\n",
    "    def __init__(self, Config):\n",
    "        super().__init__()\n",
    "        self.attn = MultiHeadAttention(Config)\n",
    "        self.ff = FeedForward(Config)\n",
    "        self.ln1 = nn.LayerNorm(Config.n_embed)\n",
    "        self.ln2 = nn.LayerNorm(Config.n_embed)\n",
    "\n",
    "    def forward(self,x):\n",
    "        x = x + self.attn(self.ln1(x))\n",
    "        x = x + self.ff(self.ln2(x))\n",
    "        \n",
    "        return x"
   ]
  },
  {
   "cell_type": "markdown",
   "id": "df99b93f",
   "metadata": {
    "papermill": {
     "duration": 0.007907,
     "end_time": "2023-02-15T09:11:10.776073",
     "exception": false,
     "start_time": "2023-02-15T09:11:10.768166",
     "status": "completed"
    },
    "tags": []
   },
   "source": [
    "## GPT Model"
   ]
  },
  {
   "cell_type": "code",
   "execution_count": 82,
   "id": "e75360e3",
   "metadata": {
    "execution": {
     "iopub.execute_input": "2023-02-15T09:11:10.793740Z",
     "iopub.status.busy": "2023-02-15T09:11:10.792900Z",
     "iopub.status.idle": "2023-02-15T09:11:10.802612Z",
     "shell.execute_reply": "2023-02-15T09:11:10.801766Z"
    },
    "papermill": {
     "duration": 0.020708,
     "end_time": "2023-02-15T09:11:10.804630",
     "exception": false,
     "start_time": "2023-02-15T09:11:10.783922",
     "status": "completed"
    },
    "tags": []
   },
   "outputs": [],
   "source": [
    "class ShakespeareGPT(nn.Module):\n",
    "    def __init__(self,Config):\n",
    "        super().__init__()\n",
    "        \n",
    "        self.n_embed = Config.n_embed\n",
    "        self.block_size = Config.block_size\n",
    "        \n",
    "        self.token_embedding_table = nn.Embedding(Config.vocab_size,self.n_embed)\n",
    "        self.pos_embedding_table = nn.Embedding(self.block_size, self.n_embed)\n",
    "        \n",
    "        self.blocks = nn.Sequential(\n",
    "            *[TransformerBlock(Config)]*Config.n_layers,\n",
    "            nn.LayerNorm(self.n_embed)\n",
    "        )\n",
    "\n",
    "        self.lm_head = nn.Linear(self.n_embed,Config.vocab_size)\n",
    "        \n",
    "    def forward(self,idx):\n",
    "        \n",
    "        B,T = idx.shape\n",
    "        \n",
    "        token_embs = self.token_embedding_table(idx)\n",
    "        pos_embs = self.pos_embedding_table(torch.arange(T,device=Config.device))\n",
    "        \n",
    "        \n",
    "        x = token_embs + pos_embs\n",
    "        x = self.blocks(x)\n",
    "        logits = self.lm_head(x)\n",
    "        \n",
    "        return logits\n",
    "\n",
    "        \n",
    "    def generate(self,idx,total):\n",
    "        for _ in range(total):\n",
    "            idx_cond = idx[:, -self.block_size:]\n",
    "            logits= self(idx_cond)\n",
    "            logits = logits[:, -1, :]\n",
    "            probs = F.softmax(logits, dim=-1)\n",
    "            idx_next = torch.multinomial(probs, num_samples=1)\n",
    "            idx = torch.cat((idx, idx_next), dim=1)\n",
    "        return idx\n",
    "            "
   ]
  },
  {
   "cell_type": "markdown",
   "id": "c2437b37",
   "metadata": {
    "papermill": {
     "duration": 0.00787,
     "end_time": "2023-02-15T09:11:10.820591",
     "exception": false,
     "start_time": "2023-02-15T09:11:10.812721",
     "status": "completed"
    },
    "tags": []
   },
   "source": [
    "# Training"
   ]
  },
  {
   "cell_type": "code",
   "execution_count": 83,
   "id": "32e88834",
   "metadata": {
    "execution": {
     "iopub.execute_input": "2023-02-15T09:11:10.838744Z",
     "iopub.status.busy": "2023-02-15T09:11:10.837880Z",
     "iopub.status.idle": "2023-02-15T09:11:12.895238Z",
     "shell.execute_reply": "2023-02-15T09:11:12.894247Z"
    },
    "papermill": {
     "duration": 2.069049,
     "end_time": "2023-02-15T09:11:12.897669",
     "exception": false,
     "start_time": "2023-02-15T09:11:10.828620",
     "status": "completed"
    },
    "tags": []
   },
   "outputs": [],
   "source": [
    "train_ds = LiederDataset(Config)\n",
    "val_ds = LiederDataset(Config,is_test=True)"
   ]
  },
  {
   "cell_type": "code",
   "execution_count": 84,
   "id": "fc03dd33",
   "metadata": {
    "execution": {
     "iopub.execute_input": "2023-02-15T09:11:12.916528Z",
     "iopub.status.busy": "2023-02-15T09:11:12.915697Z",
     "iopub.status.idle": "2023-02-15T09:11:15.945807Z",
     "shell.execute_reply": "2023-02-15T09:11:15.944810Z"
    },
    "papermill": {
     "duration": 3.042334,
     "end_time": "2023-02-15T09:11:15.948253",
     "exception": false,
     "start_time": "2023-02-15T09:11:12.905919",
     "status": "completed"
    },
    "tags": []
   },
   "outputs": [],
   "source": [
    "lm = ShakespeareGPT(Config)\n",
    "lm = lm.to(device=Config.device)"
   ]
  },
  {
   "cell_type": "code",
   "execution_count": 85,
   "id": "d7340006",
   "metadata": {
    "execution": {
     "iopub.execute_input": "2023-02-15T09:11:15.966079Z",
     "iopub.status.busy": "2023-02-15T09:11:15.965484Z",
     "iopub.status.idle": "2023-02-15T09:11:16.940302Z",
     "shell.execute_reply": "2023-02-15T09:11:16.939445Z"
    },
    "papermill": {
     "duration": 0.986096,
     "end_time": "2023-02-15T09:11:16.942579",
     "exception": false,
     "start_time": "2023-02-15T09:11:15.956483",
     "status": "completed"
    },
    "tags": []
   },
   "outputs": [
    {
     "data": {
      "text/plain": [
       "===============================================================================================\n",
       "Layer (type:depth-idx)                        Output Shape              Param #\n",
       "===============================================================================================\n",
       "ShakespeareGPT                                [64, 256, 3413]           --\n",
       "├─Embedding: 1-1                              [64, 256, 384]            1,310,592\n",
       "├─Embedding: 1-2                              [256, 384]                98,304\n",
       "├─Sequential: 1-3                             [64, 256, 384]            --\n",
       "│    └─TransformerBlock: 2-1                  [64, 256, 384]            --\n",
       "│    │    └─LayerNorm: 3-1                    [64, 256, 384]            768\n",
       "│    │    └─MultiHeadAttention: 3-2           [64, 256, 384]            --\n",
       "│    │    │    └─ModuleList: 4-9              --                        (recursive)\n",
       "│    │    │    │    └─AttentionHead: 5-1      [64, 256, 64]             73,728\n",
       "│    │    │    │    └─AttentionHead: 5-2      [64, 256, 64]             73,728\n",
       "│    │    │    │    └─AttentionHead: 5-3      [64, 256, 64]             73,728\n",
       "│    │    │    │    └─AttentionHead: 5-4      [64, 256, 64]             73,728\n",
       "│    │    │    │    └─AttentionHead: 5-5      [64, 256, 64]             73,728\n",
       "│    │    │    │    └─AttentionHead: 5-6      [64, 256, 64]             73,728\n",
       "│    │    │    └─Linear: 4-2                  [64, 256, 384]            147,840\n",
       "│    │    │    └─Dropout: 4-3                 [64, 256, 384]            --\n",
       "│    │    └─LayerNorm: 3-3                    [64, 256, 384]            768\n",
       "│    │    └─FeedForward: 3-4                  [64, 256, 384]            --\n",
       "│    │    │    └─Sequential: 4-4              [64, 256, 384]            --\n",
       "│    │    │    │    └─Linear: 5-7             [64, 256, 1536]           591,360\n",
       "│    │    │    │    └─ReLU: 5-8               [64, 256, 1536]           --\n",
       "│    │    │    │    └─Linear: 5-9             [64, 256, 384]            590,208\n",
       "│    │    │    │    └─Dropout: 5-10           [64, 256, 384]            --\n",
       "│    └─TransformerBlock: 2-2                  [64, 256, 384]            (recursive)\n",
       "│    │    └─LayerNorm: 3-5                    [64, 256, 384]            (recursive)\n",
       "│    │    └─MultiHeadAttention: 3-6           [64, 256, 384]            (recursive)\n",
       "│    │    │    └─ModuleList: 4-9              --                        (recursive)\n",
       "│    │    │    │    └─AttentionHead: 5-11     [64, 256, 64]             (recursive)\n",
       "│    │    │    │    └─AttentionHead: 5-12     [64, 256, 64]             (recursive)\n",
       "│    │    │    │    └─AttentionHead: 5-13     [64, 256, 64]             (recursive)\n",
       "│    │    │    │    └─AttentionHead: 5-14     [64, 256, 64]             (recursive)\n",
       "│    │    │    │    └─AttentionHead: 5-15     [64, 256, 64]             (recursive)\n",
       "│    │    │    │    └─AttentionHead: 5-16     [64, 256, 64]             (recursive)\n",
       "│    │    │    └─Linear: 4-6                  [64, 256, 384]            (recursive)\n",
       "│    │    │    └─Dropout: 4-7                 [64, 256, 384]            --\n",
       "│    │    └─LayerNorm: 3-7                    [64, 256, 384]            (recursive)\n",
       "│    │    └─FeedForward: 3-8                  [64, 256, 384]            (recursive)\n",
       "│    │    │    └─Sequential: 4-8              [64, 256, 384]            (recursive)\n",
       "│    │    │    │    └─Linear: 5-17            [64, 256, 1536]           (recursive)\n",
       "│    │    │    │    └─ReLU: 5-18              [64, 256, 1536]           --\n",
       "│    │    │    │    └─Linear: 5-19            [64, 256, 384]            (recursive)\n",
       "│    │    │    │    └─Dropout: 5-20           [64, 256, 384]            --\n",
       "│    └─TransformerBlock: 2-3                  [64, 256, 384]            (recursive)\n",
       "│    │    └─LayerNorm: 3-9                    [64, 256, 384]            (recursive)\n",
       "│    │    └─MultiHeadAttention: 3-10          [64, 256, 384]            (recursive)\n",
       "│    │    │    └─ModuleList: 4-9              --                        (recursive)\n",
       "│    │    │    │    └─AttentionHead: 5-21     [64, 256, 64]             (recursive)\n",
       "│    │    │    │    └─AttentionHead: 5-22     [64, 256, 64]             (recursive)\n",
       "│    │    │    │    └─AttentionHead: 5-23     [64, 256, 64]             (recursive)\n",
       "│    │    │    │    └─AttentionHead: 5-24     [64, 256, 64]             (recursive)\n",
       "│    │    │    │    └─AttentionHead: 5-25     [64, 256, 64]             (recursive)\n",
       "│    │    │    │    └─AttentionHead: 5-26     [64, 256, 64]             (recursive)\n",
       "│    │    │    └─Linear: 4-10                 [64, 256, 384]            (recursive)\n",
       "│    │    │    └─Dropout: 4-11                [64, 256, 384]            --\n",
       "│    │    └─LayerNorm: 3-11                   [64, 256, 384]            (recursive)\n",
       "│    │    └─FeedForward: 3-12                 [64, 256, 384]            (recursive)\n",
       "│    │    │    └─Sequential: 4-12             [64, 256, 384]            (recursive)\n",
       "│    │    │    │    └─Linear: 5-27            [64, 256, 1536]           (recursive)\n",
       "│    │    │    │    └─ReLU: 5-28              [64, 256, 1536]           --\n",
       "│    │    │    │    └─Linear: 5-29            [64, 256, 384]            (recursive)\n",
       "│    │    │    │    └─Dropout: 5-30           [64, 256, 384]            --\n",
       "│    └─LayerNorm: 2-4                         [64, 256, 384]            768\n",
       "├─Linear: 1-4                                 [64, 256, 3413]           1,314,005\n",
       "===============================================================================================\n",
       "Total params: 4,496,981\n",
       "Trainable params: 4,496,981\n",
       "Non-trainable params: 0\n",
       "Total mult-adds (M): 533.67\n",
       "===============================================================================================\n",
       "Input size (MB): 0.13\n",
       "Forward/backward pass size (MB): 2209.74\n",
       "Params size (MB): 17.99\n",
       "Estimated Total Size (MB): 2227.86\n",
       "==============================================================================================="
      ]
     },
     "execution_count": 85,
     "metadata": {},
     "output_type": "execute_result"
    }
   ],
   "source": [
    "summary(lm,input_size=(Config.batch_size, Config.block_size),dtypes=[torch.long],depth=5,)"
   ]
  },
  {
   "cell_type": "markdown",
   "id": "1bbf5362",
   "metadata": {
    "papermill": {
     "duration": 0.008178,
     "end_time": "2023-02-15T09:11:16.959307",
     "exception": false,
     "start_time": "2023-02-15T09:11:16.951129",
     "status": "completed"
    },
    "tags": []
   },
   "source": [
    "### Optimizer"
   ]
  },
  {
   "cell_type": "code",
   "execution_count": 86,
   "id": "aef240fd",
   "metadata": {
    "execution": {
     "iopub.execute_input": "2023-02-15T09:11:16.977459Z",
     "iopub.status.busy": "2023-02-15T09:11:16.977125Z",
     "iopub.status.idle": "2023-02-15T09:11:16.981997Z",
     "shell.execute_reply": "2023-02-15T09:11:16.981001Z"
    },
    "papermill": {
     "duration": 0.016333,
     "end_time": "2023-02-15T09:11:16.983983",
     "exception": false,
     "start_time": "2023-02-15T09:11:16.967650",
     "status": "completed"
    },
    "tags": []
   },
   "outputs": [],
   "source": [
    "optim = torch.optim.AdamW(lm.parameters(), lr=Config.lr)"
   ]
  },
  {
   "cell_type": "markdown",
   "id": "458df3f1",
   "metadata": {
    "papermill": {
     "duration": 0.008098,
     "end_time": "2023-02-15T09:11:17.000505",
     "exception": false,
     "start_time": "2023-02-15T09:11:16.992407",
     "status": "completed"
    },
    "tags": []
   },
   "source": [
    "### Loss Function"
   ]
  },
  {
   "cell_type": "code",
   "execution_count": 87,
   "id": "94815a81",
   "metadata": {
    "execution": {
     "iopub.execute_input": "2023-02-15T09:11:17.019753Z",
     "iopub.status.busy": "2023-02-15T09:11:17.018127Z",
     "iopub.status.idle": "2023-02-15T09:11:17.024060Z",
     "shell.execute_reply": "2023-02-15T09:11:17.023129Z"
    },
    "papermill": {
     "duration": 0.017438,
     "end_time": "2023-02-15T09:11:17.026192",
     "exception": false,
     "start_time": "2023-02-15T09:11:17.008754",
     "status": "completed"
    },
    "tags": []
   },
   "outputs": [],
   "source": [
    "def loss_fn(logits, targets):\n",
    "    B,T,C = logits.shape\n",
    "    logits = logits.view(B*T, C)\n",
    "    targets = targets.view(B*T)\n",
    "    loss = F.cross_entropy(logits,targets)\n",
    "    return loss"
   ]
  },
  {
   "cell_type": "markdown",
   "id": "29c03c6c",
   "metadata": {
    "papermill": {
     "duration": 0.008117,
     "end_time": "2023-02-15T09:11:17.042719",
     "exception": false,
     "start_time": "2023-02-15T09:11:17.034602",
     "status": "completed"
    },
    "tags": []
   },
   "source": [
    "# Training Loops"
   ]
  },
  {
   "cell_type": "markdown",
   "id": "83ca8de0",
   "metadata": {
    "papermill": {
     "duration": 0.008055,
     "end_time": "2023-02-15T09:11:17.059021",
     "exception": false,
     "start_time": "2023-02-15T09:11:17.050966",
     "status": "completed"
    },
    "tags": []
   },
   "source": [
    "## Validation Loop\n",
    "\n",
    "averages over `val_iters` mini-batches"
   ]
  },
  {
   "cell_type": "code",
   "execution_count": 88,
   "id": "b1e81477",
   "metadata": {
    "execution": {
     "iopub.execute_input": "2023-02-15T09:11:17.077823Z",
     "iopub.status.busy": "2023-02-15T09:11:17.076875Z",
     "iopub.status.idle": "2023-02-15T09:11:17.083922Z",
     "shell.execute_reply": "2023-02-15T09:11:17.083021Z"
    },
    "papermill": {
     "duration": 0.018456,
     "end_time": "2023-02-15T09:11:17.085928",
     "exception": false,
     "start_time": "2023-02-15T09:11:17.067472",
     "status": "completed"
    },
    "tags": []
   },
   "outputs": [],
   "source": [
    "@torch.no_grad()\n",
    "def valid_N_iters():\n",
    "    val_step_losses = []\n",
    "    for batch in tqdm(range(Config.val_iters)):\n",
    "        inputs, targets = next(val_ds)\n",
    "        inputs, targets = inputs.to(device=Config.device), targets.to(device=Config.device)\n",
    "        logits = lm(inputs)\n",
    "        loss = loss_fn(logits,targets)\n",
    "        val_step_losses.append(loss.item())\n",
    "        \n",
    "        del inputs, targets, loss, logits\n",
    "    \n",
    "    val_loss = torch.tensor(val_step_losses).mean()\n",
    "    print(f'val loss: {val_loss}')\n",
    "    return val_loss"
   ]
  },
  {
   "cell_type": "markdown",
   "id": "9e6303e7",
   "metadata": {
    "papermill": {
     "duration": 0.008117,
     "end_time": "2023-02-15T09:11:17.102259",
     "exception": false,
     "start_time": "2023-02-15T09:11:17.094142",
     "status": "completed"
    },
    "tags": []
   },
   "source": [
    "## Training Loop\n",
    "\n",
    "trains over `train_iters` mini-batches, calls `valid_N_iters()` every `eval_interval`"
   ]
  },
  {
   "cell_type": "code",
   "execution_count": 89,
   "id": "dca8b9a4",
   "metadata": {
    "execution": {
     "iopub.execute_input": "2023-02-15T09:11:17.120883Z",
     "iopub.status.busy": "2023-02-15T09:11:17.119826Z",
     "iopub.status.idle": "2023-02-15T09:11:17.128693Z",
     "shell.execute_reply": "2023-02-15T09:11:17.127850Z"
    },
    "papermill": {
     "duration": 0.02027,
     "end_time": "2023-02-15T09:11:17.130757",
     "exception": false,
     "start_time": "2023-02-15T09:11:17.110487",
     "status": "completed"
    },
    "tags": []
   },
   "outputs": [],
   "source": [
    "def train_N_iters():\n",
    "    lm.train()\n",
    "    train_step_losses = []\n",
    "    val_losses = []\n",
    "    for batch in tqdm(range(Config.train_iters)):\n",
    "        optim.zero_grad()\n",
    "        inputs, targets = next(train_ds)\n",
    "        inputs, targets = inputs.to(device=Config.device), targets.to(device=Config.device)\n",
    "        logits = lm(inputs)\n",
    "        loss = loss_fn(logits,targets)\n",
    "        loss.backward()\n",
    "        optim.step()\n",
    "        train_step_losses.append(loss.item())\n",
    "        \n",
    "        if batch%(Config.train_iters//10)==0 or batch==Config.train_iters-1:\n",
    "            print(f\"\\n{'-'*50}\\nbatch {batch} train step loss: {loss.item()}\")\n",
    "            print(f\"train loss so far: {torch.tensor(train_step_losses).mean()}\\n{'-'*50}\\n\")\n",
    "            \n",
    "        if batch%Config.eval_interval==0 or batch==Config.train_iters-1:\n",
    "            lm.eval()\n",
    "            val_loss = valid_N_iters()\n",
    "            lm.train()\n",
    "            val_losses.append(val_loss.item())\n",
    "            \n",
    "            del val_loss\n",
    "            \n",
    "        del inputs, targets, loss, logits\n",
    "        \n",
    "    return train_step_losses, val_losses"
   ]
  },
  {
   "cell_type": "code",
   "execution_count": 90,
   "id": "723c6dc6",
   "metadata": {
    "execution": {
     "iopub.execute_input": "2023-02-15T09:11:17.148981Z",
     "iopub.status.busy": "2023-02-15T09:11:17.148172Z",
     "iopub.status.idle": "2023-02-15T09:11:17.153677Z",
     "shell.execute_reply": "2023-02-15T09:11:17.152843Z"
    },
    "papermill": {
     "duration": 0.016721,
     "end_time": "2023-02-15T09:11:17.155629",
     "exception": false,
     "start_time": "2023-02-15T09:11:17.138908",
     "status": "completed"
    },
    "tags": []
   },
   "outputs": [],
   "source": [
    "def save_lm():\n",
    "    state_dict = lm.state_dict()\n",
    "    save_path = Path('./').resolve() / 'swissGermanLiederGPT'\n",
    "    save_path.mkdir(exist_ok=True)\n",
    "    model_path = save_path / f'swissgermanliederGPT.pth'\n",
    "    torch.save(state_dict, model_path)"
   ]
  },
  {
   "cell_type": "code",
   "execution_count": 91,
   "id": "7827a39a",
   "metadata": {
    "execution": {
     "iopub.execute_input": "2023-02-15T09:11:17.173897Z",
     "iopub.status.busy": "2023-02-15T09:11:17.173116Z",
     "iopub.status.idle": "2023-02-15T09:11:17.177954Z",
     "shell.execute_reply": "2023-02-15T09:11:17.177125Z"
    },
    "papermill": {
     "duration": 0.015887,
     "end_time": "2023-02-15T09:11:17.179885",
     "exception": false,
     "start_time": "2023-02-15T09:11:17.163998",
     "status": "completed"
    },
    "tags": []
   },
   "outputs": [],
   "source": [
    "def train_lm():\n",
    "    train_step_losses,val_losses = train_N_iters()\n",
    "    save_lm()\n",
    "    return train_step_losses,val_losses"
   ]
  },
  {
   "cell_type": "code",
   "execution_count": null,
   "id": "c0a84475",
   "metadata": {
    "execution": {
     "iopub.execute_input": "2023-02-15T09:11:17.197847Z",
     "iopub.status.busy": "2023-02-15T09:11:17.197079Z",
     "iopub.status.idle": "2023-02-15T09:33:47.986916Z",
     "shell.execute_reply": "2023-02-15T09:33:47.985839Z"
    },
    "papermill": {
     "duration": 1350.802192,
     "end_time": "2023-02-15T09:33:47.990241",
     "exception": false,
     "start_time": "2023-02-15T09:11:17.188049",
     "status": "completed"
    },
    "tags": []
   },
   "outputs": [
    {
     "data": {
      "application/vnd.jupyter.widget-view+json": {
       "model_id": "79894c2ce7c644899caf1bf0506957b3",
       "version_major": 2,
       "version_minor": 0
      },
      "text/plain": [
       "  0%|          | 0/5000 [00:00<?, ?it/s]"
      ]
     },
     "metadata": {},
     "output_type": "display_data"
    },
    {
     "name": "stdout",
     "output_type": "stream",
     "text": [
      "\n",
      "--------------------------------------------------\n",
      "batch 0 train step loss: 8.323354721069336\n",
      "train loss so far: 8.323354721069336\n",
      "--------------------------------------------------\n",
      "\n"
     ]
    },
    {
     "data": {
      "application/vnd.jupyter.widget-view+json": {
       "model_id": "ae61f4d18fa543929be50cb6d44da3e3",
       "version_major": 2,
       "version_minor": 0
      },
      "text/plain": [
       "  0%|          | 0/500 [00:00<?, ?it/s]"
      ]
     },
     "metadata": {},
     "output_type": "display_data"
    },
    {
     "name": "stdout",
     "output_type": "stream",
     "text": [
      "val loss: 7.92919921875\n",
      "\n",
      "--------------------------------------------------\n",
      "batch 500 train step loss: 2.4998912811279297\n",
      "train loss so far: 3.617999315261841\n",
      "--------------------------------------------------\n",
      "\n",
      "\n",
      "--------------------------------------------------\n",
      "batch 1000 train step loss: 1.9604591131210327\n",
      "train loss so far: 2.9302666187286377\n",
      "--------------------------------------------------\n",
      "\n"
     ]
    },
    {
     "data": {
      "application/vnd.jupyter.widget-view+json": {
       "model_id": "2dc52d6d794e48e88f4c01a8d8defc32",
       "version_major": 2,
       "version_minor": 0
      },
      "text/plain": [
       "  0%|          | 0/500 [00:00<?, ?it/s]"
      ]
     },
     "metadata": {},
     "output_type": "display_data"
    },
    {
     "name": "stdout",
     "output_type": "stream",
     "text": [
      "val loss: 8.604765892028809\n",
      "\n",
      "--------------------------------------------------\n",
      "batch 1500 train step loss: 1.949377179145813\n",
      "train loss so far: 2.6020121574401855\n",
      "--------------------------------------------------\n",
      "\n",
      "\n",
      "--------------------------------------------------\n",
      "batch 2000 train step loss: 1.7468385696411133\n",
      "train loss so far: 2.410998582839966\n",
      "--------------------------------------------------\n",
      "\n"
     ]
    },
    {
     "data": {
      "application/vnd.jupyter.widget-view+json": {
       "model_id": "f04e4d51950d498197657aa5d2015860",
       "version_major": 2,
       "version_minor": 0
      },
      "text/plain": [
       "  0%|          | 0/500 [00:00<?, ?it/s]"
      ]
     },
     "metadata": {},
     "output_type": "display_data"
    },
    {
     "name": "stdout",
     "output_type": "stream",
     "text": [
      "val loss: 9.652796745300293\n",
      "\n",
      "--------------------------------------------------\n",
      "batch 2500 train step loss: 1.7489840984344482\n",
      "train loss so far: 2.2726047039031982\n",
      "--------------------------------------------------\n",
      "\n",
      "\n",
      "--------------------------------------------------\n",
      "batch 3000 train step loss: 1.740820288658142\n",
      "train loss so far: 2.1910197734832764\n",
      "--------------------------------------------------\n",
      "\n"
     ]
    },
    {
     "data": {
      "application/vnd.jupyter.widget-view+json": {
       "model_id": "29924a219a90465d8c7b2637f8fe25c9",
       "version_major": 2,
       "version_minor": 0
      },
      "text/plain": [
       "  0%|          | 0/500 [00:00<?, ?it/s]"
      ]
     },
     "metadata": {},
     "output_type": "display_data"
    },
    {
     "name": "stdout",
     "output_type": "stream",
     "text": [
      "val loss: 10.011834144592285\n",
      "\n",
      "--------------------------------------------------\n",
      "batch 3500 train step loss: 1.7330796718597412\n",
      "train loss so far: 2.129605531692505\n",
      "--------------------------------------------------\n",
      "\n",
      "\n",
      "--------------------------------------------------\n",
      "batch 4000 train step loss: 1.8590850830078125\n",
      "train loss so far: 2.078758955001831\n",
      "--------------------------------------------------\n",
      "\n"
     ]
    },
    {
     "data": {
      "application/vnd.jupyter.widget-view+json": {
       "model_id": "16ab14c18e6c4942a395314250861340",
       "version_major": 2,
       "version_minor": 0
      },
      "text/plain": [
       "  0%|          | 0/500 [00:00<?, ?it/s]"
      ]
     },
     "metadata": {},
     "output_type": "display_data"
    },
    {
     "name": "stdout",
     "output_type": "stream",
     "text": [
      "val loss: 10.106084823608398\n"
     ]
    }
   ],
   "source": [
    "tsl,vl=train_lm()"
   ]
  },
  {
   "cell_type": "code",
   "execution_count": 68,
   "id": "daf3fb0a",
   "metadata": {
    "execution": {
     "iopub.execute_input": "2023-02-15T09:33:48.013861Z",
     "iopub.status.busy": "2023-02-15T09:33:48.012779Z",
     "iopub.status.idle": "2023-02-15T09:33:48.020078Z",
     "shell.execute_reply": "2023-02-15T09:33:48.019165Z"
    },
    "papermill": {
     "duration": 0.020529,
     "end_time": "2023-02-15T09:33:48.022008",
     "exception": false,
     "start_time": "2023-02-15T09:33:48.001479",
     "status": "completed"
    },
    "tags": []
   },
   "outputs": [
    {
     "name": "stdout",
     "output_type": "stream",
     "text": [
      "Train Loss: 2.0008366107940674\n"
     ]
    }
   ],
   "source": [
    "tsl_mean = torch.tensor(tsl).mean()\n",
    "print('Train Loss:',tsl_mean.item())"
   ]
  },
  {
   "cell_type": "markdown",
   "id": "90615335",
   "metadata": {
    "papermill": {
     "duration": 0.010216,
     "end_time": "2023-02-15T09:33:48.042730",
     "exception": false,
     "start_time": "2023-02-15T09:33:48.032514",
     "status": "completed"
    },
    "tags": []
   },
   "source": [
    "# Loss Plots"
   ]
  },
  {
   "cell_type": "code",
   "execution_count": 69,
   "id": "2fb074fb",
   "metadata": {
    "execution": {
     "iopub.execute_input": "2023-02-15T09:33:48.066039Z",
     "iopub.status.busy": "2023-02-15T09:33:48.065700Z",
     "iopub.status.idle": "2023-02-15T09:33:48.472232Z",
     "shell.execute_reply": "2023-02-15T09:33:48.471333Z"
    },
    "papermill": {
     "duration": 0.421471,
     "end_time": "2023-02-15T09:33:48.474238",
     "exception": false,
     "start_time": "2023-02-15T09:33:48.052767",
     "status": "completed"
    },
    "tags": []
   },
   "outputs": [
    {
     "data": {
      "image/png": "[encoded data removed]",
      "text/plain": [
       "<Figure size 640x480 with 1 Axes>"
      ]
     },
     "metadata": {},
     "output_type": "display_data"
    },
    {
     "data": {
      "image/png": "[encoded data removed]",
      "text/plain": [
       "<Figure size 640x480 with 1 Axes>"
      ]
     },
     "metadata": {},
     "output_type": "display_data"
    }
   ],
   "source": [
    "plt.plot(tsl,label='train step loss',color='orange')\n",
    "plt.legend()\n",
    "plt.show()\n",
    "plt.plot(vl,label='validation loss',color='green')\n",
    "plt.legend()\n",
    "plt.show()"
   ]
  },
  {
   "cell_type": "markdown",
   "id": "de2b6fc7",
   "metadata": {
    "papermill": {
     "duration": 0.0103,
     "end_time": "2023-02-15T09:33:48.495243",
     "exception": false,
     "start_time": "2023-02-15T09:33:48.484943",
     "status": "completed"
    },
    "tags": []
   },
   "source": [
    "# Generating"
   ]
  },
  {
   "cell_type": "code",
   "execution_count": 70,
   "id": "17eed1d8",
   "metadata": {
    "execution": {
     "iopub.execute_input": "2023-02-15T09:33:48.518097Z",
     "iopub.status.busy": "2023-02-15T09:33:48.517235Z",
     "iopub.status.idle": "2023-02-15T09:34:05.249521Z",
     "shell.execute_reply": "2023-02-15T09:34:05.246784Z"
    },
    "papermill": {
     "duration": 16.747131,
     "end_time": "2023-02-15T09:34:05.252804",
     "exception": false,
     "start_time": "2023-02-15T09:33:48.505673",
     "status": "completed"
    },
    "tags": []
   },
   "outputs": [
    {
     "name": "stdout",
     "output_type": "stream",
     "text": [
      "generated (100 tokens)\n",
      "==================================================\n",
      "tce Huus buut\n",
      "uf dr\n",
      "All dr Schultre\n",
      "„ doch o nüt\n",
      "und verschlasch viil\n",
      "we me weiss nid wie du irgendwo ufemne Balkon gholt, wet wyter, i heig ne hie\n",
      "Wirfsch eifach d’Ouge luege und zue mr das Glas no chli nöcher\n",
      "Chumm doch no chli nöcher\n",
      "vore, de Papier\n",
      "Chum doch nie\n",
      "\n",
      "\n",
      " andrem, dür die Bed nid nöcher\n",
      "Lue mal a uf wär drannen isch’flicke\n",
      "Es\n",
      "==================================================\n",
      "\n",
      "\n",
      "generated (300 tokens)\n",
      "==================================================\n",
      "t me wartet, z’s däm Zimmer\n",
      "Wene dr Motor nid uftue?\n",
      "\n",
      "Dr Aabe zue a Hut, was d’Wohnigstür zue u blybe, wo eifach Darf i?\n",
      "Chunnt scho denn mi i däm Meitschi, wo si bout, wo nid gha\n",
      "I däm Park, aber nümm so lang\n",
      "Dini Chel Gsicht drückt\n",
      "deech uf ds Schwyzer Irgendbi mi nid\n",
      "\n",
      "U das Echo vo de bini o nid!\n",
      "de kenni di\n",
      "Schwartet\n",
      "We dr ganz einzle, aber nüt ussert öier Lugi wärde\n",
      "Meinsch di no dr Erlö mi Wahrheit no ume bisch\n",
      "U we dir das hätt niemer gwüsst\n",
      "Meinsch öpper mi us de Tor\n",
      "Ds Loub für was unde ar Halle bränkt u ha ghört, u när hi, i ha nes Chind schlyssig tue me gseht, u Brügge gleit\n",
      "dass, läbsch fangs mal uf d’Luft hie, sy lengscht läär\n",
      "\n",
      "u däm Meitschi dert isch vil z’Händ i de Koch e Antwort hani ne\n",
      "Geschter Tal dr Ski, das geng e Tisch\n",
      "d n o nid, u ga i mir Chind nachem andre cho\n",
      "\n",
      "\n",
      "mir mache doch no ds Grüble wäg Aabe zue uf di Schatte\n",
      "Knapp ännet dr alte Vishphet wo eim o nid rächt gwüsst, u o\n",
      "\n",
      "E Sturm hie, Jenä, hesch zrugg glah\n",
      "Ha dä, aber gly holt chli Proviel mr hie\n",
      "\n",
      "==================================================\n",
      "\n",
      "\n",
      "generated (500 tokens)\n",
      "==================================================\n",
      "ti däm immer no git\n",
      "We dr Bleichi vom Mond\n",
      "u alli uf mi Familie lä hie\n",
      "\n",
      "Dert wo si bruuche, wo landet ufem Strommascht, u ufem Strommascht\n",
      "Womeld’Farbe a dr Rouch Rakowska\n",
      "\n",
      "Dert wo d’Mischtelchnöiel i heig chli versteit\n",
      "Wie Rakowska\n",
      "U du bisch irgendwo dert hani die hani die Bilder mit mr dä Vogelschwarm, während emne VierteljahrWo d’Boumwipfel im Näbel verbleiche, d’Mischtelchnöiel d’Farbe a de Böim vo i dr Rouch wo d’Farbe a sich verlüürt überem Ziegeldach\n",
      "d’Wohnig gschtriche mit mr gno e trüebe Tag hie\n",
      "e Rosswage halb versunke sitze\n",
      "I de Böim vo där Allee\n",
      "Dert wo d’Fänschter gsprunge u d’Fänschter gsprunge\n",
      "I ha gmacht sy gsprunge vo där Allee\n",
      "Dert wo i de Böim vo där Allee\n",
      "Wo d’Mischtelchnöiel i d’Fänschter gsprunge\n",
      "Wie schiffbrüchig uf Afrikan drin stah, wo d’Nacht und zue\n",
      "Wo d’Mischtelchnöiel i de Hüser scho gsy\n",
      "Wome e Familie yzoge\n",
      "uf dr Rouch wo si bruuche,vo dert hani die Bilder mit dir a dr Insel\n",
      "Überlah was du irgendwo dert hani a\n",
      "Dert wo si bruuche,vo dert hani die glychi Spur dert hani die Bilder gwächslet nadisna\n",
      "Dert wo vergeit da\n",
      "s hie\n",
      "Dert wo d’ha syt, und i wo no nid mal d’Chind wo alls drin Afrikaner,vo däm See\n",
      "Dert wo z’Mischtelchnöiel i de Hüser scho chli duuch sy, wie das hani i si bruuche, sy müedWo si bruuche, das denn hani glehrt\n",
      "vo dert hani fasch emne Vierteljahr\n",
      "vo dert jede Ring\n",
      "über o\n",
      "Dert wo’LuftFänschter gsprunge\n",
      "I gsiech\n",
      "wo chli duuch sy verschisch e trüebe Tag sech spieglet fasch emne VierteljahrWo dert hani die Bilder gwächslet nadisna\n",
      "Wo no nid mal link zrügg\n",
      "Dert z’Fänschter gsprunge, ob öppis das Wasser\n",
      "Uni weiss nid eso gross,\n",
      "Dert wo öpper möcht, de kahle pflüegte Fälder näbedra,\n",
      "U\n",
      "d’Tor, das hani die Bilder mit Finger,t d’Ouge luegt’Mischtelchnöiel i ds Wasser bewe d’And i dr Bar,\n",
      "wo öpper möcht,\n",
      "I gsiechsch denn er mit mr weni de Böim vo mängem, sy, wo d’s, wird ono git z’Farbe a dr Insel cho\n",
      "elossier chli duuch sy, wo no Rosswage halb versunkee Rosswage halb versunke i dr Sunschtet d\n",
      "==================================================\n",
      "\n",
      "\n",
      "generated (700 tokens)\n",
      "==================================================\n",
      "t F bi fasch\n",
      "Uni hange jede sött eis ha gwartet uf dr Morge unterlah\n",
      "I ha gseit, wo d’Täg trybt\n",
      "U du ihm säge\n",
      "Nume Z\n",
      "Jitz dänki wo sich Frage uf dr Seil’Ung Wand\n",
      "Si mache üs scho es si hei i ha!\n",
      "U vo mir’s warm\n",
      "\n",
      "I ha’ ändlich nüm gwüsst du gsiech i,\n",
      "U d’ha ga dert jede Tag\n",
      "U i das useptet si dert jede ha mrs nomal e, es trifft sich ds Läbe hie, was unde\n",
      "ihre Rucksack scho es trifft sich sälber\n",
      " Rucksack scho lang gä hets viil um das Glas no ds Tal, Cecylia Rakowska\n",
      "U weisch:\n",
      "\n",
      "Irgendwo uf\n",
      "W ihri Sorge sy müeder\n",
      "Es chlyses Füür faht nech uf wär?\n",
      "Ds Brot gcherkan mr di glyche Gbe touft d’Strass isch\n",
      "So long\n",
      "U um mi troffe, was unde ar, u ygsetz, wome cha passiere\n",
      "si ufem Lavänd gsehsch, wo gar nid gha\n",
      "i ha mal bi syt jahre hie\n",
      "U wenni still u im Gsicht\n",
      "Würdsch du hesch ja Träne i dr Zwore mi Wahrheit no mi a Zuefallndescht, dert 2 Gei ufstah, u däm Wachta y?\n",
      "Schwarzes chunnt d’gloube, het gschwige\n",
      "miti dörfe, wo villichtckt u o nid weisch, de Ouge\n",
      "Chasch uf d’Füüscht\n",
      "Säg mr halt chli Prophet sech das, a Arscher dere töif verschrächte, wo gar nümm y?\n",
      "Jitz chame sech d’Ungrächt u mir nid gnue gha, u dr Morgedämmrig,\n",
      "Chumm, du seisch wartet\n",
      "Si hei chönne anstatt nume, het ke Ahnig gha\n",
      "So her?\n",
      "weisch, wo mr uss u Schnee\n",
      "U mir o besser\n",
      "Zller?\n",
      "Schn wach sy si da, d’Birrteil\n",
      "U i d’Steit\n",
      "I weiss?\n",
      "I weiss doch no chli\n",
      "I ha no meh Füürzesto schwiriger Jahr\n",
      "Jitz het niemer je hätte gstumme, de o nüt z’E Chiiswäg spazierend seit si sy’Nachtre, u o\n",
      "\n",
      "U i ha\n",
      "\n",
      "U die Chrankheit lengscht läär\n",
      "All die alte Lötschbärgstrass\n",
      "E Primit isch halt när no ds Huus het, u si\n",
      "Säg, ob me weiss, sig ja nid so läär jitz nüt, de Ouge\n",
      "Irgendöpper het niemer sech gspieglet de glych\n",
      "I ha p, woni gloube me nimmt si hei ertreitnschi dir o nid, i gloube a: Üses e Wäg\n",
      "I ha mal a dini U im Buuch,\n",
      "Byssisch uf d’s hie\n",
      "Lötschbärgstrass z’Zähn, u mitni Fridhofsch mi la\n",
      "\n",
      "\n",
      "Chumm wüsse all die gloube a Wahrheit no chunnt hie nume no öpper wo si villecht liechtigkeit\n",
      "So long, wil i Chaltni Fridhof, we das no\n",
      "Alli ufem Tisch, wo ds Läbe, wo nid het gschwige, i gloube a di\n",
      "Ob si schlafe\n",
      "Chömet Fründe, säge chli versteit\n",
      "U i gloube a di nid weisch, ob me seit nume ei fescht wo mer duss im Buuch, d’s hei gseh gha, wome cha alls besytige\n",
      "Chömet Fründe, wo im Summer Uarte ufesch welle\n",
      "Uf die vo üs wo Wäge sueche\n",
      "Chömet Fründe, wome cha’sli dürgeseh\n",
      "\n",
      "==================================================\n",
      "\n",
      "\n",
      "generated (1000 tokens)\n",
      "==================================================\n",
      "t\n",
      "i la gah, gseht me ufgwachse z‘s i finde di rächteu gseit. Mr sy si wälz gnue, bis dr Götter vergliche, wo hüü, wo mir hei Ko. I weiss nüd vo wo wüsse, ha d‘s ziehni si seit zu dir u wär‘Nächt wärde d‘s chalt, i finde di, wo di no dr Herbscht chunnt\n",
      "\n",
      "\n",
      "Neon Liecht Meitschi miech, di Erschte göh scho, bitte Bscheid, de nimmtare isch nümme läng gnue de wünschet i‘s scho hei kennegleis, wo mer am säg mal die Jahr, was i la di wach, i finde, wo ihri Burs wider mitnäh, i ihrer Strass di\n",
      "U sech nand, wo si‘s verdient.\n",
      "U si gseht sälte gseh, mängisch gsy: Närär het die wärde nume i de Klarussell no e Stönd u warte, wo dr di um si meh als hie hüt i dä wo si het mitgnoh, Neon Liecht Meitschi, si het, wo nüt het mi nid!\n",
      "So sy, u mit rote Ouge, wo si dänkt ghöri obe bir wo när gad sy, wo‘sne wo landet, het di geng u si säge, wo si isch. Gschyd.\n",
      "Mir hei d‘spät isch allei da. U e Städte Ouge\n",
      "Si lütig u ne a ihrem Stöte Ouge, wo mir je, obe sälber weisch, i la\n",
      "U si nennes all die Stäge u all die Jahr. Säg, aber du wyter, Neon Liecht Meitschi u dim Thron, bis dr Herbscht chunnt dä Troum begrabe gha. I biege y bim nächschte Raschtstäg mal z‘tüel guet heichleider, du uss.\n",
      "\n",
      "U nid Hidet sy lütigange, wie grösser, u niemer gwüsst, oder isch‘Liechtigkeit vo dene böse Jahr. Uf em Finger uf verzelle, dr Zwyfel du hättsch no ma kes meh verzellt\n",
      "Si luute da und är weiss es Hemli treit\n",
      "i sy, de blinke Armehalte treit\n",
      "i sy irgendwie, gseht, z’s ja dä Sturm chunnt\n",
      "Jitze sitzid mal anders wird ono git für „Erinnerisch bi“)\n",
      "Si mache jede gseht mit jedem Finger une Chind, wo tuupüie Lötschbärgstrasses irgendwo im Sand. Si seit er e Gara es nechilieönchunnschDas sy vor de Hüser när gö heichfallsnd u alli Ar nid beschwäre mir geit’isch niene das\n",
      "E Chiiswäg spazierend seit: Es niene hi.“\n",
      "Das sy isch nümme cha’Sunne geit im Näbel niene hi mr hei mrsrdorf zrügg, mir hei gseh o tönt, öpper dänkt\n",
      "Ds Läbe an sich nid zwöndheit hesch gchüschelet,Vrby wüsse\n",
      "We sich\n",
      "hsch‘ehethis jede Tag, s’Wält sy erwachet ghörsch üs zwöi drü Jd’s wüsse flüchtetgch glychi Zyt, vo hie glych nid. I bi Wie si nid gsamm isch wider mal beschwäreet, wott gläs e Mörder oder Liebi hei gseh stah, wott syt“\n",
      "We, u o so lang\n",
      "\n",
      "Ussert dene streunende Hünd\n",
      "I jedem Oug begägnet isch nid\n",
      "Uni weiss es ds Läbe an sich\n",
      "D’Sunne geit mi nomal e chli ds Läbe sond uusgass über d’s gäg gseit so Angscht si mers gloubt. „Langlegtor the Cu set, wo si dänkt ghöri o.\n",
      "\n",
      "\n",
      "Uni muess e chli meh geit im Radio gseit, die Zyt blinkeet mi i würd gä, z’s, drü Tag nöcher\n",
      "Aber über si erwachet ghörsch\n",
      "Tusse\n",
      "Aber sälber mi vo all die Zytlige um Nei, e Parisienne füre Das dert ält: „Bis dänke:\n",
      "Mär sälber cha bruche ander läär jitz nonerei gha u seit: „Säg mr weni näh innerlich gmacht sy, chunnt di\n",
      "vom Stig duss ligt’Erinnerigm, was morn, u hei mir hei Schlüge gilt\n",
      "\n",
      "u die Zyt:\n",
      "I ha geng, ihri Hand in\n",
      "De het me weiss es chunnt scho fasch z’Mal\n",
      "Ds Let, all die Wuche\n",
      "„Muesch ke Land in Arm wie d’Prüefig, mir fasch jede Fall\n",
      "Es chunnt scho guet heiser: „Los mal ehrlich nid zell usgrächte, we du drby.\n",
      "Ha dä Tag i ha no e Myspa Rakowska\n",
      "Ds Mondliecht wirft geng ds Zer, de Hüser, chunnt scho guet\n",
      "ui Frou heiser: „S si hie\n",
      "Dr Juni bi o nid mal chli duuch sy veretisch niene wie dehei“\n",
      "Mängisch dünkt’s ehrlich: Das hani eifach hei gseh stah, d’s louft\n",
      "\n",
      "Uni weiss nid\n",
      "Jitz isch sini Band touft\n",
      "==================================================\n",
      "\n",
      "\n"
     ]
    }
   ],
   "source": [
    "generated_texts = []\n",
    "for length in [100,300,500,700,1000]:\n",
    "    generated = lm.generate(\n",
    "    torch.zeros((1,1),dtype=torch.long,device=Config.device)+61, # initial context 61 (i believe its \\n)\n",
    "    total=length\n",
    ")\n",
    "    generated = tokenizer.decode(generated[0].cpu().numpy())\n",
    "    text=f'generated ({length} tokens)\\n{\"=\"*50}\\n{generated}\\n{\"=\"*50}\\n\\n'\n",
    "    generated_texts.append(text)\n",
    "    print(text)"
   ]
  },
  {
   "cell_type": "code",
   "execution_count": 26,
   "id": "b37c725f",
   "metadata": {
    "execution": {
     "iopub.execute_input": "2023-02-15T09:34:05.277240Z",
     "iopub.status.busy": "2023-02-15T09:34:05.276908Z",
     "iopub.status.idle": "2023-02-15T09:34:05.282207Z",
     "shell.execute_reply": "2023-02-15T09:34:05.281145Z"
    },
    "papermill": {
     "duration": 0.0195,
     "end_time": "2023-02-15T09:34:05.284348",
     "exception": false,
     "start_time": "2023-02-15T09:34:05.264848",
     "status": "completed"
    },
    "tags": []
   },
   "outputs": [],
   "source": [
    "with open('generated.txt','w') as f:\n",
    "    for text in generated_texts:\n",
    "        f.write(text)"
   ]
  },
  {
   "cell_type": "markdown",
   "id": "3f72cf09",
   "metadata": {
    "papermill": {
     "duration": 0.010765,
     "end_time": "2023-02-15T09:34:05.306491",
     "exception": false,
     "start_time": "2023-02-15T09:34:05.295726",
     "status": "completed"
    },
    "tags": []
   },
   "source": [
    "---\n",
    "\n",
    "Full code: [shakespeareGPT](https://github.com/shreydan/shakespeareGPT)\n",
    "\n",
    "Follow [@shreydan](https://kaggle.com/shreydan) for more :)"
   ]
  }
 ],
 "metadata": {
  "kernelspec": {
   "display_name": "Python 3 (ipykernel)",
   "language": "python",
   "name": "python3"
  },
  "language_info": {
   "codemirror_mode": {
    "name": "ipython",
    "version": 3
   },
   "file_extension": ".py",
   "mimetype": "text/x-python",
   "name": "python",
   "nbconvert_exporter": "python",
   "pygments_lexer": "ipython3",
   "version": "3.10.12"
  },
  "papermill": {
   "default_parameters": {},
   "duration": 1398.484964,
   "end_time": "2023-02-15T09:34:06.443779",
   "environment_variables": {},
   "exception": null,
   "input_path": "__notebook__.ipynb",
   "output_path": "__notebook__.ipynb",
   "parameters": {},
   "start_time": "2023-02-15T09:10:47.958815",
   "version": "2.3.4"
  },
  "widgets": {
   "application/vnd.jupyter.widget-state+json": {
    "state": {
     "01e49664798c4a41963aef0da5ea61cd": {
      "model_module": "@jupyter-widgets/base",
      "model_module_version": "1.2.0",
      "model_name": "LayoutModel",
      "state": {
       "_model_module": "@jupyter-widgets/base",
       "_model_module_version": "1.2.0",
       "_model_name": "LayoutModel",
       "_view_count": null,
       "_view_module": "@jupyter-widgets/base",
       "_view_module_version": "1.2.0",
       "_view_name": "LayoutView",
       "align_content": null,
       "align_items": null,
       "align_self": null,
       "border": null,
       "bottom": null,
       "display": null,
       "flex": null,
       "flex_flow": null,
       "grid_area": null,
       "grid_auto_columns": null,
       "grid_auto_flow": null,
       "grid_auto_rows": null,
       "grid_column": null,
       "grid_gap": null,
       "grid_row": null,
       "grid_template_areas": null,
       "grid_template_columns": null,
       "grid_template_rows": null,
       "height": null,
       "justify_content": null,
       "justify_items": null,
       "left": null,
       "margin": null,
       "max_height": null,
       "max_width": null,
       "min_height": null,
       "min_width": null,
       "object_fit": null,
       "object_position": null,
       "order": null,
       "overflow": null,
       "overflow_x": null,
       "overflow_y": null,
       "padding": null,
       "right": null,
       "top": null,
       "visibility": null,
       "width": null
      }
     },
     "04a37df78f904fd89dbdccbd74a3aab9": {
      "model_module": "@jupyter-widgets/controls",
      "model_module_version": "1.5.0",
      "model_name": "HTMLModel",
      "state": {
       "_dom_classes": [],
       "_model_module": "@jupyter-widgets/controls",
       "_model_module_version": "1.5.0",
       "_model_name": "HTMLModel",
       "_view_count": null,
       "_view_module": "@jupyter-widgets/controls",
       "_view_module_version": "1.5.0",
       "_view_name": "HTMLView",
       "description": "",
       "description_tooltip": null,
       "layout": "IPY_MODEL_2c9a729a036d4660826962bf002067c9",
       "placeholder": "​",
       "style": "IPY_MODEL_c9c8b8c2f03c49978659a213921061ce",
       "value": "100%"
      }
     },
     "0c1bb9edf3aa4ad39461868b23624020": {
      "model_module": "@jupyter-widgets/controls",
      "model_module_version": "1.5.0",
      "model_name": "HTMLModel",
      "state": {
       "_dom_classes": [],
       "_model_module": "@jupyter-widgets/controls",
       "_model_module_version": "1.5.0",
       "_model_name": "HTMLModel",
       "_view_count": null,
       "_view_module": "@jupyter-widgets/controls",
       "_view_module_version": "1.5.0",
       "_view_name": "HTMLView",
       "description": "",
       "description_tooltip": null,
       "layout": "IPY_MODEL_6c6f27552f054f51a1a018637b5c9688",
       "placeholder": "​",
       "style": "IPY_MODEL_6929da4e565a4f5fb16f028691ba2728",
       "value": " 500/500 [00:35&lt;00:00, 14.22it/s]"
      }
     },
     "13583d5795a4460c9dfc81f326737c93": {
      "model_module": "@jupyter-widgets/controls",
      "model_module_version": "1.5.0",
      "model_name": "DescriptionStyleModel",
      "state": {
       "_model_module": "@jupyter-widgets/controls",
       "_model_module_version": "1.5.0",
       "_model_name": "DescriptionStyleModel",
       "_view_count": null,
       "_view_module": "@jupyter-widgets/base",
       "_view_module_version": "1.2.0",
       "_view_name": "StyleView",
       "description_width": ""
      }
     },
     "146667163cab4b648695d37e279e53ba": {
      "model_module": "@jupyter-widgets/controls",
      "model_module_version": "1.5.0",
      "model_name": "DescriptionStyleModel",
      "state": {
       "_model_module": "@jupyter-widgets/controls",
       "_model_module_version": "1.5.0",
       "_model_name": "DescriptionStyleModel",
       "_view_count": null,
       "_view_module": "@jupyter-widgets/base",
       "_view_module_version": "1.2.0",
       "_view_name": "StyleView",
       "description_width": ""
      }
     },
     "15177ee94df14fe19dc8104a095b1aa7": {
      "model_module": "@jupyter-widgets/base",
      "model_module_version": "1.2.0",
      "model_name": "LayoutModel",
      "state": {
       "_model_module": "@jupyter-widgets/base",
       "_model_module_version": "1.2.0",
       "_model_name": "LayoutModel",
       "_view_count": null,
       "_view_module": "@jupyter-widgets/base",
       "_view_module_version": "1.2.0",
       "_view_name": "LayoutView",
       "align_content": null,
       "align_items": null,
       "align_self": null,
       "border": null,
       "bottom": null,
       "display": null,
       "flex": null,
       "flex_flow": null,
       "grid_area": null,
       "grid_auto_columns": null,
       "grid_auto_flow": null,
       "grid_auto_rows": null,
       "grid_column": null,
       "grid_gap": null,
       "grid_row": null,
       "grid_template_areas": null,
       "grid_template_columns": null,
       "grid_template_rows": null,
       "height": null,
       "justify_content": null,
       "justify_items": null,
       "left": null,
       "margin": null,
       "max_height": null,
       "max_width": null,
       "min_height": null,
       "min_width": null,
       "object_fit": null,
       "object_position": null,
       "order": null,
       "overflow": null,
       "overflow_x": null,
       "overflow_y": null,
       "padding": null,
       "right": null,
       "top": null,
       "visibility": null,
       "width": null
      }
     },
     "1712214f696a48a8bc23d1a56c568b1c": {
      "model_module": "@jupyter-widgets/base",
      "model_module_version": "1.2.0",
      "model_name": "LayoutModel",
      "state": {
       "_model_module": "@jupyter-widgets/base",
       "_model_module_version": "1.2.0",
       "_model_name": "LayoutModel",
       "_view_count": null,
       "_view_module": "@jupyter-widgets/base",
       "_view_module_version": "1.2.0",
       "_view_name": "LayoutView",
       "align_content": null,
       "align_items": null,
       "align_self": null,
       "border": null,
       "bottom": null,
       "display": null,
       "flex": null,
       "flex_flow": null,
       "grid_area": null,
       "grid_auto_columns": null,
       "grid_auto_flow": null,
       "grid_auto_rows": null,
       "grid_column": null,
       "grid_gap": null,
       "grid_row": null,
       "grid_template_areas": null,
       "grid_template_columns": null,
       "grid_template_rows": null,
       "height": null,
       "justify_content": null,
       "justify_items": null,
       "left": null,
       "margin": null,
       "max_height": null,
       "max_width": null,
       "min_height": null,
       "min_width": null,
       "object_fit": null,
       "object_position": null,
       "order": null,
       "overflow": null,
       "overflow_x": null,
       "overflow_y": null,
       "padding": null,
       "right": null,
       "top": null,
       "visibility": null,
       "width": null
      }
     },
     "18107bc199fc4991b328ec1edb5e5723": {
      "model_module": "@jupyter-widgets/base",
      "model_module_version": "1.2.0",
      "model_name": "LayoutModel",
      "state": {
       "_model_module": "@jupyter-widgets/base",
       "_model_module_version": "1.2.0",
       "_model_name": "LayoutModel",
       "_view_count": null,
       "_view_module": "@jupyter-widgets/base",
       "_view_module_version": "1.2.0",
       "_view_name": "LayoutView",
       "align_content": null,
       "align_items": null,
       "align_self": null,
       "border": null,
       "bottom": null,
       "display": null,
       "flex": null,
       "flex_flow": null,
       "grid_area": null,
       "grid_auto_columns": null,
       "grid_auto_flow": null,
       "grid_auto_rows": null,
       "grid_column": null,
       "grid_gap": null,
       "grid_row": null,
       "grid_template_areas": null,
       "grid_template_columns": null,
       "grid_template_rows": null,
       "height": null,
       "justify_content": null,
       "justify_items": null,
       "left": null,
       "margin": null,
       "max_height": null,
       "max_width": null,
       "min_height": null,
       "min_width": null,
       "object_fit": null,
       "object_position": null,
       "order": null,
       "overflow": null,
       "overflow_x": null,
       "overflow_y": null,
       "padding": null,
       "right": null,
       "top": null,
       "visibility": null,
       "width": null
      }
     },
     "1abeb0e87cf3444badbbf986353385da": {
      "model_module": "@jupyter-widgets/base",
      "model_module_version": "1.2.0",
      "model_name": "LayoutModel",
      "state": {
       "_model_module": "@jupyter-widgets/base",
       "_model_module_version": "1.2.0",
       "_model_name": "LayoutModel",
       "_view_count": null,
       "_view_module": "@jupyter-widgets/base",
       "_view_module_version": "1.2.0",
       "_view_name": "LayoutView",
       "align_content": null,
       "align_items": null,
       "align_self": null,
       "border": null,
       "bottom": null,
       "display": null,
       "flex": null,
       "flex_flow": null,
       "grid_area": null,
       "grid_auto_columns": null,
       "grid_auto_flow": null,
       "grid_auto_rows": null,
       "grid_column": null,
       "grid_gap": null,
       "grid_row": null,
       "grid_template_areas": null,
       "grid_template_columns": null,
       "grid_template_rows": null,
       "height": null,
       "justify_content": null,
       "justify_items": null,
       "left": null,
       "margin": null,
       "max_height": null,
       "max_width": null,
       "min_height": null,
       "min_width": null,
       "object_fit": null,
       "object_position": null,
       "order": null,
       "overflow": null,
       "overflow_x": null,
       "overflow_y": null,
       "padding": null,
       "right": null,
       "top": null,
       "visibility": null,
       "width": null
      }
     },
     "2151067456b940809c8b71b5120449b5": {
      "model_module": "@jupyter-widgets/controls",
      "model_module_version": "1.5.0",
      "model_name": "FloatProgressModel",
      "state": {
       "_dom_classes": [],
       "_model_module": "@jupyter-widgets/controls",
       "_model_module_version": "1.5.0",
       "_model_name": "FloatProgressModel",
       "_view_count": null,
       "_view_module": "@jupyter-widgets/controls",
       "_view_module_version": "1.5.0",
       "_view_name": "ProgressView",
       "bar_style": "success",
       "description": "",
       "description_tooltip": null,
       "layout": "IPY_MODEL_1712214f696a48a8bc23d1a56c568b1c",
       "max": 500,
       "min": 0,
       "orientation": "horizontal",
       "style": "IPY_MODEL_3bebe4f57cdf4989aee3bd92834068a2",
       "value": 500
      }
     },
     "268c5b06347b4c10811c78bbf6539984": {
      "model_module": "@jupyter-widgets/controls",
      "model_module_version": "1.5.0",
      "model_name": "FloatProgressModel",
      "state": {
       "_dom_classes": [],
       "_model_module": "@jupyter-widgets/controls",
       "_model_module_version": "1.5.0",
       "_model_name": "FloatProgressModel",
       "_view_count": null,
       "_view_module": "@jupyter-widgets/controls",
       "_view_module_version": "1.5.0",
       "_view_name": "ProgressView",
       "bar_style": "success",
       "description": "",
       "description_tooltip": null,
       "layout": "IPY_MODEL_a9d849f473ac4ee595ff0d41b0df58a6",
       "max": 5000,
       "min": 0,
       "orientation": "horizontal",
       "style": "IPY_MODEL_559e0245b6234c78818d2a55fa465a01",
       "value": 5000
      }
     },
     "2c9a729a036d4660826962bf002067c9": {
      "model_module": "@jupyter-widgets/base",
      "model_module_version": "1.2.0",
      "model_name": "LayoutModel",
      "state": {
       "_model_module": "@jupyter-widgets/base",
       "_model_module_version": "1.2.0",
       "_model_name": "LayoutModel",
       "_view_count": null,
       "_view_module": "@jupyter-widgets/base",
       "_view_module_version": "1.2.0",
       "_view_name": "LayoutView",
       "align_content": null,
       "align_items": null,
       "align_self": null,
       "border": null,
       "bottom": null,
       "display": null,
       "flex": null,
       "flex_flow": null,
       "grid_area": null,
       "grid_auto_columns": null,
       "grid_auto_flow": null,
       "grid_auto_rows": null,
       "grid_column": null,
       "grid_gap": null,
       "grid_row": null,
       "grid_template_areas": null,
       "grid_template_columns": null,
       "grid_template_rows": null,
       "height": null,
       "justify_content": null,
       "justify_items": null,
       "left": null,
       "margin": null,
       "max_height": null,
       "max_width": null,
       "min_height": null,
       "min_width": null,
       "object_fit": null,
       "object_position": null,
       "order": null,
       "overflow": null,
       "overflow_x": null,
       "overflow_y": null,
       "padding": null,
       "right": null,
       "top": null,
       "visibility": null,
       "width": null
      }
     },
     "2fcf931cc1f44451af45f9654b16c2d0": {
      "model_module": "@jupyter-widgets/controls",
      "model_module_version": "1.5.0",
      "model_name": "DescriptionStyleModel",
      "state": {
       "_model_module": "@jupyter-widgets/controls",
       "_model_module_version": "1.5.0",
       "_model_name": "DescriptionStyleModel",
       "_view_count": null,
       "_view_module": "@jupyter-widgets/base",
       "_view_module_version": "1.2.0",
       "_view_name": "StyleView",
       "description_width": ""
      }
     },
     "310e8e43e66d4133b9f74854bb2434da": {
      "model_module": "@jupyter-widgets/controls",
      "model_module_version": "1.5.0",
      "model_name": "HBoxModel",
      "state": {
       "_dom_classes": [],
       "_model_module": "@jupyter-widgets/controls",
       "_model_module_version": "1.5.0",
       "_model_name": "HBoxModel",
       "_view_count": null,
       "_view_module": "@jupyter-widgets/controls",
       "_view_module_version": "1.5.0",
       "_view_name": "HBoxView",
       "box_style": "",
       "children": [
        "IPY_MODEL_ff14b0e51bff44159fed49e2dcfb8816",
        "IPY_MODEL_c4a7a87ee46b481c8e7efc9bef0b0293",
        "IPY_MODEL_b3d234aea6b940659f6aa236f1e8e94b"
       ],
       "layout": "IPY_MODEL_a6a4b2e562db4c96aba2bcb685c8063c"
      }
     },
     "32137149cd124a68a645b42d0d2d5820": {
      "model_module": "@jupyter-widgets/base",
      "model_module_version": "1.2.0",
      "model_name": "LayoutModel",
      "state": {
       "_model_module": "@jupyter-widgets/base",
       "_model_module_version": "1.2.0",
       "_model_name": "LayoutModel",
       "_view_count": null,
       "_view_module": "@jupyter-widgets/base",
       "_view_module_version": "1.2.0",
       "_view_name": "LayoutView",
       "align_content": null,
       "align_items": null,
       "align_self": null,
       "border": null,
       "bottom": null,
       "display": null,
       "flex": null,
       "flex_flow": null,
       "grid_area": null,
       "grid_auto_columns": null,
       "grid_auto_flow": null,
       "grid_auto_rows": null,
       "grid_column": null,
       "grid_gap": null,
       "grid_row": null,
       "grid_template_areas": null,
       "grid_template_columns": null,
       "grid_template_rows": null,
       "height": null,
       "justify_content": null,
       "justify_items": null,
       "left": null,
       "margin": null,
       "max_height": null,
       "max_width": null,
       "min_height": null,
       "min_width": null,
       "object_fit": null,
       "object_position": null,
       "order": null,
       "overflow": null,
       "overflow_x": null,
       "overflow_y": null,
       "padding": null,
       "right": null,
       "top": null,
       "visibility": null,
       "width": null
      }
     },
     "363fef9cfd3247f1ab50810f666e19c7": {
      "model_module": "@jupyter-widgets/base",
      "model_module_version": "1.2.0",
      "model_name": "LayoutModel",
      "state": {
       "_model_module": "@jupyter-widgets/base",
       "_model_module_version": "1.2.0",
       "_model_name": "LayoutModel",
       "_view_count": null,
       "_view_module": "@jupyter-widgets/base",
       "_view_module_version": "1.2.0",
       "_view_name": "LayoutView",
       "align_content": null,
       "align_items": null,
       "align_self": null,
       "border": null,
       "bottom": null,
       "display": null,
       "flex": null,
       "flex_flow": null,
       "grid_area": null,
       "grid_auto_columns": null,
       "grid_auto_flow": null,
       "grid_auto_rows": null,
       "grid_column": null,
       "grid_gap": null,
       "grid_row": null,
       "grid_template_areas": null,
       "grid_template_columns": null,
       "grid_template_rows": null,
       "height": null,
       "justify_content": null,
       "justify_items": null,
       "left": null,
       "margin": null,
       "max_height": null,
       "max_width": null,
       "min_height": null,
       "min_width": null,
       "object_fit": null,
       "object_position": null,
       "order": null,
       "overflow": null,
       "overflow_x": null,
       "overflow_y": null,
       "padding": null,
       "right": null,
       "top": null,
       "visibility": null,
       "width": null
      }
     },
     "3962e24406544c1d9367556340de9bbc": {
      "model_module": "@jupyter-widgets/base",
      "model_module_version": "1.2.0",
      "model_name": "LayoutModel",
      "state": {
       "_model_module": "@jupyter-widgets/base",
       "_model_module_version": "1.2.0",
       "_model_name": "LayoutModel",
       "_view_count": null,
       "_view_module": "@jupyter-widgets/base",
       "_view_module_version": "1.2.0",
       "_view_name": "LayoutView",
       "align_content": null,
       "align_items": null,
       "align_self": null,
       "border": null,
       "bottom": null,
       "display": null,
       "flex": null,
       "flex_flow": null,
       "grid_area": null,
       "grid_auto_columns": null,
       "grid_auto_flow": null,
       "grid_auto_rows": null,
       "grid_column": null,
       "grid_gap": null,
       "grid_row": null,
       "grid_template_areas": null,
       "grid_template_columns": null,
       "grid_template_rows": null,
       "height": null,
       "justify_content": null,
       "justify_items": null,
       "left": null,
       "margin": null,
       "max_height": null,
       "max_width": null,
       "min_height": null,
       "min_width": null,
       "object_fit": null,
       "object_position": null,
       "order": null,
       "overflow": null,
       "overflow_x": null,
       "overflow_y": null,
       "padding": null,
       "right": null,
       "top": null,
       "visibility": null,
       "width": null
      }
     },
     "3bebe4f57cdf4989aee3bd92834068a2": {
      "model_module": "@jupyter-widgets/controls",
      "model_module_version": "1.5.0",
      "model_name": "ProgressStyleModel",
      "state": {
       "_model_module": "@jupyter-widgets/controls",
       "_model_module_version": "1.5.0",
       "_model_name": "ProgressStyleModel",
       "_view_count": null,
       "_view_module": "@jupyter-widgets/base",
       "_view_module_version": "1.2.0",
       "_view_name": "StyleView",
       "bar_color": null,
       "description_width": ""
      }
     },
     "3c8bde26ebc14143a7a63fc2955cd11c": {
      "model_module": "@jupyter-widgets/controls",
      "model_module_version": "1.5.0",
      "model_name": "ProgressStyleModel",
      "state": {
       "_model_module": "@jupyter-widgets/controls",
       "_model_module_version": "1.5.0",
       "_model_name": "ProgressStyleModel",
       "_view_count": null,
       "_view_module": "@jupyter-widgets/base",
       "_view_module_version": "1.2.0",
       "_view_name": "StyleView",
       "bar_color": null,
       "description_width": ""
      }
     },
     "41570d324f2f4c9eaa12ef328ebbc2f6": {
      "model_module": "@jupyter-widgets/base",
      "model_module_version": "1.2.0",
      "model_name": "LayoutModel",
      "state": {
       "_model_module": "@jupyter-widgets/base",
       "_model_module_version": "1.2.0",
       "_model_name": "LayoutModel",
       "_view_count": null,
       "_view_module": "@jupyter-widgets/base",
       "_view_module_version": "1.2.0",
       "_view_name": "LayoutView",
       "align_content": null,
       "align_items": null,
       "align_self": null,
       "border": null,
       "bottom": null,
       "display": null,
       "flex": null,
       "flex_flow": null,
       "grid_area": null,
       "grid_auto_columns": null,
       "grid_auto_flow": null,
       "grid_auto_rows": null,
       "grid_column": null,
       "grid_gap": null,
       "grid_row": null,
       "grid_template_areas": null,
       "grid_template_columns": null,
       "grid_template_rows": null,
       "height": null,
       "justify_content": null,
       "justify_items": null,
       "left": null,
       "margin": null,
       "max_height": null,
       "max_width": null,
       "min_height": null,
       "min_width": null,
       "object_fit": null,
       "object_position": null,
       "order": null,
       "overflow": null,
       "overflow_x": null,
       "overflow_y": null,
       "padding": null,
       "right": null,
       "top": null,
       "visibility": null,
       "width": null
      }
     },
     "41ea2d2e839e49a29fc17c5b00009077": {
      "model_module": "@jupyter-widgets/controls",
      "model_module_version": "1.5.0",
      "model_name": "HTMLModel",
      "state": {
       "_dom_classes": [],
       "_model_module": "@jupyter-widgets/controls",
       "_model_module_version": "1.5.0",
       "_model_name": "HTMLModel",
       "_view_count": null,
       "_view_module": "@jupyter-widgets/controls",
       "_view_module_version": "1.5.0",
       "_view_name": "HTMLView",
       "description": "",
       "description_tooltip": null,
       "layout": "IPY_MODEL_ab61197fd86c4470b87870e73190dd8c",
       "placeholder": "​",
       "style": "IPY_MODEL_a42297cf6b05463cac9444ee78f40459",
       "value": " 500/500 [00:35&lt;00:00, 13.37it/s]"
      }
     },
     "4837ae74b5c445049cccef8d9454fcd7": {
      "model_module": "@jupyter-widgets/base",
      "model_module_version": "1.2.0",
      "model_name": "LayoutModel",
      "state": {
       "_model_module": "@jupyter-widgets/base",
       "_model_module_version": "1.2.0",
       "_model_name": "LayoutModel",
       "_view_count": null,
       "_view_module": "@jupyter-widgets/base",
       "_view_module_version": "1.2.0",
       "_view_name": "LayoutView",
       "align_content": null,
       "align_items": null,
       "align_self": null,
       "border": null,
       "bottom": null,
       "display": null,
       "flex": null,
       "flex_flow": null,
       "grid_area": null,
       "grid_auto_columns": null,
       "grid_auto_flow": null,
       "grid_auto_rows": null,
       "grid_column": null,
       "grid_gap": null,
       "grid_row": null,
       "grid_template_areas": null,
       "grid_template_columns": null,
       "grid_template_rows": null,
       "height": null,
       "justify_content": null,
       "justify_items": null,
       "left": null,
       "margin": null,
       "max_height": null,
       "max_width": null,
       "min_height": null,
       "min_width": null,
       "object_fit": null,
       "object_position": null,
       "order": null,
       "overflow": null,
       "overflow_x": null,
       "overflow_y": null,
       "padding": null,
       "right": null,
       "top": null,
       "visibility": null,
       "width": null
      }
     },
     "4d48fd63207c47f8a7e6d3f2a1898c90": {
      "model_module": "@jupyter-widgets/controls",
      "model_module_version": "1.5.0",
      "model_name": "DescriptionStyleModel",
      "state": {
       "_model_module": "@jupyter-widgets/controls",
       "_model_module_version": "1.5.0",
       "_model_name": "DescriptionStyleModel",
       "_view_count": null,
       "_view_module": "@jupyter-widgets/base",
       "_view_module_version": "1.2.0",
       "_view_name": "StyleView",
       "description_width": ""
      }
     },
     "4d92f1f58f2b415c871576d5f719727c": {
      "model_module": "@jupyter-widgets/controls",
      "model_module_version": "1.5.0",
      "model_name": "ProgressStyleModel",
      "state": {
       "_model_module": "@jupyter-widgets/controls",
       "_model_module_version": "1.5.0",
       "_model_name": "ProgressStyleModel",
       "_view_count": null,
       "_view_module": "@jupyter-widgets/base",
       "_view_module_version": "1.2.0",
       "_view_name": "StyleView",
       "bar_color": null,
       "description_width": ""
      }
     },
     "4e6cbd124dac49db8a30662124f69af1": {
      "model_module": "@jupyter-widgets/controls",
      "model_module_version": "1.5.0",
      "model_name": "HBoxModel",
      "state": {
       "_dom_classes": [],
       "_model_module": "@jupyter-widgets/controls",
       "_model_module_version": "1.5.0",
       "_model_name": "HBoxModel",
       "_view_count": null,
       "_view_module": "@jupyter-widgets/controls",
       "_view_module_version": "1.5.0",
       "_view_name": "HBoxView",
       "box_style": "",
       "children": [
        "IPY_MODEL_9923354b27b44df583c4e312a5c3a21d",
        "IPY_MODEL_fcfd242d85344367a969a881dbab93c7",
        "IPY_MODEL_df7229d97371449fafd0d734b933ec9a"
       ],
       "layout": "IPY_MODEL_c9cff7f487a84cdc82d06c3dec9874e4"
      }
     },
     "4e6d94bbe4c9407a925b524b6c255070": {
      "model_module": "@jupyter-widgets/controls",
      "model_module_version": "1.5.0",
      "model_name": "DescriptionStyleModel",
      "state": {
       "_model_module": "@jupyter-widgets/controls",
       "_model_module_version": "1.5.0",
       "_model_name": "DescriptionStyleModel",
       "_view_count": null,
       "_view_module": "@jupyter-widgets/base",
       "_view_module_version": "1.2.0",
       "_view_name": "StyleView",
       "description_width": ""
      }
     },
     "4f51b8ffe7234cd38ccb9c4ac9a5e107": {
      "model_module": "@jupyter-widgets/controls",
      "model_module_version": "1.5.0",
      "model_name": "DescriptionStyleModel",
      "state": {
       "_model_module": "@jupyter-widgets/controls",
       "_model_module_version": "1.5.0",
       "_model_name": "DescriptionStyleModel",
       "_view_count": null,
       "_view_module": "@jupyter-widgets/base",
       "_view_module_version": "1.2.0",
       "_view_name": "StyleView",
       "description_width": ""
      }
     },
     "527bf8388dad4376a96b4d3b58982423": {
      "model_module": "@jupyter-widgets/controls",
      "model_module_version": "1.5.0",
      "model_name": "DescriptionStyleModel",
      "state": {
       "_model_module": "@jupyter-widgets/controls",
       "_model_module_version": "1.5.0",
       "_model_name": "DescriptionStyleModel",
       "_view_count": null,
       "_view_module": "@jupyter-widgets/base",
       "_view_module_version": "1.2.0",
       "_view_name": "StyleView",
       "description_width": ""
      }
     },
     "559e0245b6234c78818d2a55fa465a01": {
      "model_module": "@jupyter-widgets/controls",
      "model_module_version": "1.5.0",
      "model_name": "ProgressStyleModel",
      "state": {
       "_model_module": "@jupyter-widgets/controls",
       "_model_module_version": "1.5.0",
       "_model_name": "ProgressStyleModel",
       "_view_count": null,
       "_view_module": "@jupyter-widgets/base",
       "_view_module_version": "1.2.0",
       "_view_name": "StyleView",
       "bar_color": null,
       "description_width": ""
      }
     },
     "62562be2d113472baba09a2be00d2970": {
      "model_module": "@jupyter-widgets/base",
      "model_module_version": "1.2.0",
      "model_name": "LayoutModel",
      "state": {
       "_model_module": "@jupyter-widgets/base",
       "_model_module_version": "1.2.0",
       "_model_name": "LayoutModel",
       "_view_count": null,
       "_view_module": "@jupyter-widgets/base",
       "_view_module_version": "1.2.0",
       "_view_name": "LayoutView",
       "align_content": null,
       "align_items": null,
       "align_self": null,
       "border": null,
       "bottom": null,
       "display": null,
       "flex": null,
       "flex_flow": null,
       "grid_area": null,
       "grid_auto_columns": null,
       "grid_auto_flow": null,
       "grid_auto_rows": null,
       "grid_column": null,
       "grid_gap": null,
       "grid_row": null,
       "grid_template_areas": null,
       "grid_template_columns": null,
       "grid_template_rows": null,
       "height": null,
       "justify_content": null,
       "justify_items": null,
       "left": null,
       "margin": null,
       "max_height": null,
       "max_width": null,
       "min_height": null,
       "min_width": null,
       "object_fit": null,
       "object_position": null,
       "order": null,
       "overflow": null,
       "overflow_x": null,
       "overflow_y": null,
       "padding": null,
       "right": null,
       "top": null,
       "visibility": null,
       "width": null
      }
     },
     "6929da4e565a4f5fb16f028691ba2728": {
      "model_module": "@jupyter-widgets/controls",
      "model_module_version": "1.5.0",
      "model_name": "DescriptionStyleModel",
      "state": {
       "_model_module": "@jupyter-widgets/controls",
       "_model_module_version": "1.5.0",
       "_model_name": "DescriptionStyleModel",
       "_view_count": null,
       "_view_module": "@jupyter-widgets/base",
       "_view_module_version": "1.2.0",
       "_view_name": "StyleView",
       "description_width": ""
      }
     },
     "69a3e3469fd140ddb9d6188fd9c841f2": {
      "model_module": "@jupyter-widgets/controls",
      "model_module_version": "1.5.0",
      "model_name": "FloatProgressModel",
      "state": {
       "_dom_classes": [],
       "_model_module": "@jupyter-widgets/controls",
       "_model_module_version": "1.5.0",
       "_model_name": "FloatProgressModel",
       "_view_count": null,
       "_view_module": "@jupyter-widgets/controls",
       "_view_module_version": "1.5.0",
       "_view_name": "ProgressView",
       "bar_style": "success",
       "description": "",
       "description_tooltip": null,
       "layout": "IPY_MODEL_3962e24406544c1d9367556340de9bbc",
       "max": 500,
       "min": 0,
       "orientation": "horizontal",
       "style": "IPY_MODEL_8e17bc35b4e2487586f4fa6ab01dab4d",
       "value": 500
      }
     },
     "6c6f27552f054f51a1a018637b5c9688": {
      "model_module": "@jupyter-widgets/base",
      "model_module_version": "1.2.0",
      "model_name": "LayoutModel",
      "state": {
       "_model_module": "@jupyter-widgets/base",
       "_model_module_version": "1.2.0",
       "_model_name": "LayoutModel",
       "_view_count": null,
       "_view_module": "@jupyter-widgets/base",
       "_view_module_version": "1.2.0",
       "_view_name": "LayoutView",
       "align_content": null,
       "align_items": null,
       "align_self": null,
       "border": null,
       "bottom": null,
       "display": null,
       "flex": null,
       "flex_flow": null,
       "grid_area": null,
       "grid_auto_columns": null,
       "grid_auto_flow": null,
       "grid_auto_rows": null,
       "grid_column": null,
       "grid_gap": null,
       "grid_row": null,
       "grid_template_areas": null,
       "grid_template_columns": null,
       "grid_template_rows": null,
       "height": null,
       "justify_content": null,
       "justify_items": null,
       "left": null,
       "margin": null,
       "max_height": null,
       "max_width": null,
       "min_height": null,
       "min_width": null,
       "object_fit": null,
       "object_position": null,
       "order": null,
       "overflow": null,
       "overflow_x": null,
       "overflow_y": null,
       "padding": null,
       "right": null,
       "top": null,
       "visibility": null,
       "width": null
      }
     },
     "71ee5283fb0a4894ba640f7783c256f4": {
      "model_module": "@jupyter-widgets/controls",
      "model_module_version": "1.5.0",
      "model_name": "HBoxModel",
      "state": {
       "_dom_classes": [],
       "_model_module": "@jupyter-widgets/controls",
       "_model_module_version": "1.5.0",
       "_model_name": "HBoxModel",
       "_view_count": null,
       "_view_module": "@jupyter-widgets/controls",
       "_view_module_version": "1.5.0",
       "_view_name": "HBoxView",
       "box_style": "",
       "children": [
        "IPY_MODEL_803ddbc8c8ca4ae7bb8f0bd681ffcde0",
        "IPY_MODEL_268c5b06347b4c10811c78bbf6539984",
        "IPY_MODEL_797321d2f190422fb7e298394de91b27"
       ],
       "layout": "IPY_MODEL_1abeb0e87cf3444badbbf986353385da"
      }
     },
     "744eb0f9fb084457b0365fc9fd7d239b": {
      "model_module": "@jupyter-widgets/base",
      "model_module_version": "1.2.0",
      "model_name": "LayoutModel",
      "state": {
       "_model_module": "@jupyter-widgets/base",
       "_model_module_version": "1.2.0",
       "_model_name": "LayoutModel",
       "_view_count": null,
       "_view_module": "@jupyter-widgets/base",
       "_view_module_version": "1.2.0",
       "_view_name": "LayoutView",
       "align_content": null,
       "align_items": null,
       "align_self": null,
       "border": null,
       "bottom": null,
       "display": null,
       "flex": null,
       "flex_flow": null,
       "grid_area": null,
       "grid_auto_columns": null,
       "grid_auto_flow": null,
       "grid_auto_rows": null,
       "grid_column": null,
       "grid_gap": null,
       "grid_row": null,
       "grid_template_areas": null,
       "grid_template_columns": null,
       "grid_template_rows": null,
       "height": null,
       "justify_content": null,
       "justify_items": null,
       "left": null,
       "margin": null,
       "max_height": null,
       "max_width": null,
       "min_height": null,
       "min_width": null,
       "object_fit": null,
       "object_position": null,
       "order": null,
       "overflow": null,
       "overflow_x": null,
       "overflow_y": null,
       "padding": null,
       "right": null,
       "top": null,
       "visibility": null,
       "width": null
      }
     },
     "74acef7f140d40f59cbdfc9456382285": {
      "model_module": "@jupyter-widgets/base",
      "model_module_version": "1.2.0",
      "model_name": "LayoutModel",
      "state": {
       "_model_module": "@jupyter-widgets/base",
       "_model_module_version": "1.2.0",
       "_model_name": "LayoutModel",
       "_view_count": null,
       "_view_module": "@jupyter-widgets/base",
       "_view_module_version": "1.2.0",
       "_view_name": "LayoutView",
       "align_content": null,
       "align_items": null,
       "align_self": null,
       "border": null,
       "bottom": null,
       "display": null,
       "flex": null,
       "flex_flow": null,
       "grid_area": null,
       "grid_auto_columns": null,
       "grid_auto_flow": null,
       "grid_auto_rows": null,
       "grid_column": null,
       "grid_gap": null,
       "grid_row": null,
       "grid_template_areas": null,
       "grid_template_columns": null,
       "grid_template_rows": null,
       "height": null,
       "justify_content": null,
       "justify_items": null,
       "left": null,
       "margin": null,
       "max_height": null,
       "max_width": null,
       "min_height": null,
       "min_width": null,
       "object_fit": null,
       "object_position": null,
       "order": null,
       "overflow": null,
       "overflow_x": null,
       "overflow_y": null,
       "padding": null,
       "right": null,
       "top": null,
       "visibility": null,
       "width": null
      }
     },
     "782022561ee7421ebe000c3b656d38bf": {
      "model_module": "@jupyter-widgets/base",
      "model_module_version": "1.2.0",
      "model_name": "LayoutModel",
      "state": {
       "_model_module": "@jupyter-widgets/base",
       "_model_module_version": "1.2.0",
       "_model_name": "LayoutModel",
       "_view_count": null,
       "_view_module": "@jupyter-widgets/base",
       "_view_module_version": "1.2.0",
       "_view_name": "LayoutView",
       "align_content": null,
       "align_items": null,
       "align_self": null,
       "border": null,
       "bottom": null,
       "display": null,
       "flex": null,
       "flex_flow": null,
       "grid_area": null,
       "grid_auto_columns": null,
       "grid_auto_flow": null,
       "grid_auto_rows": null,
       "grid_column": null,
       "grid_gap": null,
       "grid_row": null,
       "grid_template_areas": null,
       "grid_template_columns": null,
       "grid_template_rows": null,
       "height": null,
       "justify_content": null,
       "justify_items": null,
       "left": null,
       "margin": null,
       "max_height": null,
       "max_width": null,
       "min_height": null,
       "min_width": null,
       "object_fit": null,
       "object_position": null,
       "order": null,
       "overflow": null,
       "overflow_x": null,
       "overflow_y": null,
       "padding": null,
       "right": null,
       "top": null,
       "visibility": null,
       "width": null
      }
     },
     "797321d2f190422fb7e298394de91b27": {
      "model_module": "@jupyter-widgets/controls",
      "model_module_version": "1.5.0",
      "model_name": "HTMLModel",
      "state": {
       "_dom_classes": [],
       "_model_module": "@jupyter-widgets/controls",
       "_model_module_version": "1.5.0",
       "_model_name": "HTMLModel",
       "_view_count": null,
       "_view_module": "@jupyter-widgets/controls",
       "_view_module_version": "1.5.0",
       "_view_name": "HTMLView",
       "description": "",
       "description_tooltip": null,
       "layout": "IPY_MODEL_4837ae74b5c445049cccef8d9454fcd7",
       "placeholder": "​",
       "style": "IPY_MODEL_146667163cab4b648695d37e279e53ba",
       "value": " 5000/5000 [22:30&lt;00:00, 10.80s/it]"
      }
     },
     "7b7b6fe461684c3f8bf8000d354e180a": {
      "model_module": "@jupyter-widgets/controls",
      "model_module_version": "1.5.0",
      "model_name": "HTMLModel",
      "state": {
       "_dom_classes": [],
       "_model_module": "@jupyter-widgets/controls",
       "_model_module_version": "1.5.0",
       "_model_name": "HTMLModel",
       "_view_count": null,
       "_view_module": "@jupyter-widgets/controls",
       "_view_module_version": "1.5.0",
       "_view_name": "HTMLView",
       "description": "",
       "description_tooltip": null,
       "layout": "IPY_MODEL_c082b915f47b428a80f07f57c3cb3c60",
       "placeholder": "​",
       "style": "IPY_MODEL_f2b5e8f1e0db4b2dad3f25021204ecbf",
       "value": " 500/500 [00:35&lt;00:00, 14.20it/s]"
      }
     },
     "7c1e5caff83945ac898c8d061ad07354": {
      "model_module": "@jupyter-widgets/controls",
      "model_module_version": "1.5.0",
      "model_name": "FloatProgressModel",
      "state": {
       "_dom_classes": [],
       "_model_module": "@jupyter-widgets/controls",
       "_model_module_version": "1.5.0",
       "_model_name": "FloatProgressModel",
       "_view_count": null,
       "_view_module": "@jupyter-widgets/controls",
       "_view_module_version": "1.5.0",
       "_view_name": "ProgressView",
       "bar_style": "success",
       "description": "",
       "description_tooltip": null,
       "layout": "IPY_MODEL_01e49664798c4a41963aef0da5ea61cd",
       "max": 500,
       "min": 0,
       "orientation": "horizontal",
       "style": "IPY_MODEL_ec1de17444cd474d804e3f5cfe4bf8f6",
       "value": 500
      }
     },
     "803ddbc8c8ca4ae7bb8f0bd681ffcde0": {
      "model_module": "@jupyter-widgets/controls",
      "model_module_version": "1.5.0",
      "model_name": "HTMLModel",
      "state": {
       "_dom_classes": [],
       "_model_module": "@jupyter-widgets/controls",
       "_model_module_version": "1.5.0",
       "_model_name": "HTMLModel",
       "_view_count": null,
       "_view_module": "@jupyter-widgets/controls",
       "_view_module_version": "1.5.0",
       "_view_name": "HTMLView",
       "description": "",
       "description_tooltip": null,
       "layout": "IPY_MODEL_782022561ee7421ebe000c3b656d38bf",
       "placeholder": "​",
       "style": "IPY_MODEL_4d48fd63207c47f8a7e6d3f2a1898c90",
       "value": "100%"
      }
     },
     "86bebd5260c64b77a0243fecf54ba56a": {
      "model_module": "@jupyter-widgets/controls",
      "model_module_version": "1.5.0",
      "model_name": "HBoxModel",
      "state": {
       "_dom_classes": [],
       "_model_module": "@jupyter-widgets/controls",
       "_model_module_version": "1.5.0",
       "_model_name": "HBoxModel",
       "_view_count": null,
       "_view_module": "@jupyter-widgets/controls",
       "_view_module_version": "1.5.0",
       "_view_name": "HBoxView",
       "box_style": "",
       "children": [
        "IPY_MODEL_b6e4e7ebd6204bf09fc0bf10b628eef1",
        "IPY_MODEL_69a3e3469fd140ddb9d6188fd9c841f2",
        "IPY_MODEL_7b7b6fe461684c3f8bf8000d354e180a"
       ],
       "layout": "IPY_MODEL_ca3e0d5dedfc4fe1820ac3a3196a7d1f"
      }
     },
     "8bca2c58141a477981c3a090bbaf90a6": {
      "model_module": "@jupyter-widgets/controls",
      "model_module_version": "1.5.0",
      "model_name": "DescriptionStyleModel",
      "state": {
       "_model_module": "@jupyter-widgets/controls",
       "_model_module_version": "1.5.0",
       "_model_name": "DescriptionStyleModel",
       "_view_count": null,
       "_view_module": "@jupyter-widgets/base",
       "_view_module_version": "1.2.0",
       "_view_name": "StyleView",
       "description_width": ""
      }
     },
     "8e17bc35b4e2487586f4fa6ab01dab4d": {
      "model_module": "@jupyter-widgets/controls",
      "model_module_version": "1.5.0",
      "model_name": "ProgressStyleModel",
      "state": {
       "_model_module": "@jupyter-widgets/controls",
       "_model_module_version": "1.5.0",
       "_model_name": "ProgressStyleModel",
       "_view_count": null,
       "_view_module": "@jupyter-widgets/base",
       "_view_module_version": "1.2.0",
       "_view_name": "StyleView",
       "bar_color": null,
       "description_width": ""
      }
     },
     "901b23082b6c43f680a032fee6f6016f": {
      "model_module": "@jupyter-widgets/base",
      "model_module_version": "1.2.0",
      "model_name": "LayoutModel",
      "state": {
       "_model_module": "@jupyter-widgets/base",
       "_model_module_version": "1.2.0",
       "_model_name": "LayoutModel",
       "_view_count": null,
       "_view_module": "@jupyter-widgets/base",
       "_view_module_version": "1.2.0",
       "_view_name": "LayoutView",
       "align_content": null,
       "align_items": null,
       "align_self": null,
       "border": null,
       "bottom": null,
       "display": null,
       "flex": null,
       "flex_flow": null,
       "grid_area": null,
       "grid_auto_columns": null,
       "grid_auto_flow": null,
       "grid_auto_rows": null,
       "grid_column": null,
       "grid_gap": null,
       "grid_row": null,
       "grid_template_areas": null,
       "grid_template_columns": null,
       "grid_template_rows": null,
       "height": null,
       "justify_content": null,
       "justify_items": null,
       "left": null,
       "margin": null,
       "max_height": null,
       "max_width": null,
       "min_height": null,
       "min_width": null,
       "object_fit": null,
       "object_position": null,
       "order": null,
       "overflow": null,
       "overflow_x": null,
       "overflow_y": null,
       "padding": null,
       "right": null,
       "top": null,
       "visibility": null,
       "width": null
      }
     },
     "9923354b27b44df583c4e312a5c3a21d": {
      "model_module": "@jupyter-widgets/controls",
      "model_module_version": "1.5.0",
      "model_name": "HTMLModel",
      "state": {
       "_dom_classes": [],
       "_model_module": "@jupyter-widgets/controls",
       "_model_module_version": "1.5.0",
       "_model_name": "HTMLModel",
       "_view_count": null,
       "_view_module": "@jupyter-widgets/controls",
       "_view_module_version": "1.5.0",
       "_view_name": "HTMLView",
       "description": "",
       "description_tooltip": null,
       "layout": "IPY_MODEL_15177ee94df14fe19dc8104a095b1aa7",
       "placeholder": "​",
       "style": "IPY_MODEL_bacb6f987f3d4b38a17a27d551697e60",
       "value": "100%"
      }
     },
     "9c8df5abf4cf4a95a2e807f0c27aac96": {
      "model_module": "@jupyter-widgets/base",
      "model_module_version": "1.2.0",
      "model_name": "LayoutModel",
      "state": {
       "_model_module": "@jupyter-widgets/base",
       "_model_module_version": "1.2.0",
       "_model_name": "LayoutModel",
       "_view_count": null,
       "_view_module": "@jupyter-widgets/base",
       "_view_module_version": "1.2.0",
       "_view_name": "LayoutView",
       "align_content": null,
       "align_items": null,
       "align_self": null,
       "border": null,
       "bottom": null,
       "display": null,
       "flex": null,
       "flex_flow": null,
       "grid_area": null,
       "grid_auto_columns": null,
       "grid_auto_flow": null,
       "grid_auto_rows": null,
       "grid_column": null,
       "grid_gap": null,
       "grid_row": null,
       "grid_template_areas": null,
       "grid_template_columns": null,
       "grid_template_rows": null,
       "height": null,
       "justify_content": null,
       "justify_items": null,
       "left": null,
       "margin": null,
       "max_height": null,
       "max_width": null,
       "min_height": null,
       "min_width": null,
       "object_fit": null,
       "object_position": null,
       "order": null,
       "overflow": null,
       "overflow_x": null,
       "overflow_y": null,
       "padding": null,
       "right": null,
       "top": null,
       "visibility": null,
       "width": null
      }
     },
     "a42297cf6b05463cac9444ee78f40459": {
      "model_module": "@jupyter-widgets/controls",
      "model_module_version": "1.5.0",
      "model_name": "DescriptionStyleModel",
      "state": {
       "_model_module": "@jupyter-widgets/controls",
       "_model_module_version": "1.5.0",
       "_model_name": "DescriptionStyleModel",
       "_view_count": null,
       "_view_module": "@jupyter-widgets/base",
       "_view_module_version": "1.2.0",
       "_view_name": "StyleView",
       "description_width": ""
      }
     },
     "a6a4b2e562db4c96aba2bcb685c8063c": {
      "model_module": "@jupyter-widgets/base",
      "model_module_version": "1.2.0",
      "model_name": "LayoutModel",
      "state": {
       "_model_module": "@jupyter-widgets/base",
       "_model_module_version": "1.2.0",
       "_model_name": "LayoutModel",
       "_view_count": null,
       "_view_module": "@jupyter-widgets/base",
       "_view_module_version": "1.2.0",
       "_view_name": "LayoutView",
       "align_content": null,
       "align_items": null,
       "align_self": null,
       "border": null,
       "bottom": null,
       "display": null,
       "flex": null,
       "flex_flow": null,
       "grid_area": null,
       "grid_auto_columns": null,
       "grid_auto_flow": null,
       "grid_auto_rows": null,
       "grid_column": null,
       "grid_gap": null,
       "grid_row": null,
       "grid_template_areas": null,
       "grid_template_columns": null,
       "grid_template_rows": null,
       "height": null,
       "justify_content": null,
       "justify_items": null,
       "left": null,
       "margin": null,
       "max_height": null,
       "max_width": null,
       "min_height": null,
       "min_width": null,
       "object_fit": null,
       "object_position": null,
       "order": null,
       "overflow": null,
       "overflow_x": null,
       "overflow_y": null,
       "padding": null,
       "right": null,
       "top": null,
       "visibility": null,
       "width": null
      }
     },
     "a9d849f473ac4ee595ff0d41b0df58a6": {
      "model_module": "@jupyter-widgets/base",
      "model_module_version": "1.2.0",
      "model_name": "LayoutModel",
      "state": {
       "_model_module": "@jupyter-widgets/base",
       "_model_module_version": "1.2.0",
       "_model_name": "LayoutModel",
       "_view_count": null,
       "_view_module": "@jupyter-widgets/base",
       "_view_module_version": "1.2.0",
       "_view_name": "LayoutView",
       "align_content": null,
       "align_items": null,
       "align_self": null,
       "border": null,
       "bottom": null,
       "display": null,
       "flex": null,
       "flex_flow": null,
       "grid_area": null,
       "grid_auto_columns": null,
       "grid_auto_flow": null,
       "grid_auto_rows": null,
       "grid_column": null,
       "grid_gap": null,
       "grid_row": null,
       "grid_template_areas": null,
       "grid_template_columns": null,
       "grid_template_rows": null,
       "height": null,
       "justify_content": null,
       "justify_items": null,
       "left": null,
       "margin": null,
       "max_height": null,
       "max_width": null,
       "min_height": null,
       "min_width": null,
       "object_fit": null,
       "object_position": null,
       "order": null,
       "overflow": null,
       "overflow_x": null,
       "overflow_y": null,
       "padding": null,
       "right": null,
       "top": null,
       "visibility": null,
       "width": null
      }
     },
     "ab61197fd86c4470b87870e73190dd8c": {
      "model_module": "@jupyter-widgets/base",
      "model_module_version": "1.2.0",
      "model_name": "LayoutModel",
      "state": {
       "_model_module": "@jupyter-widgets/base",
       "_model_module_version": "1.2.0",
       "_model_name": "LayoutModel",
       "_view_count": null,
       "_view_module": "@jupyter-widgets/base",
       "_view_module_version": "1.2.0",
       "_view_name": "LayoutView",
       "align_content": null,
       "align_items": null,
       "align_self": null,
       "border": null,
       "bottom": null,
       "display": null,
       "flex": null,
       "flex_flow": null,
       "grid_area": null,
       "grid_auto_columns": null,
       "grid_auto_flow": null,
       "grid_auto_rows": null,
       "grid_column": null,
       "grid_gap": null,
       "grid_row": null,
       "grid_template_areas": null,
       "grid_template_columns": null,
       "grid_template_rows": null,
       "height": null,
       "justify_content": null,
       "justify_items": null,
       "left": null,
       "margin": null,
       "max_height": null,
       "max_width": null,
       "min_height": null,
       "min_width": null,
       "object_fit": null,
       "object_position": null,
       "order": null,
       "overflow": null,
       "overflow_x": null,
       "overflow_y": null,
       "padding": null,
       "right": null,
       "top": null,
       "visibility": null,
       "width": null
      }
     },
     "abbf2cdce3fa4ee7b0dc073c1ab6014a": {
      "model_module": "@jupyter-widgets/controls",
      "model_module_version": "1.5.0",
      "model_name": "FloatProgressModel",
      "state": {
       "_dom_classes": [],
       "_model_module": "@jupyter-widgets/controls",
       "_model_module_version": "1.5.0",
       "_model_name": "FloatProgressModel",
       "_view_count": null,
       "_view_module": "@jupyter-widgets/controls",
       "_view_module_version": "1.5.0",
       "_view_name": "ProgressView",
       "bar_style": "success",
       "description": "",
       "description_tooltip": null,
       "layout": "IPY_MODEL_fc48c70a94b04ae089320f2d3b9ddb7c",
       "max": 500,
       "min": 0,
       "orientation": "horizontal",
       "style": "IPY_MODEL_f6d6fe4a02e249f99a660cc3dba478ab",
       "value": 500
      }
     },
     "b3d234aea6b940659f6aa236f1e8e94b": {
      "model_module": "@jupyter-widgets/controls",
      "model_module_version": "1.5.0",
      "model_name": "HTMLModel",
      "state": {
       "_dom_classes": [],
       "_model_module": "@jupyter-widgets/controls",
       "_model_module_version": "1.5.0",
       "_model_name": "HTMLModel",
       "_view_count": null,
       "_view_module": "@jupyter-widgets/controls",
       "_view_module_version": "1.5.0",
       "_view_name": "HTMLView",
       "description": "",
       "description_tooltip": null,
       "layout": "IPY_MODEL_363fef9cfd3247f1ab50810f666e19c7",
       "placeholder": "​",
       "style": "IPY_MODEL_4e6d94bbe4c9407a925b524b6c255070",
       "value": " 500/500 [00:35&lt;00:00, 13.83it/s]"
      }
     },
     "b6e4e7ebd6204bf09fc0bf10b628eef1": {
      "model_module": "@jupyter-widgets/controls",
      "model_module_version": "1.5.0",
      "model_name": "HTMLModel",
      "state": {
       "_dom_classes": [],
       "_model_module": "@jupyter-widgets/controls",
       "_model_module_version": "1.5.0",
       "_model_name": "HTMLModel",
       "_view_count": null,
       "_view_module": "@jupyter-widgets/controls",
       "_view_module_version": "1.5.0",
       "_view_name": "HTMLView",
       "description": "",
       "description_tooltip": null,
       "layout": "IPY_MODEL_62562be2d113472baba09a2be00d2970",
       "placeholder": "​",
       "style": "IPY_MODEL_8bca2c58141a477981c3a090bbaf90a6",
       "value": "100%"
      }
     },
     "bacb6f987f3d4b38a17a27d551697e60": {
      "model_module": "@jupyter-widgets/controls",
      "model_module_version": "1.5.0",
      "model_name": "DescriptionStyleModel",
      "state": {
       "_model_module": "@jupyter-widgets/controls",
       "_model_module_version": "1.5.0",
       "_model_name": "DescriptionStyleModel",
       "_view_count": null,
       "_view_module": "@jupyter-widgets/base",
       "_view_module_version": "1.2.0",
       "_view_name": "StyleView",
       "description_width": ""
      }
     },
     "c082b915f47b428a80f07f57c3cb3c60": {
      "model_module": "@jupyter-widgets/base",
      "model_module_version": "1.2.0",
      "model_name": "LayoutModel",
      "state": {
       "_model_module": "@jupyter-widgets/base",
       "_model_module_version": "1.2.0",
       "_model_name": "LayoutModel",
       "_view_count": null,
       "_view_module": "@jupyter-widgets/base",
       "_view_module_version": "1.2.0",
       "_view_name": "LayoutView",
       "align_content": null,
       "align_items": null,
       "align_self": null,
       "border": null,
       "bottom": null,
       "display": null,
       "flex": null,
       "flex_flow": null,
       "grid_area": null,
       "grid_auto_columns": null,
       "grid_auto_flow": null,
       "grid_auto_rows": null,
       "grid_column": null,
       "grid_gap": null,
       "grid_row": null,
       "grid_template_areas": null,
       "grid_template_columns": null,
       "grid_template_rows": null,
       "height": null,
       "justify_content": null,
       "justify_items": null,
       "left": null,
       "margin": null,
       "max_height": null,
       "max_width": null,
       "min_height": null,
       "min_width": null,
       "object_fit": null,
       "object_position": null,
       "order": null,
       "overflow": null,
       "overflow_x": null,
       "overflow_y": null,
       "padding": null,
       "right": null,
       "top": null,
       "visibility": null,
       "width": null
      }
     },
     "c0d986fd70bd4140a78e00a05eb5a5c5": {
      "model_module": "@jupyter-widgets/controls",
      "model_module_version": "1.5.0",
      "model_name": "HTMLModel",
      "state": {
       "_dom_classes": [],
       "_model_module": "@jupyter-widgets/controls",
       "_model_module_version": "1.5.0",
       "_model_name": "HTMLModel",
       "_view_count": null,
       "_view_module": "@jupyter-widgets/controls",
       "_view_module_version": "1.5.0",
       "_view_name": "HTMLView",
       "description": "",
       "description_tooltip": null,
       "layout": "IPY_MODEL_744eb0f9fb084457b0365fc9fd7d239b",
       "placeholder": "​",
       "style": "IPY_MODEL_13583d5795a4460c9dfc81f326737c93",
       "value": "100%"
      }
     },
     "c20dd8721fc641fa81ee71bc17a2eca3": {
      "model_module": "@jupyter-widgets/base",
      "model_module_version": "1.2.0",
      "model_name": "LayoutModel",
      "state": {
       "_model_module": "@jupyter-widgets/base",
       "_model_module_version": "1.2.0",
       "_model_name": "LayoutModel",
       "_view_count": null,
       "_view_module": "@jupyter-widgets/base",
       "_view_module_version": "1.2.0",
       "_view_name": "LayoutView",
       "align_content": null,
       "align_items": null,
       "align_self": null,
       "border": null,
       "bottom": null,
       "display": null,
       "flex": null,
       "flex_flow": null,
       "grid_area": null,
       "grid_auto_columns": null,
       "grid_auto_flow": null,
       "grid_auto_rows": null,
       "grid_column": null,
       "grid_gap": null,
       "grid_row": null,
       "grid_template_areas": null,
       "grid_template_columns": null,
       "grid_template_rows": null,
       "height": null,
       "justify_content": null,
       "justify_items": null,
       "left": null,
       "margin": null,
       "max_height": null,
       "max_width": null,
       "min_height": null,
       "min_width": null,
       "object_fit": null,
       "object_position": null,
       "order": null,
       "overflow": null,
       "overflow_x": null,
       "overflow_y": null,
       "padding": null,
       "right": null,
       "top": null,
       "visibility": null,
       "width": null
      }
     },
     "c4a7a87ee46b481c8e7efc9bef0b0293": {
      "model_module": "@jupyter-widgets/controls",
      "model_module_version": "1.5.0",
      "model_name": "FloatProgressModel",
      "state": {
       "_dom_classes": [],
       "_model_module": "@jupyter-widgets/controls",
       "_model_module_version": "1.5.0",
       "_model_name": "FloatProgressModel",
       "_view_count": null,
       "_view_module": "@jupyter-widgets/controls",
       "_view_module_version": "1.5.0",
       "_view_name": "ProgressView",
       "bar_style": "success",
       "description": "",
       "description_tooltip": null,
       "layout": "IPY_MODEL_c20dd8721fc641fa81ee71bc17a2eca3",
       "max": 500,
       "min": 0,
       "orientation": "horizontal",
       "style": "IPY_MODEL_3c8bde26ebc14143a7a63fc2955cd11c",
       "value": 500
      }
     },
     "c9c8b8c2f03c49978659a213921061ce": {
      "model_module": "@jupyter-widgets/controls",
      "model_module_version": "1.5.0",
      "model_name": "DescriptionStyleModel",
      "state": {
       "_model_module": "@jupyter-widgets/controls",
       "_model_module_version": "1.5.0",
       "_model_name": "DescriptionStyleModel",
       "_view_count": null,
       "_view_module": "@jupyter-widgets/base",
       "_view_module_version": "1.2.0",
       "_view_name": "StyleView",
       "description_width": ""
      }
     },
     "c9cff7f487a84cdc82d06c3dec9874e4": {
      "model_module": "@jupyter-widgets/base",
      "model_module_version": "1.2.0",
      "model_name": "LayoutModel",
      "state": {
       "_model_module": "@jupyter-widgets/base",
       "_model_module_version": "1.2.0",
       "_model_name": "LayoutModel",
       "_view_count": null,
       "_view_module": "@jupyter-widgets/base",
       "_view_module_version": "1.2.0",
       "_view_name": "LayoutView",
       "align_content": null,
       "align_items": null,
       "align_self": null,
       "border": null,
       "bottom": null,
       "display": null,
       "flex": null,
       "flex_flow": null,
       "grid_area": null,
       "grid_auto_columns": null,
       "grid_auto_flow": null,
       "grid_auto_rows": null,
       "grid_column": null,
       "grid_gap": null,
       "grid_row": null,
       "grid_template_areas": null,
       "grid_template_columns": null,
       "grid_template_rows": null,
       "height": null,
       "justify_content": null,
       "justify_items": null,
       "left": null,
       "margin": null,
       "max_height": null,
       "max_width": null,
       "min_height": null,
       "min_width": null,
       "object_fit": null,
       "object_position": null,
       "order": null,
       "overflow": null,
       "overflow_x": null,
       "overflow_y": null,
       "padding": null,
       "right": null,
       "top": null,
       "visibility": null,
       "width": null
      }
     },
     "ca3e0d5dedfc4fe1820ac3a3196a7d1f": {
      "model_module": "@jupyter-widgets/base",
      "model_module_version": "1.2.0",
      "model_name": "LayoutModel",
      "state": {
       "_model_module": "@jupyter-widgets/base",
       "_model_module_version": "1.2.0",
       "_model_name": "LayoutModel",
       "_view_count": null,
       "_view_module": "@jupyter-widgets/base",
       "_view_module_version": "1.2.0",
       "_view_name": "LayoutView",
       "align_content": null,
       "align_items": null,
       "align_self": null,
       "border": null,
       "bottom": null,
       "display": null,
       "flex": null,
       "flex_flow": null,
       "grid_area": null,
       "grid_auto_columns": null,
       "grid_auto_flow": null,
       "grid_auto_rows": null,
       "grid_column": null,
       "grid_gap": null,
       "grid_row": null,
       "grid_template_areas": null,
       "grid_template_columns": null,
       "grid_template_rows": null,
       "height": null,
       "justify_content": null,
       "justify_items": null,
       "left": null,
       "margin": null,
       "max_height": null,
       "max_width": null,
       "min_height": null,
       "min_width": null,
       "object_fit": null,
       "object_position": null,
       "order": null,
       "overflow": null,
       "overflow_x": null,
       "overflow_y": null,
       "padding": null,
       "right": null,
       "top": null,
       "visibility": null,
       "width": null
      }
     },
     "d13968ab9c7c400d8f5edb2fbdf93700": {
      "model_module": "@jupyter-widgets/controls",
      "model_module_version": "1.5.0",
      "model_name": "HBoxModel",
      "state": {
       "_dom_classes": [],
       "_model_module": "@jupyter-widgets/controls",
       "_model_module_version": "1.5.0",
       "_model_name": "HBoxModel",
       "_view_count": null,
       "_view_module": "@jupyter-widgets/controls",
       "_view_module_version": "1.5.0",
       "_view_name": "HBoxView",
       "box_style": "",
       "children": [
        "IPY_MODEL_c0d986fd70bd4140a78e00a05eb5a5c5",
        "IPY_MODEL_7c1e5caff83945ac898c8d061ad07354",
        "IPY_MODEL_41ea2d2e839e49a29fc17c5b00009077"
       ],
       "layout": "IPY_MODEL_fda43aff613940b8bb5356f18684fb94"
      }
     },
     "d3d93e572bb14cf1b7537b2cae1fed4c": {
      "model_module": "@jupyter-widgets/controls",
      "model_module_version": "1.5.0",
      "model_name": "HTMLModel",
      "state": {
       "_dom_classes": [],
       "_model_module": "@jupyter-widgets/controls",
       "_model_module_version": "1.5.0",
       "_model_name": "HTMLModel",
       "_view_count": null,
       "_view_module": "@jupyter-widgets/controls",
       "_view_module_version": "1.5.0",
       "_view_name": "HTMLView",
       "description": "",
       "description_tooltip": null,
       "layout": "IPY_MODEL_18107bc199fc4991b328ec1edb5e5723",
       "placeholder": "​",
       "style": "IPY_MODEL_f2dcdd4c780d452089ea7a0c2e68dfc1",
       "value": " 500/500 [00:35&lt;00:00, 13.97it/s]"
      }
     },
     "df7229d97371449fafd0d734b933ec9a": {
      "model_module": "@jupyter-widgets/controls",
      "model_module_version": "1.5.0",
      "model_name": "HTMLModel",
      "state": {
       "_dom_classes": [],
       "_model_module": "@jupyter-widgets/controls",
       "_model_module_version": "1.5.0",
       "_model_name": "HTMLModel",
       "_view_count": null,
       "_view_module": "@jupyter-widgets/controls",
       "_view_module_version": "1.5.0",
       "_view_name": "HTMLView",
       "description": "",
       "description_tooltip": null,
       "layout": "IPY_MODEL_f8b93e2ccb664ef992b91d92225227dd",
       "placeholder": "​",
       "style": "IPY_MODEL_4f51b8ffe7234cd38ccb9c4ac9a5e107",
       "value": " 500/500 [00:35&lt;00:00, 14.22it/s]"
      }
     },
     "e90c1e0d1d03457f89d5a670da2031fe": {
      "model_module": "@jupyter-widgets/controls",
      "model_module_version": "1.5.0",
      "model_name": "HBoxModel",
      "state": {
       "_dom_classes": [],
       "_model_module": "@jupyter-widgets/controls",
       "_model_module_version": "1.5.0",
       "_model_name": "HBoxModel",
       "_view_count": null,
       "_view_module": "@jupyter-widgets/controls",
       "_view_module_version": "1.5.0",
       "_view_name": "HBoxView",
       "box_style": "",
       "children": [
        "IPY_MODEL_04a37df78f904fd89dbdccbd74a3aab9",
        "IPY_MODEL_2151067456b940809c8b71b5120449b5",
        "IPY_MODEL_0c1bb9edf3aa4ad39461868b23624020"
       ],
       "layout": "IPY_MODEL_74acef7f140d40f59cbdfc9456382285"
      }
     },
     "ec1de17444cd474d804e3f5cfe4bf8f6": {
      "model_module": "@jupyter-widgets/controls",
      "model_module_version": "1.5.0",
      "model_name": "ProgressStyleModel",
      "state": {
       "_model_module": "@jupyter-widgets/controls",
       "_model_module_version": "1.5.0",
       "_model_name": "ProgressStyleModel",
       "_view_count": null,
       "_view_module": "@jupyter-widgets/base",
       "_view_module_version": "1.2.0",
       "_view_name": "StyleView",
       "bar_color": null,
       "description_width": ""
      }
     },
     "f2b5e8f1e0db4b2dad3f25021204ecbf": {
      "model_module": "@jupyter-widgets/controls",
      "model_module_version": "1.5.0",
      "model_name": "DescriptionStyleModel",
      "state": {
       "_model_module": "@jupyter-widgets/controls",
       "_model_module_version": "1.5.0",
       "_model_name": "DescriptionStyleModel",
       "_view_count": null,
       "_view_module": "@jupyter-widgets/base",
       "_view_module_version": "1.2.0",
       "_view_name": "StyleView",
       "description_width": ""
      }
     },
     "f2dcdd4c780d452089ea7a0c2e68dfc1": {
      "model_module": "@jupyter-widgets/controls",
      "model_module_version": "1.5.0",
      "model_name": "DescriptionStyleModel",
      "state": {
       "_model_module": "@jupyter-widgets/controls",
       "_model_module_version": "1.5.0",
       "_model_name": "DescriptionStyleModel",
       "_view_count": null,
       "_view_module": "@jupyter-widgets/base",
       "_view_module_version": "1.2.0",
       "_view_name": "StyleView",
       "description_width": ""
      }
     },
     "f5d3480e37c340c5ae7fca92c5b15d92": {
      "model_module": "@jupyter-widgets/controls",
      "model_module_version": "1.5.0",
      "model_name": "HBoxModel",
      "state": {
       "_dom_classes": [],
       "_model_module": "@jupyter-widgets/controls",
       "_model_module_version": "1.5.0",
       "_model_name": "HBoxModel",
       "_view_count": null,
       "_view_module": "@jupyter-widgets/controls",
       "_view_module_version": "1.5.0",
       "_view_name": "HBoxView",
       "box_style": "",
       "children": [
        "IPY_MODEL_fd092011afda4c77b5e57889fa41fd0d",
        "IPY_MODEL_abbf2cdce3fa4ee7b0dc073c1ab6014a",
        "IPY_MODEL_d3d93e572bb14cf1b7537b2cae1fed4c"
       ],
       "layout": "IPY_MODEL_901b23082b6c43f680a032fee6f6016f"
      }
     },
     "f6d6fe4a02e249f99a660cc3dba478ab": {
      "model_module": "@jupyter-widgets/controls",
      "model_module_version": "1.5.0",
      "model_name": "ProgressStyleModel",
      "state": {
       "_model_module": "@jupyter-widgets/controls",
       "_model_module_version": "1.5.0",
       "_model_name": "ProgressStyleModel",
       "_view_count": null,
       "_view_module": "@jupyter-widgets/base",
       "_view_module_version": "1.2.0",
       "_view_name": "StyleView",
       "bar_color": null,
       "description_width": ""
      }
     },
     "f8b93e2ccb664ef992b91d92225227dd": {
      "model_module": "@jupyter-widgets/base",
      "model_module_version": "1.2.0",
      "model_name": "LayoutModel",
      "state": {
       "_model_module": "@jupyter-widgets/base",
       "_model_module_version": "1.2.0",
       "_model_name": "LayoutModel",
       "_view_count": null,
       "_view_module": "@jupyter-widgets/base",
       "_view_module_version": "1.2.0",
       "_view_name": "LayoutView",
       "align_content": null,
       "align_items": null,
       "align_self": null,
       "border": null,
       "bottom": null,
       "display": null,
       "flex": null,
       "flex_flow": null,
       "grid_area": null,
       "grid_auto_columns": null,
       "grid_auto_flow": null,
       "grid_auto_rows": null,
       "grid_column": null,
       "grid_gap": null,
       "grid_row": null,
       "grid_template_areas": null,
       "grid_template_columns": null,
       "grid_template_rows": null,
       "height": null,
       "justify_content": null,
       "justify_items": null,
       "left": null,
       "margin": null,
       "max_height": null,
       "max_width": null,
       "min_height": null,
       "min_width": null,
       "object_fit": null,
       "object_position": null,
       "order": null,
       "overflow": null,
       "overflow_x": null,
       "overflow_y": null,
       "padding": null,
       "right": null,
       "top": null,
       "visibility": null,
       "width": null
      }
     },
     "fc48c70a94b04ae089320f2d3b9ddb7c": {
      "model_module": "@jupyter-widgets/base",
      "model_module_version": "1.2.0",
      "model_name": "LayoutModel",
      "state": {
       "_model_module": "@jupyter-widgets/base",
       "_model_module_version": "1.2.0",
       "_model_name": "LayoutModel",
       "_view_count": null,
       "_view_module": "@jupyter-widgets/base",
       "_view_module_version": "1.2.0",
       "_view_name": "LayoutView",
       "align_content": null,
       "align_items": null,
       "align_self": null,
       "border": null,
       "bottom": null,
       "display": null,
       "flex": null,
       "flex_flow": null,
       "grid_area": null,
       "grid_auto_columns": null,
       "grid_auto_flow": null,
       "grid_auto_rows": null,
       "grid_column": null,
       "grid_gap": null,
       "grid_row": null,
       "grid_template_areas": null,
       "grid_template_columns": null,
       "grid_template_rows": null,
       "height": null,
       "justify_content": null,
       "justify_items": null,
       "left": null,
       "margin": null,
       "max_height": null,
       "max_width": null,
       "min_height": null,
       "min_width": null,
       "object_fit": null,
       "object_position": null,
       "order": null,
       "overflow": null,
       "overflow_x": null,
       "overflow_y": null,
       "padding": null,
       "right": null,
       "top": null,
       "visibility": null,
       "width": null
      }
     },
     "fcfd242d85344367a969a881dbab93c7": {
      "model_module": "@jupyter-widgets/controls",
      "model_module_version": "1.5.0",
      "model_name": "FloatProgressModel",
      "state": {
       "_dom_classes": [],
       "_model_module": "@jupyter-widgets/controls",
       "_model_module_version": "1.5.0",
       "_model_name": "FloatProgressModel",
       "_view_count": null,
       "_view_module": "@jupyter-widgets/controls",
       "_view_module_version": "1.5.0",
       "_view_name": "ProgressView",
       "bar_style": "success",
       "description": "",
       "description_tooltip": null,
       "layout": "IPY_MODEL_32137149cd124a68a645b42d0d2d5820",
       "max": 500,
       "min": 0,
       "orientation": "horizontal",
       "style": "IPY_MODEL_4d92f1f58f2b415c871576d5f719727c",
       "value": 500
      }
     },
     "fd092011afda4c77b5e57889fa41fd0d": {
      "model_module": "@jupyter-widgets/controls",
      "model_module_version": "1.5.0",
      "model_name": "HTMLModel",
      "state": {
       "_dom_classes": [],
       "_model_module": "@jupyter-widgets/controls",
       "_model_module_version": "1.5.0",
       "_model_name": "HTMLModel",
       "_view_count": null,
       "_view_module": "@jupyter-widgets/controls",
       "_view_module_version": "1.5.0",
       "_view_name": "HTMLView",
       "description": "",
       "description_tooltip": null,
       "layout": "IPY_MODEL_9c8df5abf4cf4a95a2e807f0c27aac96",
       "placeholder": "​",
       "style": "IPY_MODEL_527bf8388dad4376a96b4d3b58982423",
       "value": "100%"
      }
     },
     "fda43aff613940b8bb5356f18684fb94": {
      "model_module": "@jupyter-widgets/base",
      "model_module_version": "1.2.0",
      "model_name": "LayoutModel",
      "state": {
       "_model_module": "@jupyter-widgets/base",
       "_model_module_version": "1.2.0",
       "_model_name": "LayoutModel",
       "_view_count": null,
       "_view_module": "@jupyter-widgets/base",
       "_view_module_version": "1.2.0",
       "_view_name": "LayoutView",
       "align_content": null,
       "align_items": null,
       "align_self": null,
       "border": null,
       "bottom": null,
       "display": null,
       "flex": null,
       "flex_flow": null,
       "grid_area": null,
       "grid_auto_columns": null,
       "grid_auto_flow": null,
       "grid_auto_rows": null,
       "grid_column": null,
       "grid_gap": null,
       "grid_row": null,
       "grid_template_areas": null,
       "grid_template_columns": null,
       "grid_template_rows": null,
       "height": null,
       "justify_content": null,
       "justify_items": null,
       "left": null,
       "margin": null,
       "max_height": null,
       "max_width": null,
       "min_height": null,
       "min_width": null,
       "object_fit": null,
       "object_position": null,
       "order": null,
       "overflow": null,
       "overflow_x": null,
       "overflow_y": null,
       "padding": null,
       "right": null,
       "top": null,
       "visibility": null,
       "width": null
      }
     },
     "ff14b0e51bff44159fed49e2dcfb8816": {
      "model_module": "@jupyter-widgets/controls",
      "model_module_version": "1.5.0",
      "model_name": "HTMLModel",
      "state": {
       "_dom_classes": [],
       "_model_module": "@jupyter-widgets/controls",
       "_model_module_version": "1.5.0",
       "_model_name": "HTMLModel",
       "_view_count": null,
       "_view_module": "@jupyter-widgets/controls",
       "_view_module_version": "1.5.0",
       "_view_name": "HTMLView",
       "description": "",
       "description_tooltip": null,
       "layout": "IPY_MODEL_41570d324f2f4c9eaa12ef328ebbc2f6",
       "placeholder": "​",
       "style": "IPY_MODEL_2fcf931cc1f44451af45f9654b16c2d0",
       "value": "100%"
      }
     }
    },
    "version_major": 2,
    "version_minor": 0
   }
  }
 },
 "nbformat": 4,
 "nbformat_minor": 5
}
