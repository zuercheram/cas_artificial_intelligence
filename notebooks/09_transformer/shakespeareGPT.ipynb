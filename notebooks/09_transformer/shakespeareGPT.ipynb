{
 "cells": [
  {
   "cell_type": "code",
   "execution_count": 2,
   "metadata": {},
   "outputs": [
    {
     "data": {
      "text/plain": [
       "<torch._C.Generator at 0x23233f2b5b0>"
      ]
     },
     "execution_count": 2,
     "metadata": {},
     "output_type": "execute_result"
    }
   ],
   "source": [
    "import torch\n",
    "import torch.nn as nn\n",
    "import torch.nn.functional as F\n",
    "\n",
    "from dataclasses import dataclass\n",
    "\n",
    "from tqdm.auto import tqdm\n",
    "\n",
    "from pathlib import Path\n",
    "\n",
    "import matplotlib.pyplot as plt\n",
    "\n",
    "from tokenizers import Tokenizer\n",
    "from tokenizers.models import BPE\n",
    "import tokenizers.pre_tokenizers as pre_tokenizers\n",
    "import tokenizers.processors as processors\n",
    "import tokenizers.decoders as decoders\n",
    "from tokenizers.trainers import BpeTrainer\n",
    "\n",
    "from torchinfo import summary\n",
    "\n",
    "torch.manual_seed(1357)"
   ]
  },
  {
   "cell_type": "code",
   "execution_count": 6,
   "metadata": {},
   "outputs": [],
   "source": [
    "with open('shakespeare.txt','r',encoding='utf-8') as f:\n",
    "    data = f.read()"
   ]
  },
  {
   "cell_type": "code",
   "execution_count": 7,
   "metadata": {},
   "outputs": [
    {
     "data": {
      "text/plain": [
       "'First Citizen:\\nBefore we proceed any further, hear me speak.\\n\\nAll:\\nSpeak, speak.\\n\\nFirst Citizen:\\nYou'"
      ]
     },
     "execution_count": 7,
     "metadata": {},
     "output_type": "execute_result"
    }
   ],
   "source": [
    "data[:100]"
   ]
  },
  {
   "cell_type": "code",
   "execution_count": 9,
   "metadata": {},
   "outputs": [],
   "source": [
    "tokenizer_path = Path('./tokenizer/')\n",
    "tokenizer_path.mkdir(exist_ok=True)\n",
    "\n",
    "tokenizer = Tokenizer(BPE())\n",
    "\n",
    "tokenizer.pre_tokenizer = pre_tokenizers.ByteLevel(add_prefix_space=False)\n",
    "tokenizer.post_processor = processors.ByteLevel(trim_offsets=False)\n",
    "tokenizer.decoder = decoders.ByteLevel()\n",
    "trainer = BpeTrainer(special_tokens=['<|endoftext|>'], min_frequency=2)\n",
    "\n",
    "tokenizer.train(['shakespeare.txt'],trainer)\n",
    "tokenizer.save(str(tokenizer_path / 'shakespeare.json'))"
   ]
  },
  {
   "cell_type": "code",
   "execution_count": 10,
   "metadata": {},
   "outputs": [
    {
     "data": {
      "text/plain": [
       "('cpu', 12518)"
      ]
     },
     "execution_count": 10,
     "metadata": {},
     "output_type": "execute_result"
    }
   ],
   "source": [
    "@dataclass\n",
    "class Config:\n",
    "    \n",
    "    block_size = 256 # context-length\n",
    "    batch_size = 64 # mini-batch size\n",
    "    \n",
    "    vocab_size = tokenizer.get_vocab_size()\n",
    "    \n",
    "    train_size = 0.9 \n",
    "    \n",
    "    n_embed = 384\n",
    "    n_heads = 6\n",
    "    head_size = n_embed // n_heads # computes to 384/6=64\n",
    "    \n",
    "    n_layers = 3\n",
    "    \n",
    "    train_iters = 5000 # no. of batches to train on\n",
    "    val_iters = 500 # no. of batches to validate on every eval_intervals\n",
    "    \n",
    "    eval_interval = 1000 # validate after every eval_interval iterations while training\n",
    "    \n",
    "    lr = 5e-4\n",
    "    \n",
    "    attn_dropout = 0.2\n",
    "    block_dropout = 0.2\n",
    "    \n",
    "    device = 'cuda' if torch.cuda.is_available() else 'cpu'\n",
    "    \n",
    "Config.device, Config.vocab_size"
   ]
  },
  {
   "cell_type": "code",
   "execution_count": 11,
   "metadata": {},
   "outputs": [],
   "source": [
    "class ShakespeareDataset:\n",
    "    def __init__(self, Config, is_test=False) -> None:\n",
    "        self.file_path = Path('shakespeare.txt')\n",
    "        self.tokenizer_path = Path('tokenizer/shakespeare.json')\n",
    "        with open(self.file_path,'r',encoding='utf-8') as f:\n",
    "            self.data = f.read()\n",
    "        self.tokenizer = Tokenizer.from_file(str(self.tokenizer_path))\n",
    "        \n",
    "        self.full_data = torch.tensor(self.tokenizer.encode(self.data).ids, dtype=torch.long)\n",
    "        \n",
    "        self.is_test = is_test\n",
    "        if self.is_test:\n",
    "            self.data = self.full_data[int(Config.train_size*len(self.full_data)):]\n",
    "        else:\n",
    "            self.data = self.full_data[:int(Config.train_size*len(self.full_data))]\n",
    "\n",
    "        self.block_size = Config.block_size\n",
    "        self.batch_size = Config.batch_size\n",
    "\n",
    "    def __len__(self) -> int:\n",
    "        return len(self.data)\n",
    "\n",
    "    def get_block_size(self) -> int:\n",
    "        return self.block_size\n",
    "\n",
    "    def get_vocab_size(self) -> int:\n",
    "        return self.tokenizer.get_vocab_size()\n",
    "\n",
    "    def __next__(self):\n",
    "        ix = torch.randint(len(self.data) - self.block_size, (self.batch_size,))\n",
    "        x = torch.stack([self.data[i:i+self.block_size] for i in ix])\n",
    "        y = torch.stack([self.data[i+1:i+self.block_size+1] for i in ix])\n",
    "        return x,y"
   ]
  },
  {
   "cell_type": "code",
   "execution_count": 12,
   "metadata": {},
   "outputs": [],
   "source": [
    "class AttentionHead(nn.Module):\n",
    "    def __init__(self, Config):\n",
    "        super().__init__()\n",
    "\n",
    "        self.block_size = Config.block_size\n",
    "        self.n_embed = Config.n_embed\n",
    "        self.head_size = Config.head_size\n",
    "        \n",
    "        self.key = nn.Linear(self.n_embed, self.head_size, bias=False)\n",
    "        self.query = nn.Linear(self.n_embed, self.head_size, bias=False)\n",
    "        \n",
    "        self.value = nn.Linear(self.n_embed, self.head_size, bias=False)\n",
    "\n",
    "        self.register_buffer(\n",
    "            'tril',\n",
    "            torch.tril(torch.ones(self.block_size,self.block_size))\n",
    "        )\n",
    "        \n",
    "        self.dropout = nn.Dropout(Config.attn_dropout)\n",
    "\n",
    "    def forward(self, x):\n",
    "\n",
    "        B,T,C = x.shape\n",
    "\n",
    "        k = self.key(x)\n",
    "        q = self.query(x)\n",
    "\n",
    "        wei = q@k.transpose(-2,-1) * (C ** 0.5)\n",
    "        wei = wei.masked_fill(self.tril[:T,:T]==0,float('-inf'))\n",
    "        wei = F.softmax(wei, dim=-1)\n",
    "        wei = self.dropout(wei)\n",
    "        \n",
    "        v = self.value(x)\n",
    "        out = wei @ v\n",
    "        \n",
    "        return out"
   ]
  },
  {
   "cell_type": "code",
   "execution_count": 13,
   "metadata": {},
   "outputs": [],
   "source": [
    "class MultiHeadAttention(nn.Module):\n",
    "    def __init__(self, Config):\n",
    "        super().__init__()\n",
    "        self.n_heads = Config.n_heads\n",
    "        self.head_size = Config.head_size\n",
    "        \n",
    "        self.heads = nn.ModuleList([AttentionHead(Config) for _ in range(self.n_heads)])\n",
    "        \n",
    "        self.projection = nn.Linear(Config.n_embed, Config.n_embed)\n",
    "        \n",
    "        self.dropout = nn.Dropout(Config.attn_dropout)\n",
    "    \n",
    "    def forward(self,x):\n",
    "        x = torch.cat([h(x) for h in self.heads],dim=-1)\n",
    "        x = self.projection(x)\n",
    "        x = self.dropout(x)\n",
    "        return x"
   ]
  },
  {
   "cell_type": "code",
   "execution_count": 14,
   "metadata": {},
   "outputs": [],
   "source": [
    "class FeedForward(nn.Module):\n",
    "    def __init__(self, Config):\n",
    "        super().__init__()\n",
    "        self.net = nn.Sequential(\n",
    "            nn.Linear(Config.n_embed,Config.n_embed * 4),\n",
    "            nn.ReLU(),\n",
    "            nn.Linear(Config.n_embed * 4, Config.n_embed), # projection\n",
    "            nn.Dropout(Config.block_dropout)\n",
    "        )\n",
    "    def forward(self,x):\n",
    "        return self.net(x)"
   ]
  },
  {
   "cell_type": "code",
   "execution_count": 15,
   "metadata": {},
   "outputs": [],
   "source": [
    "class TransformerBlock(nn.Module):\n",
    "    def __init__(self, Config):\n",
    "        super().__init__()\n",
    "        self.attn = MultiHeadAttention(Config)\n",
    "        self.ff = FeedForward(Config)\n",
    "        self.ln1 = nn.LayerNorm(Config.n_embed)\n",
    "        self.ln2 = nn.LayerNorm(Config.n_embed)\n",
    "\n",
    "    def forward(self,x):\n",
    "        x = x + self.attn(self.ln1(x))\n",
    "        x = x + self.ff(self.ln2(x))\n",
    "        \n",
    "        return x"
   ]
  },
  {
   "cell_type": "code",
   "execution_count": 16,
   "metadata": {},
   "outputs": [],
   "source": [
    "class ShakespeareGPT(nn.Module):\n",
    "    def __init__(self,Config):\n",
    "        super().__init__()\n",
    "        \n",
    "        self.n_embed = Config.n_embed\n",
    "        self.block_size = Config.block_size\n",
    "        \n",
    "        self.token_embedding_table = nn.Embedding(Config.vocab_size,self.n_embed)\n",
    "        self.pos_embedding_table = nn.Embedding(self.block_size, self.n_embed)\n",
    "        \n",
    "        self.blocks = nn.Sequential(\n",
    "            *[TransformerBlock(Config)]*Config.n_layers,\n",
    "            nn.LayerNorm(self.n_embed)\n",
    "        )\n",
    "\n",
    "        self.lm_head = nn.Linear(self.n_embed,Config.vocab_size)\n",
    "        \n",
    "    def forward(self,idx):\n",
    "        \n",
    "        B,T = idx.shape\n",
    "        \n",
    "        token_embs = self.token_embedding_table(idx)\n",
    "        pos_embs = self.pos_embedding_table(torch.arange(T,device=Config.device))\n",
    "        \n",
    "        \n",
    "        x = token_embs + pos_embs\n",
    "        x = self.blocks(x)\n",
    "        logits = self.lm_head(x)\n",
    "        \n",
    "        return logits\n",
    "\n",
    "        \n",
    "    def generate(self,idx,total):\n",
    "        for _ in range(total):\n",
    "            idx_cond = idx[:, -self.block_size:]\n",
    "            logits= self(idx_cond)\n",
    "            logits = logits[:, -1, :]\n",
    "            probs = F.softmax(logits, dim=-1)\n",
    "            idx_next = torch.multinomial(probs, num_samples=1)\n",
    "            idx = torch.cat((idx, idx_next), dim=1)\n",
    "        return idx"
   ]
  },
  {
   "cell_type": "code",
   "execution_count": 17,
   "metadata": {},
   "outputs": [],
   "source": [
    "train_ds = ShakespeareDataset(Config)\n",
    "val_ds = ShakespeareDataset(Config,is_test=True)"
   ]
  },
  {
   "cell_type": "code",
   "execution_count": 18,
   "metadata": {},
   "outputs": [],
   "source": [
    "lm = ShakespeareGPT(Config)\n",
    "lm = lm.to(device=Config.device)"
   ]
  },
  {
   "cell_type": "code",
   "execution_count": 19,
   "metadata": {},
   "outputs": [
    {
     "data": {
      "text/plain": [
       "===============================================================================================\n",
       "Layer (type:depth-idx)                        Output Shape              Param #\n",
       "===============================================================================================\n",
       "ShakespeareGPT                                [64, 256, 12518]          --\n",
       "├─Embedding: 1-1                              [64, 256, 384]            4,806,912\n",
       "├─Embedding: 1-2                              [256, 384]                98,304\n",
       "├─Sequential: 1-3                             [64, 256, 384]            --\n",
       "│    └─TransformerBlock: 2-1                  [64, 256, 384]            --\n",
       "│    │    └─LayerNorm: 3-1                    [64, 256, 384]            768\n",
       "│    │    └─MultiHeadAttention: 3-2           [64, 256, 384]            --\n",
       "│    │    │    └─ModuleList: 4-9              --                        (recursive)\n",
       "│    │    │    │    └─AttentionHead: 5-1      [64, 256, 64]             73,728\n",
       "│    │    │    │    └─AttentionHead: 5-2      [64, 256, 64]             73,728\n",
       "│    │    │    │    └─AttentionHead: 5-3      [64, 256, 64]             73,728\n",
       "│    │    │    │    └─AttentionHead: 5-4      [64, 256, 64]             73,728\n",
       "│    │    │    │    └─AttentionHead: 5-5      [64, 256, 64]             73,728\n",
       "│    │    │    │    └─AttentionHead: 5-6      [64, 256, 64]             73,728\n",
       "│    │    │    └─Linear: 4-2                  [64, 256, 384]            147,840\n",
       "│    │    │    └─Dropout: 4-3                 [64, 256, 384]            --\n",
       "│    │    └─LayerNorm: 3-3                    [64, 256, 384]            768\n",
       "│    │    └─FeedForward: 3-4                  [64, 256, 384]            --\n",
       "│    │    │    └─Sequential: 4-4              [64, 256, 384]            --\n",
       "│    │    │    │    └─Linear: 5-7             [64, 256, 1536]           591,360\n",
       "│    │    │    │    └─ReLU: 5-8               [64, 256, 1536]           --\n",
       "│    │    │    │    └─Linear: 5-9             [64, 256, 384]            590,208\n",
       "│    │    │    │    └─Dropout: 5-10           [64, 256, 384]            --\n",
       "│    └─TransformerBlock: 2-2                  [64, 256, 384]            (recursive)\n",
       "│    │    └─LayerNorm: 3-5                    [64, 256, 384]            (recursive)\n",
       "│    │    └─MultiHeadAttention: 3-6           [64, 256, 384]            (recursive)\n",
       "│    │    │    └─ModuleList: 4-9              --                        (recursive)\n",
       "│    │    │    │    └─AttentionHead: 5-11     [64, 256, 64]             (recursive)\n",
       "│    │    │    │    └─AttentionHead: 5-12     [64, 256, 64]             (recursive)\n",
       "│    │    │    │    └─AttentionHead: 5-13     [64, 256, 64]             (recursive)\n",
       "│    │    │    │    └─AttentionHead: 5-14     [64, 256, 64]             (recursive)\n",
       "│    │    │    │    └─AttentionHead: 5-15     [64, 256, 64]             (recursive)\n",
       "│    │    │    │    └─AttentionHead: 5-16     [64, 256, 64]             (recursive)\n",
       "│    │    │    └─Linear: 4-6                  [64, 256, 384]            (recursive)\n",
       "│    │    │    └─Dropout: 4-7                 [64, 256, 384]            --\n",
       "│    │    └─LayerNorm: 3-7                    [64, 256, 384]            (recursive)\n",
       "│    │    └─FeedForward: 3-8                  [64, 256, 384]            (recursive)\n",
       "│    │    │    └─Sequential: 4-8              [64, 256, 384]            (recursive)\n",
       "│    │    │    │    └─Linear: 5-17            [64, 256, 1536]           (recursive)\n",
       "│    │    │    │    └─ReLU: 5-18              [64, 256, 1536]           --\n",
       "│    │    │    │    └─Linear: 5-19            [64, 256, 384]            (recursive)\n",
       "│    │    │    │    └─Dropout: 5-20           [64, 256, 384]            --\n",
       "│    └─TransformerBlock: 2-3                  [64, 256, 384]            (recursive)\n",
       "│    │    └─LayerNorm: 3-9                    [64, 256, 384]            (recursive)\n",
       "│    │    └─MultiHeadAttention: 3-10          [64, 256, 384]            (recursive)\n",
       "│    │    │    └─ModuleList: 4-9              --                        (recursive)\n",
       "│    │    │    │    └─AttentionHead: 5-21     [64, 256, 64]             (recursive)\n",
       "│    │    │    │    └─AttentionHead: 5-22     [64, 256, 64]             (recursive)\n",
       "│    │    │    │    └─AttentionHead: 5-23     [64, 256, 64]             (recursive)\n",
       "│    │    │    │    └─AttentionHead: 5-24     [64, 256, 64]             (recursive)\n",
       "│    │    │    │    └─AttentionHead: 5-25     [64, 256, 64]             (recursive)\n",
       "│    │    │    │    └─AttentionHead: 5-26     [64, 256, 64]             (recursive)\n",
       "│    │    │    └─Linear: 4-10                 [64, 256, 384]            (recursive)\n",
       "│    │    │    └─Dropout: 4-11                [64, 256, 384]            --\n",
       "│    │    └─LayerNorm: 3-11                   [64, 256, 384]            (recursive)\n",
       "│    │    └─FeedForward: 3-12                 [64, 256, 384]            (recursive)\n",
       "│    │    │    └─Sequential: 4-12             [64, 256, 384]            (recursive)\n",
       "│    │    │    │    └─Linear: 5-27            [64, 256, 1536]           (recursive)\n",
       "│    │    │    │    └─ReLU: 5-28              [64, 256, 1536]           --\n",
       "│    │    │    │    └─Linear: 5-29            [64, 256, 384]            (recursive)\n",
       "│    │    │    │    └─Dropout: 5-30           [64, 256, 384]            --\n",
       "│    └─LayerNorm: 2-4                         [64, 256, 384]            768\n",
       "├─Linear: 1-4                                 [64, 256, 12518]          4,819,430\n",
       "===============================================================================================\n",
       "Total params: 11,498,726\n",
       "Trainable params: 11,498,726\n",
       "Non-trainable params: 0\n",
       "Total mult-adds (M): 981.78\n",
       "===============================================================================================\n",
       "Input size (MB): 0.13\n",
       "Forward/backward pass size (MB): 3403.15\n",
       "Params size (MB): 45.99\n",
       "Estimated Total Size (MB): 3449.28\n",
       "==============================================================================================="
      ]
     },
     "execution_count": 19,
     "metadata": {},
     "output_type": "execute_result"
    }
   ],
   "source": [
    "summary(lm,input_size=(Config.batch_size, Config.block_size),dtypes=[torch.long],depth=5,)"
   ]
  },
  {
   "cell_type": "code",
   "execution_count": 20,
   "metadata": {},
   "outputs": [],
   "source": [
    "optim = torch.optim.AdamW(lm.parameters(), lr=Config.lr)"
   ]
  },
  {
   "cell_type": "code",
   "execution_count": 21,
   "metadata": {},
   "outputs": [],
   "source": [
    "def loss_fn(logits, targets):\n",
    "    B,T,C = logits.shape\n",
    "    logits = logits.view(B*T, C)\n",
    "    targets = targets.view(B*T)\n",
    "    loss = F.cross_entropy(logits,targets)\n",
    "    return loss"
   ]
  },
  {
   "cell_type": "code",
   "execution_count": 22,
   "metadata": {},
   "outputs": [],
   "source": [
    "@torch.no_grad()\n",
    "def valid_N_iters():\n",
    "    val_step_losses = []\n",
    "    for batch in tqdm(range(Config.val_iters)):\n",
    "        inputs, targets = next(val_ds)\n",
    "        inputs, targets = inputs.to(device=Config.device), targets.to(device=Config.device)\n",
    "        logits = lm(inputs)\n",
    "        loss = loss_fn(logits,targets)\n",
    "        val_step_losses.append(loss.item())\n",
    "        \n",
    "        del inputs, targets, loss, logits\n",
    "    \n",
    "    val_loss = torch.tensor(val_step_losses).mean()\n",
    "    print(f'val loss: {val_loss}')\n",
    "    return val_loss"
   ]
  },
  {
   "cell_type": "code",
   "execution_count": 23,
   "metadata": {},
   "outputs": [],
   "source": [
    "def train_N_iters():\n",
    "    lm.train()\n",
    "    train_step_losses = []\n",
    "    val_losses = []\n",
    "    for batch in tqdm(range(Config.train_iters)):\n",
    "        optim.zero_grad()\n",
    "        inputs, targets = next(train_ds)\n",
    "        inputs, targets = inputs.to(device=Config.device), targets.to(device=Config.device)\n",
    "        logits = lm(inputs)\n",
    "        loss = loss_fn(logits,targets)\n",
    "        loss.backward()\n",
    "        optim.step()\n",
    "        train_step_losses.append(loss.item())\n",
    "        \n",
    "        if batch%(Config.train_iters//10)==0 or batch==Config.train_iters-1:\n",
    "            print(f\"\\n{'-'*50}\\nbatch {batch} train step loss: {loss.item()}\")\n",
    "            print(f\"train loss so far: {torch.tensor(train_step_losses).mean()}\\n{'-'*50}\\n\")\n",
    "            \n",
    "        if batch%Config.eval_interval==0 or batch==Config.train_iters-1:\n",
    "            lm.eval()\n",
    "            val_loss = valid_N_iters()\n",
    "            lm.train()\n",
    "            val_losses.append(val_loss.item())\n",
    "            \n",
    "            del val_loss\n",
    "            \n",
    "        del inputs, targets, loss, logits\n",
    "        \n",
    "    return train_step_losses, val_losses"
   ]
  },
  {
   "cell_type": "code",
   "execution_count": 24,
   "metadata": {},
   "outputs": [],
   "source": [
    "def save_lm():\n",
    "    state_dict = lm.state_dict()\n",
    "    save_path = Path('./').resolve() / 'shakespeareGPT'\n",
    "    save_path.mkdir(exist_ok=True)\n",
    "    model_path = save_path / f'shakespeareGPT.pth'\n",
    "    torch.save(state_dict, model_path)"
   ]
  },
  {
   "cell_type": "code",
   "execution_count": 25,
   "metadata": {},
   "outputs": [],
   "source": [
    "def train_lm():\n",
    "    train_step_losses,val_losses = train_N_iters()\n",
    "    save_lm()\n",
    "    return train_step_losses,val_losses"
   ]
  },
  {
   "cell_type": "code",
   "execution_count": 26,
   "metadata": {},
   "outputs": [
    {
     "data": {
      "application/vnd.jupyter.widget-view+json": {
       "model_id": "2da80daa29bc4e65a96ff909027d2ab9",
       "version_major": 2,
       "version_minor": 0
      },
      "text/plain": [
       "  0%|          | 0/5000 [00:00<?, ?it/s]"
      ]
     },
     "metadata": {},
     "output_type": "display_data"
    },
    {
     "name": "stdout",
     "output_type": "stream",
     "text": [
      "\n",
      "--------------------------------------------------\n",
      "batch 0 train step loss: 9.616972923278809\n",
      "train loss so far: 9.616972923278809\n",
      "--------------------------------------------------\n",
      "\n"
     ]
    },
    {
     "data": {
      "application/vnd.jupyter.widget-view+json": {
       "model_id": "d0c1d1bf3e094deab8499f7e9f233cad",
       "version_major": 2,
       "version_minor": 0
      },
      "text/plain": [
       "  0%|          | 0/500 [00:00<?, ?it/s]"
      ]
     },
     "metadata": {},
     "output_type": "display_data"
    },
    {
     "name": "stdout",
     "output_type": "stream",
     "text": [
      "val loss: 8.993818283081055\n",
      "\n",
      "--------------------------------------------------\n",
      "batch 500 train step loss: 4.388819217681885\n",
      "train loss so far: 5.015842437744141\n",
      "--------------------------------------------------\n",
      "\n",
      "\n",
      "--------------------------------------------------\n",
      "batch 1000 train step loss: 3.950183391571045\n",
      "train loss so far: 4.561852931976318\n",
      "--------------------------------------------------\n",
      "\n"
     ]
    },
    {
     "data": {
      "application/vnd.jupyter.widget-view+json": {
       "model_id": "5b1143bdc86e43e5bfead800d04be421",
       "version_major": 2,
       "version_minor": 0
      },
      "text/plain": [
       "  0%|          | 0/500 [00:00<?, ?it/s]"
      ]
     },
     "metadata": {},
     "output_type": "display_data"
    },
    {
     "name": "stdout",
     "output_type": "stream",
     "text": [
      "val loss: 5.479422092437744\n",
      "\n",
      "--------------------------------------------------\n",
      "batch 1500 train step loss: 3.8273324966430664\n",
      "train loss so far: 4.3443603515625\n",
      "--------------------------------------------------\n",
      "\n",
      "\n",
      "--------------------------------------------------\n",
      "batch 2000 train step loss: 3.875539541244507\n",
      "train loss so far: 4.225096225738525\n",
      "--------------------------------------------------\n",
      "\n"
     ]
    },
    {
     "data": {
      "application/vnd.jupyter.widget-view+json": {
       "model_id": "0a791dfadc154b49a407d8ca14a94c02",
       "version_major": 2,
       "version_minor": 0
      },
      "text/plain": [
       "  0%|          | 0/500 [00:00<?, ?it/s]"
      ]
     },
     "metadata": {},
     "output_type": "display_data"
    },
    {
     "name": "stdout",
     "output_type": "stream",
     "text": [
      "val loss: 5.6221394538879395\n",
      "\n",
      "--------------------------------------------------\n",
      "batch 2500 train step loss: 3.8589088916778564\n",
      "train loss so far: 4.1599273681640625\n",
      "--------------------------------------------------\n",
      "\n",
      "\n",
      "--------------------------------------------------\n",
      "batch 3000 train step loss: 3.7892215251922607\n",
      "train loss so far: 4.109087944030762\n",
      "--------------------------------------------------\n",
      "\n"
     ]
    },
    {
     "data": {
      "application/vnd.jupyter.widget-view+json": {
       "model_id": "0dcbcd852f6d47a1aff1c8637d8cb1e1",
       "version_major": 2,
       "version_minor": 0
      },
      "text/plain": [
       "  0%|          | 0/500 [00:00<?, ?it/s]"
      ]
     },
     "metadata": {},
     "output_type": "display_data"
    },
    {
     "name": "stdout",
     "output_type": "stream",
     "text": [
      "val loss: 5.8107380867004395\n",
      "\n",
      "--------------------------------------------------\n",
      "batch 3500 train step loss: 3.675053358078003\n",
      "train loss so far: 4.0600666999816895\n",
      "--------------------------------------------------\n",
      "\n",
      "\n",
      "--------------------------------------------------\n",
      "batch 4000 train step loss: 3.8324975967407227\n",
      "train loss so far: 4.028163433074951\n",
      "--------------------------------------------------\n",
      "\n"
     ]
    },
    {
     "data": {
      "application/vnd.jupyter.widget-view+json": {
       "model_id": "04858e7f15514e62859c50bb82685426",
       "version_major": 2,
       "version_minor": 0
      },
      "text/plain": [
       "  0%|          | 0/500 [00:00<?, ?it/s]"
      ]
     },
     "metadata": {},
     "output_type": "display_data"
    },
    {
     "name": "stdout",
     "output_type": "stream",
     "text": [
      "val loss: 5.864086151123047\n",
      "\n",
      "--------------------------------------------------\n",
      "batch 4500 train step loss: 3.7452592849731445\n",
      "train loss so far: 3.9969303607940674\n",
      "--------------------------------------------------\n",
      "\n",
      "\n",
      "--------------------------------------------------\n",
      "batch 4999 train step loss: 3.7504751682281494\n",
      "train loss so far: 3.97222900390625\n",
      "--------------------------------------------------\n",
      "\n"
     ]
    },
    {
     "data": {
      "application/vnd.jupyter.widget-view+json": {
       "model_id": "c40fcb4de5f14decb018cd10ba23fad2",
       "version_major": 2,
       "version_minor": 0
      },
      "text/plain": [
       "  0%|          | 0/500 [00:00<?, ?it/s]"
      ]
     },
     "metadata": {},
     "output_type": "display_data"
    },
    {
     "name": "stdout",
     "output_type": "stream",
     "text": [
      "val loss: 5.893953800201416\n"
     ]
    }
   ],
   "source": [
    "tsl,vl=train_lm()"
   ]
  },
  {
   "cell_type": "code",
   "execution_count": 27,
   "metadata": {},
   "outputs": [
    {
     "data": {
      "image/png": "[encoded data removed]",
      "text/plain": [
       "<Figure size 640x480 with 1 Axes>"
      ]
     },
     "metadata": {},
     "output_type": "display_data"
    },
    {
     "data": {
      "image/png": "[encoded data removed]",
      "text/plain": [
       "<Figure size 640x480 with 1 Axes>"
      ]
     },
     "metadata": {},
     "output_type": "display_data"
    }
   ],
   "source": [
    "plt.plot(tsl,label='train step loss',color='orange')\n",
    "plt.legend()\n",
    "plt.show()\n",
    "plt.plot(vl,label='validation loss',color='green')\n",
    "plt.legend()\n",
    "plt.show()"
   ]
  },
  {
   "cell_type": "code",
   "execution_count": 28,
   "metadata": {},
   "outputs": [
    {
     "name": "stdout",
     "output_type": "stream",
     "text": [
      "generated (100 tokens)\n",
      "==================================================\n",
      "\n",
      "So much I hide; therefore I owe thou go to be a maid,\n",
      "Who sues dam'\n",
      "Foes prove true:\n",
      "COMINIUS:\n",
      "Is yet the instant's mischance.\n",
      "Thou art\n",
      "Be yopp'd\n",
      "With than his fleece and a particip; his straw upon a Roman.\n",
      "If any man;' but the drops strokes received eight tall fellow, myself into terms\n",
      "Cut off,\n",
      "The owl by my judge, that I will beget thy virtues, like,\n",
      "==================================================\n",
      "\n",
      "\n",
      "generated (300 tokens)\n",
      "==================================================\n",
      "\n",
      "CATESBY:\n",
      "Stay'd:\n",
      "DERBY:\n",
      "The griefs?\n",
      "MONTAGUE:\n",
      "It was nor?\n",
      "Surrey! fast;\n",
      "Gives signal.\n",
      "\n",
      "Sixth not purchase there thou love,\n",
      "Uck him?\n",
      "Where's huntsmen\n",
      "Of the cause?\n",
      "Clown: the hard luck of our most,\n",
      "I have done am hurting troops of the king not,\n",
      "Sir,\n",
      "VOLUMNIA: the market thy looks wife's death!\n",
      "I have heard no more than seen man to thy father's son,\n",
      "I will frown like enemies! what a curse,\n",
      "Dick-minded Clarence, which corrupt the friends to cure to know. Now him. Send when he;\n",
      "To make before\n",
      "The love but, thou went in a thousand a banish'd:\n",
      "The fish, too.\n",
      "CORIOLANUS: how fares our hands of state press in the business\n",
      "Have holp between me music at our royal house of rebellion\n",
      "Softly?\n",
      "CORIOLANUS:\n",
      "As any kingdom out of my present-murderer away! my earth, flatterers to-morrow will call nature;\n",
      "Making be brief!\n",
      "'er sit\n",
      "Thou art Thou wast cannot l,--\n",
      "The corn!\n",
      "QUEEN ELIZABETH:\n",
      "And leave\n",
      "I may they fall, the heavens be done scathe from the happiness, at bow Sly of me from me to wash'd maid to the ground, if ever, compound\n",
      "Now sir?\n",
      "\n",
      "DUCHESS OF YORK:\n",
      "Was it, wife, not\n",
      "==================================================\n",
      "\n",
      "\n",
      "generated (500 tokens)\n",
      "==================================================\n",
      "\n",
      "Let him that the\n",
      "For me, to keep you have broken\n",
      "One of your deaths'Go on\n",
      "Though out\n",
      "Be ready of me for such devils say she will, makes\n",
      "The mayor of geese against witness to woe of death. being altogether just.\n",
      "Digressing,\n",
      "\n",
      "So did not by stay.\n",
      "Nor no wrong you need rest:\n",
      "The younger free and the\n",
      "You are the maids:\n",
      "My business straight gone,\n",
      "As I have.\n",
      "To hear me this forward guest.\n",
      "needs' for faces, I'll speak companion.\n",
      "Dishmen:\n",
      "Nurse:\n",
      "Even to Laurence';\n",
      "\n",
      "MENENIUS:\n",
      "This deserves--of to:\n",
      "Citizens:\n",
      "Pardon the sword;\n",
      "Not according to be old man?\n",
      "As he shall be thy garden circumvent law will not, he were gods have fought;\n",
      "\n",
      "For in change?\n",
      "\n",
      "MENENIUS:\n",
      "And quietness; which I or if you take at this sevensing the suppliants as they shall not be spent my body public thanks.\n",
      "Thus\n",
      "\n",
      "Returnly, I have strongly?\n",
      "Lest leaden pounds my treasury of thy hand;\n",
      "\n",
      "I hear him\n",
      "That's Junius he must; now, he'st about you ancientry\n",
      "Shall be partly his forget for if you collected him?\n",
      "\n",
      "What was so in him more than a house of the\n",
      "How much as into the worst cannot modest stamp, as time;\n",
      "You shall returned! millions.\n",
      "Now, the consecute o'er again.\n",
      "\n",
      "No, if you not i'er and in hourly trample not feal rejoice he alone; be ent to pieces, madam, to do, you:\n",
      "Sicinius Vailestical;\n",
      "We's end of the public hauntignied our further.\n",
      "SICINIUS:\n",
      "All too true Menenius, inform'd with my minded, yet!\n",
      "\n",
      "That will, but the senate, when he never die, Marcius been familiardearer love. What, ready, look'd it better other.\n",
      "MENENIUS:\n",
      "That at your worthy officer the people! Pray you,\n",
      "sent like you lose--\n",
      "Have spend the butterflies, on the main pointicatri\n",
      "MENENIUS:\n",
      "Come talk'd once a merry, by this condition,\n",
      "\n",
      "\n",
      "COMINIUS: we adm! thy garments?\n",
      "Sir, let us to you draw his uncus all together! Mercy attorneys\n",
      "For this assembly; what\n",
      "==================================================\n",
      "\n",
      "\n",
      "generated (700 tokens)\n",
      "==================================================\n",
      "\n",
      "Right tell me by herself, or where rode it?\n",
      "\n",
      "It here, dead.\n",
      "\n",
      "get,\n",
      "Farewell, be from you our request her such easy still the lungs to be a woman's lord, proves left at Saint Paul's face\n",
      "I' the as is changed not.\n",
      "Then was wean you thrive too late\n",
      "crook him plainly give my rapier's here lenten a divorce, I knew of charity will charm yourselves wondrous qualities, jealous.\n",
      "If it's not proud man of temper soften:\n",
      "knowledge\n",
      "gentleman with it good and my want you, march power change purpose please you must needs should\n",
      "\n",
      "When in these bars me; 'mummate his courtleges\n",
      "Yet did;\n",
      "The shipboard, the which peep himself to London fights for my rights, there's death, we will come, faith turn a kinsman of such rewards'd the sight?\n",
      "MENENIUS: our noble.\n",
      "malice?\n",
      "goodness and eatction good report shall hale;\n",
      "\n",
      "CORIOLANUS: if he should have.\n",
      "Let's down stretch-forth of\n",
      "Yet a part his oracle.\n",
      "Sir,\n",
      "Do smilingly revolt thing; and to him then.\n",
      "By the thigh!\n",
      "I do sworn that worthy work thou wise and made you speak before Corioli way.\n",
      "COMINIUS:\n",
      "The noble consul. He received eight shore,--as\n",
      "CORIOLANUS:\n",
      "Not unlike!\n",
      "Put not like a botcher's the marketplace\n",
      "You did--\n",
      "sighs were a lawful censure for thy wife is beyond arithmetic! how plainly\n",
      "First Senator:\n",
      "I, sir, peace, be dieted to and down\n",
      "First Citizen:\n",
      "Kind, there have said the senate\n",
      "\n",
      "To stop in thy adverse up 'deaf--No, and un speech.\n",
      "For this you will not dined,\n",
      "SICINIUS:\n",
      "To several places together after duke's huntsmen, be my hand, a brace, he so loves, how he not permit you debase, send up,\n",
      "Both Tribunes\n",
      "\n",
      "sentenced and Master, nothing but worse than honour safe discretion by thee, you\n",
      "\n",
      "We do\n",
      "MENENIUS:\n",
      "Should't.\n",
      "Go I will take apish nation by the peace!' pronounce thy good work, look you fragments, pray you weighed into like request,\n",
      "MENENIUS:\n",
      "Ay, which says he will make thee, the people; the warrant him; and pluck'd, as I clip honour\n",
      "Than of\n",
      "Which he misplace with us.\n",
      "Away.\n",
      "He calls at hand.\n",
      "And warriors?\n",
      "Could the good work; I'll have made--for:\n",
      "First Citizen:\n",
      "He flout,\n",
      "KING RICHARD III:\n",
      "fronts of 'twere; 't, arm of wine\n",
      "You are peremptory stood, men\n",
      "\n",
      "\n",
      "front? What,\n",
      "That his sword unsway'd so good\n",
      "I will prove great a half,\n",
      "Whom, I will tell the Sixth, you\n",
      "BRUTUS:\n",
      "That Marcius, with all times them cry ha. For instance: ink and the contrary, this?\n",
      "That come to Angelo.\n",
      "Or pile ten him.\n",
      "SICINIUS:\n",
      "There's so, I'll give him.\n",
      "MENENIUS:\n",
      "\n",
      "On by.\n",
      "COMINIUS:\n",
      "Messenger:\n",
      "It issues, one scratch!\n",
      "We have vengeance proud to rise.\n",
      "Than my masters is dispersed; throw you not rear-place, in\n",
      "A god, make me.\n",
      "\n",
      "QUEEN:\n",
      "==================================================\n",
      "\n",
      "\n",
      "generated (1000 tokens)\n",
      "==================================================\n",
      "\n",
      "\n",
      "Why, by day! he is not relish.\n",
      "To the good events, that sunders, his\n",
      "O brave man leave me, and you it on\n",
      "\n",
      "QUEEN MARGARET:\n",
      "And harmful's cursed York and sweetly the foe. Our?\n",
      "\n",
      "Think Edward's intention grief:\n",
      "Her wondrous, not in thy forwardness.\n",
      "\n",
      "\n",
      "And who is the tidings of your queen!\n",
      "For that she knew you, lad,\n",
      "What, cannot lick your physicians this unto the root thoughts crown in either side is true,\n",
      "\n",
      "HASTINGS: deal of Warwick, he dead men.\n",
      "Armruter logs Henry, thou find attach: I do forswear to lament,\n",
      "Call so,\n",
      "Now, why is no pilot? what I throw me curse, Bidency:\n",
      "YORK:\n",
      "Hath caused your body stoop of joy enjoys,\n",
      "What scourge;\n",
      "Accursed and Hastings, sir, now whilst of this first create.\n",
      "Their harts;\n",
      "And curse.\n",
      "My heart no note of stain thy crown and snarling to find thy sons of her?\n",
      "Where I to make known to despair:\n",
      "\n",
      "\n",
      "\n",
      "\n",
      "This shall the matter, I anger'd in France,\n",
      "\n",
      "\n",
      "OXFORD-haiory, and my hopes as thou hast thy mind he in you tell me banished! Prince of the holy rood thou canst!\n",
      "KING HENRY VI:\n",
      "Because we'll deblike conclusion wade his healthsome.\n",
      "\n",
      "Back of my heart misproud in dark oblivion, this is born, patience,\n",
      "Stoop, good as good to claim\n",
      "KING RICHARD II:\n",
      "MENENIUS:\n",
      "Unless\n",
      "\n",
      "All may\n",
      "DUKE OF GAUNT:\n",
      "That all his nature,\n",
      "Who bowls!\n",
      "Though not atonement? whence hath look on to my lords, my way;\n",
      "Nor near your valour.\n",
      "BRUTUS:\n",
      "KING RICHARD II:\n",
      "To help to my cousin!\n",
      "Ha a dovedosts here's many, we'll hammer'd.\n",
      "Is not die: Base thee so fair ground. Leave him.\n",
      "The other? Where is the rest, if break into the traitor murderer lives.\n",
      "For it\n",
      "That sets out of the mercy;\n",
      "I know he's bone! where I would have heard I see his proud birds:\n",
      "Where I am sorry.\n",
      "Now Phaethon?\n",
      "DUKE OF AUMERLE:\n",
      "If breath.\n",
      "\n",
      " weeps now, howbeit his grace.\n",
      "\n",
      "Whilst his hate, thou art thou shalt be weary joints, if you see Rome that he is too:\n",
      "\n",
      "That wounds to the compass the Duke of my cousin, my good good work, pale, and like glistering Phaethons long as king?\n",
      "\n",
      "In followingise.\n",
      "How a man, and I eat bread:\n",
      "\n",
      "And in rage into the\n",
      "\n",
      "With all, being altogether out?\n",
      "Up with all allegiance\n",
      "To whom, by the king\n",
      "\n",
      "Scorning?\n",
      "How would thou and lances arbitrate one lost request, spire the matter; and dead man be a mighty prince and not him up my claim thou, with fire is meet from\n",
      "come and give leisure his lodge! fie, I may make my kingly woe! O,\n",
      "Nor wish\n",
      "SICINIUS:\n",
      "\n",
      "SICINIUS:\n",
      "\n",
      "\n",
      "It is noble consul unto the envious clouds!\n",
      "\n",
      "\n",
      "\n",
      "\n",
      "This touch'd,\n",
      "Have you find attach\n",
      "In human action\n",
      "To be hatching on. Nay injurious tribune--\n",
      "MENENIUS: I apply him true love with us well married thy sword,'\n",
      "Pray\n",
      "The time of.\n",
      "Than your own. Lift accused one that shall follow a day of the storm.\n",
      "He calls? none\n",
      "Be the perfect.\n",
      "Though the breasts of it go to death?\n",
      "\n",
      "Your affairs, if you have strew me not neat, for--as pale together\n",
      "But in Corioli,\n",
      "It is, is enter'd,\n",
      "\n",
      "A cold, you give out of warriors:\n",
      "\n",
      "The people be his crest all our general's meet you are near time\n",
      "Then, but I cannot.\n",
      "\n",
      "I seem-name, son and could! Marcius chamberlain:--,'twill with the king, who declines my companion ant; your love give youittlely, wert sworn cold, having read\n",
      "The senators to his son\n",
      "A gentle out work,\n",
      "We shall miss, my.\n",
      "\n",
      "Of shame to-ribune to thy posterity.\n",
      "Nay, and cut off!\n",
      "You show'd feebling--ter,\n",
      "\n",
      "It is the gods ass the\n",
      "BRUTUS:\n",
      "He bear this same purpose and yours,\n",
      "Come, 'em, the senate\n",
      "t of chastisement as you, my services!\n",
      "The worst\n",
      "SICINIUS:\n",
      "My ladies\n",
      "Why come.\n",
      "Nay, with rice? more lack\n",
      "Now, which you have\n",
      "In ignorant. How long continued\n",
      "And let them.\n",
      "Ten in deeds him deserved it,\n",
      "\n",
      "==================================================\n",
      "\n",
      "\n"
     ]
    }
   ],
   "source": [
    "generated_texts = []\n",
    "for length in [100,300,500,700,1000]:\n",
    "    generated = lm.generate(\n",
    "    torch.zeros((1,1),dtype=torch.long,device=Config.device)+61, # initial context 61 (i believe its \\n)\n",
    "    total=length\n",
    ")\n",
    "    generated = tokenizer.decode(generated[0].cpu().numpy())\n",
    "    text=f'generated ({length} tokens)\\n{\"=\"*50}\\n{generated}\\n{\"=\"*50}\\n\\n'\n",
    "    generated_texts.append(text)\n",
    "    print(text)"
   ]
  },
  {
   "cell_type": "code",
   "execution_count": 29,
   "metadata": {},
   "outputs": [],
   "source": [
    "with open('generated.txt','w') as f:\n",
    "    for text in generated_texts:\n",
    "        f.write(text)"
   ]
  },
  {
   "cell_type": "code",
   "execution_count": 18,
   "metadata": {},
   "outputs": [
    {
     "data": {
      "text/plain": [
       "<All keys matched successfully>"
      ]
     },
     "execution_count": 18,
     "metadata": {},
     "output_type": "execute_result"
    }
   ],
   "source": [
    "model_path = './shakespeareGPT/shakespeareGPT.pth'\n",
    "state_dict = torch.load(model_path)\n",
    "lm = ShakespeareGPT(Config)\n",
    "lm.load_state_dict(state_dict)"
   ]
  },
  {
   "cell_type": "code",
   "execution_count": 19,
   "metadata": {},
   "outputs": [
    {
     "name": "stdout",
     "output_type": "stream",
     "text": [
      "generated (100 tokens)\n",
      "==================================================\n",
      "\n",
      "\n",
      "Provost:\n",
      "Do this order, do not by the other\n",
      "You, if the rest.\n",
      "BRUTUS:\n",
      "As Paris should keep.\n",
      "Not all men alive to use indeed, my breast,\n",
      "\n",
      "Make us,\n",
      "\n",
      "\n",
      "\n",
      "\n",
      "How much imports was a name?\n",
      "I will fall of this appeal\n",
      "\n",
      "\n",
      "Most royal father?\n",
      "\n",
      "\n",
      "\n",
      "\n",
      "And my head; to practise, being a dish cannot thrust's debt, ready sense\n",
      "It cannot prove this young\n",
      "==================================================\n",
      "\n",
      "\n"
     ]
    }
   ],
   "source": [
    "generated_texts = []\n",
    "for length in [100]:\n",
    "    generated = lm.generate(\n",
    "    torch.zeros((1,1),dtype=torch.long,device=Config.device)+61, # initial context 61 (i believe its \\n)\n",
    "    total=length\n",
    ")\n",
    "    generated = tokenizer.decode(generated[0].cpu().numpy())\n",
    "    text=f'generated ({length} tokens)\\n{\"=\"*50}\\n{generated}\\n{\"=\"*50}\\n\\n'\n",
    "    generated_texts.append(text)\n",
    "    print(text)"
   ]
  },
  {
   "cell_type": "code",
   "execution_count": null,
   "metadata": {},
   "outputs": [],
   "source": []
  }
 ],
 "metadata": {
  "kernelspec": {
   "display_name": "ai",
   "language": "python",
   "name": "python3"
  },
  "language_info": {
   "codemirror_mode": {
    "name": "ipython",
    "version": 3
   },
   "file_extension": ".py",
   "mimetype": "text/x-python",
   "name": "python",
   "nbconvert_exporter": "python",
   "pygments_lexer": "ipython3",
   "version": "3.9.18"
  }
 },
 "nbformat": 4,
 "nbformat_minor": 2
}
