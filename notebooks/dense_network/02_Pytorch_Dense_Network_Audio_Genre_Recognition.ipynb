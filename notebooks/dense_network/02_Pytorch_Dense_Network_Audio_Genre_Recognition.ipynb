{
  "cells": [
    {
      "cell_type": "code",
      "execution_count": 14,
      "metadata": {
        "id": "s3o5A_2eY3i0"
      },
      "outputs": [],
      "source": [
        "import torch\n",
        "import os\n",
        "import torchaudio\n",
        "from torch import nn\n",
        "from torch.utils.data import DataLoader, TensorDataset"
      ]
    },
    {
      "cell_type": "code",
      "execution_count": 118,
      "metadata": {
        "id": "3VqAoVbUeTtt"
      },
      "outputs": [],
      "source": [
        "DATA_PATH = '../../data/music_genre_dataset'\n",
        "\n",
        "WAV_PATH = os.path.join(DATA_PATH, 'genres_original')\n",
        "TEST_PATH = os.path.join(DATA_PATH, 'test_set')"
      ]
    },
    {
      "cell_type": "code",
      "execution_count": 119,
      "metadata": {},
      "outputs": [
        {
          "name": "stdout",
          "output_type": "stream",
          "text": [
            "{'blues': 0, 'classical': 1, 'country': 2, 'disco': 3, 'hiphop': 4, 'jazz': 5, 'metal': 6, 'pop': 7, 'reggae': 8, 'rock': 9}\n"
          ]
        }
      ],
      "source": [
        "### Arguments\n",
        "### path: path of either wav or png directory\n",
        "### Returns\n",
        "### dictionary of 'genre' -> number\n",
        "def extract_classes(path=WAV_PATH):\n",
        "    classes = {}\n",
        "    i = 0\n",
        "    for genre in os.listdir(path):\n",
        "        classes[genre] = i\n",
        "        i += 1\n",
        "    return classes\n",
        "CLASSES = extract_classes()\n",
        "print(CLASSES)"
      ]
    },
    {
      "cell_type": "markdown",
      "metadata": {},
      "source": [
        "The classification of genre is enumerated in the following way: {'blues': 0, 'classical': 1, 'country': 2, 'disco': 3, 'hiphop': 4, 'jazz': 5, 'metal': 6, 'pop': 7, 'reggae': 8, 'rock': 9}"
      ]
    },
    {
      "cell_type": "code",
      "execution_count": 120,
      "metadata": {},
      "outputs": [],
      "source": [
        "def get_genre_lable_vector(genre):\n",
        "    if genre == 'blues':\n",
        "        return torch.tensor([[1,0,0,0,0,0,0,0,0,0]])\n",
        "    elif genre == 'classical':\n",
        "        return torch.tensor([[0,1,0,0,0,0,0,0,0,0]])\n",
        "    elif genre == 'country':\n",
        "        return torch.tensor([[0,0,1,0,0,0,0,0,0,0]])\n",
        "    elif genre == 'disco':\n",
        "        return torch.tensor([[0,0,0,1,0,0,0,0,0,0]])\n",
        "    elif genre == 'hiphop':\n",
        "        return torch.tensor([[0,0,0,0,1,0,0,0,0,0]])\n",
        "    elif genre == 'jazz':\n",
        "        return torch.tensor([[0,0,0,0,0,1,0,0,0,0]])\n",
        "    elif genre == 'metal':\n",
        "        return torch.tensor([[0,0,0,0,0,0,1,0,0,0]])\n",
        "    elif genre == 'pop':\n",
        "        return torch.tensor([[0,0,0,0,0,0,0,1,0,0]])\n",
        "    elif genre == 'reggae':\n",
        "        return torch.tensor([[0,0,0,0,0,0,0,0,1,0]])\n",
        "    else:\n",
        "        return torch.tensor([[0,0,0,0,0,0,0,0,0,1]])"
      ]
    },
    {
      "cell_type": "code",
      "execution_count": 121,
      "metadata": {},
      "outputs": [
        {
          "name": "stdout",
          "output_type": "stream",
          "text": [
            "torch.Size([999, 220500])\n",
            "torch.Size([999, 10])\n",
            "tensor([[ 0.0073,  0.0166,  0.0076,  ...,  0.0762,  0.0768,  0.0813],\n",
            "        [ 0.0034,  0.0043,  0.0014,  ...,  0.0382,  0.0512,  0.0578],\n",
            "        [ 0.0190,  0.0477,  0.0294,  ...,  0.1489,  0.1865,  0.2213],\n",
            "        ...,\n",
            "        [-0.0341, -0.0384,  0.0031,  ...,  0.0347,  0.0670,  0.0928],\n",
            "        [ 0.0859,  0.1448,  0.1429,  ...,  0.0078,  0.0145,  0.0208],\n",
            "        [-0.0211, -0.0345, -0.0354,  ...,  0.0570,  0.0645,  0.0568]])\n",
            "tensor([[1., 0., 0.,  ..., 0., 0., 0.],\n",
            "        [1., 0., 0.,  ..., 0., 0., 0.],\n",
            "        [1., 0., 0.,  ..., 0., 0., 0.],\n",
            "        ...,\n",
            "        [0., 0., 0.,  ..., 0., 0., 1.],\n",
            "        [0., 0., 0.,  ..., 0., 0., 1.],\n",
            "        [0., 0., 0.,  ..., 0., 0., 1.]])\n"
          ]
        }
      ],
      "source": [
        "'''\n",
        "Returns a dataset with audio data and its classification\n",
        "\n",
        "{\n",
        "    'train': [[f0-fn],[f0-fn],...],\n",
        "    'target': [1,3,...]\n",
        "}\n",
        "'''\n",
        "def getTrainDataSet(path, duration=10, sr=22050):\n",
        "    genres = os.listdir(path)\n",
        "    n_frame = duration * sr        \n",
        "    audio_tensor = torch.Tensor()\n",
        "    label_tensor = torch.Tensor()\n",
        "    for genre in genres:\n",
        "        genre_path = os.path.join(path, genre)\n",
        "        files = os.listdir(genre_path)\n",
        "        for file in files:\n",
        "            file_path = os.path.join(genre_path, file)\n",
        "            audio_frames = torchaudio.load(file_path, num_frames=n_frame)\n",
        "            audio_tensor = torch.cat((audio_tensor, audio_frames[0]), dim=0)            \n",
        "            label_tensor = torch.cat((label_tensor, get_genre_lable_vector(genre)), dim=0)\n",
        "    return audio_tensor, label_tensor\n",
        "\n",
        "train, label = getTrainDataSet(WAV_PATH)\n",
        "print(train.shape)\n",
        "print(label.shape)\n",
        "print(train)\n",
        "print(label)"
      ]
    },
    {
      "cell_type": "code",
      "execution_count": 122,
      "metadata": {},
      "outputs": [],
      "source": [
        "test, test_label = getTrainDataSet(TEST_PATH)"
      ]
    },
    {
      "cell_type": "code",
      "execution_count": 73,
      "metadata": {},
      "outputs": [],
      "source": [
        "BATCH_SIZE = 64"
      ]
    },
    {
      "cell_type": "code",
      "execution_count": 123,
      "metadata": {},
      "outputs": [],
      "source": [
        "train_tensor = TensorDataset(train, label)\n",
        "test_tensor = TensorDataset(test, test_label)\n",
        "\n",
        "train_loader = DataLoader(dataset = train_tensor, batch_size = BATCH_SIZE, shuffle = True)\n",
        "test_loader = DataLoader(dataset = test_tensor, batch_size = BATCH_SIZE, shuffle = True)"
      ]
    },
    {
      "cell_type": "code",
      "execution_count": 124,
      "metadata": {},
      "outputs": [
        {
          "name": "stdout",
          "output_type": "stream",
          "text": [
            "220500\n"
          ]
        }
      ],
      "source": [
        "input_layer_size = 0\n",
        "\n",
        "for X, y in train_loader:\n",
        "    input_layer_size = X.shape[1]\n",
        "    print(X.shape[1])\n",
        "    break"
      ]
    },
    {
      "cell_type": "code",
      "execution_count": 125,
      "metadata": {},
      "outputs": [
        {
          "data": {
            "text/plain": [
              "tensor([1, 1, 1, 1, 1, 1, 1, 1, 1, 1])"
            ]
          },
          "execution_count": 125,
          "metadata": {},
          "output_type": "execute_result"
        }
      ],
      "source": [
        "torch.full(size=(10,), fill_value=1)"
      ]
    },
    {
      "cell_type": "code",
      "execution_count": 126,
      "metadata": {},
      "outputs": [
        {
          "name": "stdout",
          "output_type": "stream",
          "text": [
            "Using cpu device\n"
          ]
        }
      ],
      "source": [
        "# Get cpu, gpu or mps device for training.\n",
        "device = (\n",
        "    \"cuda\"\n",
        "    if torch.cuda.is_available()\n",
        "    else \"mps\"\n",
        "    if torch.backends.mps.is_available()\n",
        "    else \"cpu\"\n",
        ")\n",
        "print(f\"Using {device} device\")\n",
        "\n",
        "# Define model\n",
        "\n",
        "class NeuralNetwork(nn.Module):\n",
        "    def __init__(self):\n",
        "        super(NeuralNetwork, self).__init__()        \n",
        "        self.linear_relu_stack = nn.Sequential(\n",
        "            nn.Linear(input_layer_size, 512),\n",
        "            nn.ReLU(),\n",
        "            nn.Linear(512, 512),\n",
        "            nn.ReLU(),\n",
        "            nn.Linear(512, 10),\n",
        "            nn.Softmax()          \n",
        "        )\n",
        "\n",
        "    def forward(self, x):        \n",
        "        logits = self.linear_relu_stack(x)\n",
        "        return logits\n",
        "\n",
        "model = NeuralNetwork().to(device)"
      ]
    },
    {
      "cell_type": "code",
      "execution_count": 127,
      "metadata": {},
      "outputs": [],
      "source": [
        "learning_rate = 1e-3\n",
        "batch_size = 64\n",
        "epochs = 5"
      ]
    },
    {
      "cell_type": "code",
      "execution_count": 128,
      "metadata": {},
      "outputs": [],
      "source": [
        "# Initialize the loss function\n",
        "loss_fn = nn.MSELoss() # mean absolute error , mse"
      ]
    },
    {
      "cell_type": "code",
      "execution_count": 129,
      "metadata": {},
      "outputs": [],
      "source": [
        "optimizer = torch.optim.Adam(model.parameters(), lr=learning_rate)"
      ]
    },
    {
      "cell_type": "code",
      "execution_count": 130,
      "metadata": {},
      "outputs": [],
      "source": [
        "def train_loop(dataloader, model, loss_fn, optimizer):\n",
        "    size = len(dataloader.dataset)\n",
        "    for batch, (X, y) in enumerate(dataloader):\n",
        "        # Compute prediction and loss\n",
        "        pred = model(X)        \n",
        "        loss = loss_fn(pred, y)\n",
        "\n",
        "        # Backpropagation\n",
        "        optimizer.zero_grad() # fit\n",
        "        loss.backward()\n",
        "        optimizer.step()\n",
        "\n",
        "        if batch % 100 == 0:\n",
        "            loss, current = loss.item(), batch * len(X)\n",
        "            print(f\"loss: {loss:>7f}  [{current:>5d}/{size:>5d}]\")"
      ]
    },
    {
      "cell_type": "code",
      "execution_count": 131,
      "metadata": {},
      "outputs": [],
      "source": [
        "def test_loop(dataloader, model, loss_fn):\n",
        "    size = len(dataloader.dataset)\n",
        "    test_loss, correct = 0, 0\n",
        "\n",
        "    with torch.no_grad():\n",
        "        for X, y in dataloader:\n",
        "            pred = model(X)\n",
        "            test_loss += loss_fn(pred, y).item()            \n",
        "            correct += (pred.argmax(1) == y.argmax(1)).type(torch.float).sum().item()\n",
        "\n",
        "    test_loss /= size\n",
        "    correct /= size\n",
        "    print(f\"Test Error: \\n Accuracy: {(100*correct):>0.1f}%, Avg loss: {test_loss:>8f} \\n\")"
      ]
    },
    {
      "cell_type": "code",
      "execution_count": 132,
      "metadata": {},
      "outputs": [
        {
          "name": "stdout",
          "output_type": "stream",
          "text": [
            "Epoch 1\n",
            "-------------------------------\n"
          ]
        },
        {
          "name": "stderr",
          "output_type": "stream",
          "text": [
            "c:\\Users\\amos.zuercher\\.conda\\envs\\ai\\Lib\\site-packages\\torch\\nn\\modules\\module.py:1518: UserWarning: Implicit dimension choice for softmax has been deprecated. Change the call to include dim=X as an argument.\n",
            "  return self._call_impl(*args, **kwargs)\n"
          ]
        },
        {
          "name": "stdout",
          "output_type": "stream",
          "text": [
            "loss: 0.090152  [    0/  999]\n",
            "Test Error: \n",
            " Accuracy: 81.0%, Avg loss: 0.000959 \n",
            "\n",
            "Epoch 2\n",
            "-------------------------------\n",
            "loss: 0.048763  [    0/  999]\n",
            "Test Error: \n",
            " Accuracy: 99.0%, Avg loss: 0.000198 \n",
            "\n",
            "Epoch 3\n",
            "-------------------------------\n",
            "loss: 0.010134  [    0/  999]\n",
            "Test Error: \n",
            " Accuracy: 100.0%, Avg loss: 0.000031 \n",
            "\n",
            "Epoch 4\n",
            "-------------------------------\n",
            "loss: 0.003681  [    0/  999]\n",
            "Test Error: \n",
            " Accuracy: 100.0%, Avg loss: 0.000016 \n",
            "\n",
            "Epoch 5\n",
            "-------------------------------\n",
            "loss: 0.000271  [    0/  999]\n",
            "Test Error: \n",
            " Accuracy: 100.0%, Avg loss: 0.000011 \n",
            "\n",
            "Done!\n"
          ]
        }
      ],
      "source": [
        "for t in range(epochs):\n",
        "    print(f\"Epoch {t+1}\\n-------------------------------\")\n",
        "    train_loop(train_loader, model, loss_fn, optimizer)\n",
        "    test_loop(test_loader, model, loss_fn)\n",
        "print(\"Done!\")"
      ]
    },
    {
      "cell_type": "code",
      "execution_count": 86,
      "metadata": {},
      "outputs": [
        {
          "name": "stdout",
          "output_type": "stream",
          "text": [
            "Saved PyTorch Model State to model.pth\n"
          ]
        }
      ],
      "source": [
        "torch.save(model.state_dict(), \"model.pth\")\n",
        "print(\"Saved PyTorch Model State to model.pth\")"
      ]
    },
    {
      "cell_type": "code",
      "execution_count": null,
      "metadata": {},
      "outputs": [],
      "source": [
        "model = NeuralNetwork().to(device)\n",
        "model.load_state_dict(torch.load(\"model.pth\"))"
      ]
    },
    {
      "cell_type": "code",
      "execution_count": null,
      "metadata": {},
      "outputs": [],
      "source": [
        "classes = [\n",
        "    \"blues\",\n",
        "    \"classical\",\n",
        "    \"country\",\n",
        "    \"disco\",\n",
        "    \"hiphop\",\n",
        "    \"jazz\",\n",
        "    \"metal\",\n",
        "    \"pop\",\n",
        "    \"reggae\",\n",
        "    \"rock\",\n",
        "]\n",
        "\n",
        "model.eval()\n",
        "x, y = test_tensor[0][0], test_tensor[0][1]\n",
        "with torch.no_grad():\n",
        "    x = x.to(device)\n",
        "    pred = model(x)\n",
        "    predicted, actual = classes[pred[0].argmax(0)], classes[y]\n",
        "    print(f'Predicted: \"{predicted}\", Actual: \"{actual}\"')"
      ]
    }
  ],
  "metadata": {
    "colab": {
      "provenance": []
    },
    "kernelspec": {
      "display_name": "Python 3",
      "name": "python3"
    },
    "language_info": {
      "codemirror_mode": {
        "name": "ipython",
        "version": 3
      },
      "file_extension": ".py",
      "mimetype": "text/x-python",
      "name": "python",
      "nbconvert_exporter": "python",
      "pygments_lexer": "ipython3",
      "version": "3.11.5"
    }
  },
  "nbformat": 4,
  "nbformat_minor": 0
}
