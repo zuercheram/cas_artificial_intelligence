{
  "cells": [
    {
      "cell_type": "code",
      "execution_count": 241,
      "metadata": {
        "id": "9qVXBJ7u8l5s"
      },
      "outputs": [],
      "source": [
        "import torch\n",
        "from torch import nn\n",
        "from torch.utils.data import DataLoader, TensorDataset\n",
        "from torchvision import datasets\n",
        "from torchvision.transforms import ToTensor, Lambda, Compose, Normalize\n",
        "import numpy as np\n",
        "import matplotlib.pyplot as plt\n",
        "plt.rcParams[\"figure.figsize\"] = (24,8)"
      ]
    },
    {
      "cell_type": "code",
      "execution_count": 242,
      "metadata": {
        "id": "XSGCOKM48l5t"
      },
      "outputs": [],
      "source": [
        "# Hyperparameter definieren\n",
        "learning_rate = 1e-3\n",
        "batch_size = 64"
      ]
    },
    {
      "cell_type": "markdown",
      "metadata": {
        "id": "m_MLxccl8l5t"
      },
      "source": [
        "**Train dataset**"
      ]
    },
    {
      "cell_type": "code",
      "execution_count": 243,
      "metadata": {
        "id": "jtEv_AFMxSCZ"
      },
      "outputs": [],
      "source": [
        "class AddGaussianNoise(object):\n",
        "    def __init__(self, mean=0., std=1.):\n",
        "        self.std = std\n",
        "        self.mean = mean\n",
        "\n",
        "    def __call__(self, tensor):\n",
        "        return tensor + torch.randn(tensor.size()) * self.std + self.mean\n",
        "\n",
        "    def __repr__(self):\n",
        "        return self.__class__.__name__ + '(mean={0}, std={1})'.format(self.mean, self.std)\n"
      ]
    },
    {
      "cell_type": "code",
      "execution_count": 244,
      "metadata": {
        "id": "iyMV1yqW7M02"
      },
      "outputs": [],
      "source": [
        "def standardize(image: torch.Tensor) -> torch.Tensor:\n",
        "    image /= 255.\n",
        "    return image"
      ]
    },
    {
      "cell_type": "code",
      "execution_count": 245,
      "metadata": {
        "id": "3nZtiFDBwfRU"
      },
      "outputs": [],
      "source": [
        "transforms=Compose([\n",
        "    ToTensor(),\n",
        "    Normalize((0.1307,), (0.3081,)),\n",
        "    AddGaussianNoise(0., 100.),\n",
        "    Lambda(standardize)\n",
        "])"
      ]
    },
    {
      "cell_type": "code",
      "execution_count": 246,
      "metadata": {
        "id": "1YoVg1lhXsxx"
      },
      "outputs": [
        {
          "name": "stdout",
          "output_type": "stream",
          "text": [
            "Files already downloaded and verified\n",
            "Files already downloaded and verified\n"
          ]
        }
      ],
      "source": [
        "# Download training data from open datasets.\n",
        "training_data = datasets.CIFAR10(\n",
        "    root=\"data\",\n",
        "    train=True,\n",
        "    download=True,\n",
        "    transform=transforms\n",
        ")\n",
        "\n",
        "# Download test data from open datasets.\n",
        "test_data = datasets.CIFAR10(\n",
        "    root=\"data\",\n",
        "    train=False,\n",
        "    download=True,\n",
        "    transform=transforms\n",
        ")"
      ]
    },
    {
      "cell_type": "code",
      "execution_count": 247,
      "metadata": {
        "colab": {
          "base_uri": "https://localhost:8080/"
        },
        "id": "6Ud6PVDkbkIk",
        "outputId": "4a2ca125-0b28-41cc-edee-92426468c619"
      },
      "outputs": [
        {
          "data": {
            "text/plain": [
              "((50000, 32, 32, 3), (10000, 32, 32, 3))"
            ]
          },
          "execution_count": 247,
          "metadata": {},
          "output_type": "execute_result"
        }
      ],
      "source": [
        "training_data.data.shape, test_data.data.shape"
      ]
    },
    {
      "cell_type": "code",
      "execution_count": 248,
      "metadata": {
        "colab": {
          "base_uri": "https://localhost:8080/"
        },
        "id": "swsLcc7g1Gti",
        "outputId": "610b5fdf-f83f-465b-ee00-f054bd1be416"
      },
      "outputs": [
        {
          "data": {
            "text/plain": [
              "(0, 255)"
            ]
          },
          "execution_count": 248,
          "metadata": {},
          "output_type": "execute_result"
        }
      ],
      "source": [
        "training_data.data.min(), training_data.data.max()"
      ]
    },
    {
      "cell_type": "code",
      "execution_count": 249,
      "metadata": {
        "id": "rM_KatKUbraY"
      },
      "outputs": [],
      "source": [
        "# daten zu float 32 konvertieren\n",
        "# alles durch 255 dividieren\n",
        "# training_data.data/255 - > 0 bis 1\n",
        "# image vor dem AE mit Noise und nach der Eingabe - hoffentlich dann ohne Noise ausgeben\n",
        "\n",
        "train_noise = torch.tensor(np.random.randn(50000, 32, 32, 3)*100, dtype=torch.float32)\n",
        "\n",
        "test_noise = torch.tensor(np.random.randn(10000, 32, 32, 3)*100, dtype=torch.float32)"
      ]
    },
    {
      "cell_type": "code",
      "execution_count": 250,
      "metadata": {},
      "outputs": [
        {
          "data": {
            "text/plain": [
              "<matplotlib.image.AxesImage at 0x126aa9da290>"
            ]
          },
          "execution_count": 250,
          "metadata": {},
          "output_type": "execute_result"
        },
        {
          "data": {
            "image/png": "[encoded data removed]",
            "text/plain": [
              "<Figure size 2400x800 with 1 Axes>"
            ]
          },
          "metadata": {},
          "output_type": "display_data"
        }
      ],
      "source": [
        "plt.imshow(training_data.data[3])"
      ]
    },
    {
      "cell_type": "code",
      "execution_count": 252,
      "metadata": {
        "id": "H1tEDf14k-b9"
      },
      "outputs": [],
      "source": [
        "train = (torch.tensor(training_data.data).type(torch.float32) + train_noise)/255.\n",
        "test = (torch.tensor(test_data.data).type(torch.float32) + test_noise)/255.\n",
        "\n",
        "# train = (training_data.data.type(torch.float32) + train_noise)/255.\n",
        "# test = (test_data.data.type(torch.float32) + test_noise)/255."
      ]
    },
    {
      "cell_type": "code",
      "execution_count": 253,
      "metadata": {
        "colab": {
          "base_uri": "https://localhost:8080/"
        },
        "id": "3jDEtgFZF2F7",
        "outputId": "20454ca2-2857-4578-b8d0-ae27d0b87ac1"
      },
      "outputs": [
        {
          "data": {
            "text/plain": [
              "(torch.Size([50000, 32, 32, 3]), torch.Size([10000, 32, 32, 3]))"
            ]
          },
          "execution_count": 253,
          "metadata": {},
          "output_type": "execute_result"
        }
      ],
      "source": [
        "train.shape, test.shape"
      ]
    },
    {
      "cell_type": "code",
      "execution_count": 254,
      "metadata": {
        "id": "uPq0zgV4cW7I"
      },
      "outputs": [],
      "source": [
        "training_data_ae = TensorDataset(train, train)\n",
        "test_data_ae = TensorDataset(test, test)"
      ]
    },
    {
      "cell_type": "code",
      "execution_count": 255,
      "metadata": {
        "id": "KB3S00UNBHVG"
      },
      "outputs": [],
      "source": [
        "#training_data_ae.transform = transforms\n",
        "#test_data_ae.transform = transforms"
      ]
    },
    {
      "cell_type": "code",
      "execution_count": 256,
      "metadata": {
        "colab": {
          "base_uri": "https://localhost:8080/"
        },
        "id": "MGZOcuCaX6S2",
        "outputId": "9e5f93c4-bb88-495f-9178-374aad6d0fef"
      },
      "outputs": [
        {
          "name": "stdout",
          "output_type": "stream",
          "text": [
            "Shape of X [Batch Size, Channels, H, W]:  torch.Size([64, 32, 32, 3])\n",
            "Shape of y:  torch.Size([64, 32, 32, 3]) torch.float32\n"
          ]
        }
      ],
      "source": [
        "\n",
        "\n",
        "# Create data loaders.\n",
        "train_dataloader = DataLoader(training_data_ae, batch_size=batch_size)\n",
        "test_dataloader = DataLoader(test_data_ae, batch_size=batch_size)\n",
        "\n",
        "for X, y in test_dataloader:\n",
        "    print(\"Shape of X [Batch Size, Channels, H, W]: \", X.shape)\n",
        "    print(\"Shape of y: \", y.shape, y.dtype) # SAME AS INPUT\n",
        "    break"
      ]
    },
    {
      "cell_type": "code",
      "execution_count": 257,
      "metadata": {
        "colab": {
          "base_uri": "https://localhost:8080/",
          "height": 693
        },
        "id": "OOujeUOVbieg",
        "outputId": "909c93a6-0739-4c1b-ba34-623a3a7da1f1"
      },
      "outputs": [
        {
          "name": "stderr",
          "output_type": "stream",
          "text": [
            "Clipping input data to the valid range for imshow with RGB data ([0..1] for floats or [0..255] for integers).\n"
          ]
        },
        {
          "name": "stdout",
          "output_type": "stream",
          "text": [
            "tensor(-1.4829) tensor(2.4980)\n"
          ]
        },
        {
          "data": {
            "image/png": "[encoded data removed]",
            "text/plain": [
              "<Figure size 2400x800 with 1 Axes>"
            ]
          },
          "metadata": {},
          "output_type": "display_data"
        }
      ],
      "source": [
        "data, labels = next(iter(test_dataloader))\n",
        "print(torch.min(data), torch.max(data))\n",
        "img = data.detach().numpy()*255\n",
        "img = img.astype(int)\n",
        "plt.imshow(img[0]);"
      ]
    },
    {
      "cell_type": "markdown",
      "metadata": {
        "id": "5PzvIAwg8l5w"
      },
      "source": [
        "**Examine Dataset Range**"
      ]
    },
    {
      "cell_type": "code",
      "execution_count": 258,
      "metadata": {
        "colab": {
          "base_uri": "https://localhost:8080/"
        },
        "id": "j_Cx7tFD8l5w",
        "outputId": "7fd2f0b2-2cbd-4b95-ee5d-51ec8096b673"
      },
      "outputs": [
        {
          "name": "stdout",
          "output_type": "stream",
          "text": [
            "tensor(-1.5934) tensor(2.5573)\n"
          ]
        }
      ],
      "source": [
        "data, labels = next(iter(train_dataloader))\n",
        "print(torch.min(data), torch.max(data))"
      ]
    },
    {
      "cell_type": "markdown",
      "metadata": {
        "id": "NjKdciOQ8l5x"
      },
      "source": [
        "**Model**"
      ]
    },
    {
      "cell_type": "code",
      "execution_count": 259,
      "metadata": {
        "id": "uDnpHVDscywY"
      },
      "outputs": [],
      "source": [
        "class DenoisingAutoencoder(nn.Module):\n",
        "    def __init__(self):\n",
        "        super(DenoisingAutoencoder, self).__init__()\n",
        "        self.flatten = nn.Flatten()\n",
        "        self.encoder = nn.Sequential(\n",
        "            nn.Linear(32*32*3, 128), nn.ReLU(), # use tanh\n",
        "            nn.Linear(128, 64), nn.ReLU(),\n",
        "            nn.Linear(64, 16), nn.ReLU(),\n",
        "            #nn.Linear(16, 4), nn.ReLU(),\n",
        "        )\n",
        "\n",
        "        self.decoder = nn.Sequential(\n",
        "            #nn.Linear(4, 16), nn.ReLU(),\n",
        "            nn.Linear(16, 64), nn.ReLU(),\n",
        "            nn.Linear(64, 128), nn.ReLU(),\n",
        "            nn.Linear(128, 32*32*3),nn.Sigmoid()  # Data value range [0, 1]\n",
        "        )\n",
        "\n",
        "    def forward(self, x):\n",
        "        x = self.flatten(x)\n",
        "        x = self.encoder(x)\n",
        "        out = self.decoder(x)\n",
        "        out = torch.reshape(out, (-1, 32, 32, 3))\n",
        "        return out\n",
        "\n",
        "model = DenoisingAutoencoder()"
      ]
    },
    {
      "cell_type": "code",
      "execution_count": 260,
      "metadata": {
        "id": "4cc6I9k6dXfq"
      },
      "outputs": [],
      "source": [
        "# Initialize the loss function\n",
        "loss_fn = nn.MSELoss()"
      ]
    },
    {
      "cell_type": "code",
      "execution_count": 261,
      "metadata": {
        "id": "oe0DdcFqdcXr"
      },
      "outputs": [],
      "source": [
        "# Define optimizer\n",
        "optimizer = torch.optim.Adam(model.parameters(), lr=learning_rate)"
      ]
    },
    {
      "cell_type": "code",
      "execution_count": 262,
      "metadata": {
        "id": "lbqEyotEdjo2"
      },
      "outputs": [],
      "source": [
        "# Training Loop\n",
        "# In TF kann man einfach fitten, in PyTorch muss man selbst loopen\n",
        "\n",
        "def train_loop(dataloader, model, loss_fn, optimizer):\n",
        "    size = len(dataloader.dataset) # Von da wissen wir die Anzahl der Zyklen\n",
        "    for batch, (X, y) in enumerate(dataloader): # X == y\n",
        "        # Compute prediction and loss\n",
        "        recon = model(X) # reconstructed data\n",
        "        loss = loss_fn(recon, X) # benchmark recon against X\n",
        "\n",
        "        # Backpropagation\n",
        "        optimizer.zero_grad()\n",
        "\n",
        "        # Gradienten auf x Berechnen\n",
        "        # In tensorflow: Apply gradient oder Gewicht = Gewicht + LearningRate*Gradient\n",
        "        loss.backward()\n",
        "        # Uberschreiben aller Gewichte und Biases mit neuen Werten\n",
        "        optimizer.step()\n",
        "\n",
        "        if batch % 500 == 0:\n",
        "            loss, current = loss.item(), batch * len(X)\n",
        "            print(f\"loss, Train: {loss:>7f}  [{current:>5d}/{size:>5d}]\")"
      ]
    },
    {
      "cell_type": "code",
      "execution_count": 263,
      "metadata": {
        "id": "_QUolrlOGPNV"
      },
      "outputs": [],
      "source": [
        "def test_loop(test_dataloader, model, loss_fn):\n",
        "    size = len(test_dataloader.dataset)\n",
        "    test_loss = 0.\n",
        "    with torch.no_grad():\n",
        "        for batch, (X, y) in enumerate(test_dataloader):\n",
        "            pred = model(X)\n",
        "            test_loss += loss_fn(pred, y).item()\n",
        "\n",
        "\n",
        "    test_loss /= size\n",
        "    print(f\"Avg loss, Test: {test_loss:>8f} \\n\")\n",
        "\n",
        "    return test_loss"
      ]
    },
    {
      "cell_type": "code",
      "execution_count": 264,
      "metadata": {
        "colab": {
          "base_uri": "https://localhost:8080/"
        },
        "id": "6EXp2A8_fKMY",
        "outputId": "646b5666-d69a-40e0-d225-9642fbb71698"
      },
      "outputs": [
        {
          "name": "stdout",
          "output_type": "stream",
          "text": [
            "loss, Train: 0.217227  [    0/50000]\n",
            "loss, Train: 0.184014  [32000/50000]\n",
            "Avg loss, Test: 0.002932 \n",
            "\n",
            "loss, Train: 0.186433  [    0/50000]\n",
            "loss, Train: 0.183572  [32000/50000]\n",
            "Avg loss, Test: 0.002932 \n",
            "\n",
            "loss, Train: 0.186589  [    0/50000]\n",
            "loss, Train: 0.181353  [32000/50000]\n",
            "Avg loss, Test: 0.002892 \n",
            "\n",
            "loss, Train: 0.183918  [    0/50000]\n",
            "loss, Train: 0.180539  [32000/50000]\n",
            "Avg loss, Test: 0.002873 \n",
            "\n",
            "loss, Train: 0.182665  [    0/50000]\n",
            "loss, Train: 0.178539  [32000/50000]\n",
            "Avg loss, Test: 0.002858 \n",
            "\n",
            "loss, Train: 0.182177  [    0/50000]\n",
            "loss, Train: 0.178428  [32000/50000]\n",
            "Avg loss, Test: 0.002855 \n",
            "\n",
            "loss, Train: 0.182003  [    0/50000]\n",
            "loss, Train: 0.178416  [32000/50000]\n",
            "Avg loss, Test: 0.002852 \n",
            "\n",
            "loss, Train: 0.181773  [    0/50000]\n",
            "loss, Train: 0.178753  [32000/50000]\n",
            "Avg loss, Test: 0.002849 \n",
            "\n",
            "loss, Train: 0.181564  [    0/50000]\n",
            "loss, Train: 0.178379  [32000/50000]\n",
            "Avg loss, Test: 0.002848 \n",
            "\n",
            "loss, Train: 0.181428  [    0/50000]\n",
            "loss, Train: 0.178413  [32000/50000]\n",
            "Avg loss, Test: 0.002848 \n",
            "\n",
            "Done!\n"
          ]
        }
      ],
      "source": [
        "epochs = 10\n",
        "test_losses = []\n",
        "for t in range(epochs):\n",
        "    #print(f\"Epoch {t+1}\\n-------------------------------\")\n",
        "    train_loop(train_dataloader, model, loss_fn, optimizer)\n",
        "    test_loss = test_loop(test_dataloader, model, loss_fn)\n",
        "    test_losses.append(test_loss)\n",
        "\n",
        "print(\"Done!\")\n"
      ]
    },
    {
      "cell_type": "code",
      "execution_count": 265,
      "metadata": {
        "colab": {
          "base_uri": "https://localhost:8080/",
          "height": 463
        },
        "id": "ExqYYse68l50",
        "outputId": "1ac607ad-c732-40c7-f4d4-43a4eb88d0ea"
      },
      "outputs": [
        {
          "data": {
            "image/png": "[encoded data removed]",
            "text/plain": [
              "<Figure size 2400x800 with 1 Axes>"
            ]
          },
          "metadata": {},
          "output_type": "display_data"
        }
      ],
      "source": [
        "plt.plot(np.array(test_losses));"
      ]
    },
    {
      "cell_type": "code",
      "execution_count": 266,
      "metadata": {
        "colab": {
          "base_uri": "https://localhost:8080/",
          "height": 693
        },
        "id": "Zub-_Y0v3Pfg",
        "outputId": "cc24e186-cd6d-4852-97a7-2be8ab0a8a47"
      },
      "outputs": [
        {
          "name": "stderr",
          "output_type": "stream",
          "text": [
            "Clipping input data to the valid range for imshow with RGB data ([0..1] for floats or [0..255] for integers).\n"
          ]
        },
        {
          "name": "stdout",
          "output_type": "stream",
          "text": [
            "tensor(-1.4829) tensor(2.4980)\n"
          ]
        },
        {
          "data": {
            "image/png": "[encoded data removed]",
            "text/plain": [
              "<Figure size 2400x800 with 1 Axes>"
            ]
          },
          "metadata": {},
          "output_type": "display_data"
        }
      ],
      "source": [
        "data, labels = next(iter(test_dataloader))\n",
        "print(torch.min(data), torch.max(data))\n",
        "img = data.detach().numpy()*255\n",
        "img = img.astype(int)\n",
        "plt.imshow(img[3].squeeze(), cmap='gray');"
      ]
    },
    {
      "cell_type": "code",
      "execution_count": 267,
      "metadata": {
        "colab": {
          "base_uri": "https://localhost:8080/"
        },
        "id": "1K-2qGV8H_Po",
        "outputId": "9882df9b-a8b2-463d-86c3-296bc19f37f5"
      },
      "outputs": [
        {
          "data": {
            "text/plain": [
              "(64, 32, 32, 3)"
            ]
          },
          "execution_count": 267,
          "metadata": {},
          "output_type": "execute_result"
        }
      ],
      "source": [
        "img.shape"
      ]
    },
    {
      "cell_type": "code",
      "execution_count": 268,
      "metadata": {
        "id": "2q_W91UoM1Rb"
      },
      "outputs": [],
      "source": [
        "img_new = model(data)\n"
      ]
    },
    {
      "cell_type": "code",
      "execution_count": 269,
      "metadata": {
        "id": "BYERldK1Qf3A"
      },
      "outputs": [
        {
          "name": "stdout",
          "output_type": "stream",
          "text": [
            "[[[[114 114 113]\n",
            "   [106 117 114]\n",
            "   [109 114 112]\n",
            "   ...\n",
            "   [ 82  86  84]\n",
            "   [ 87  89  80]\n",
            "   [ 82  88  83]]\n",
            "\n",
            "  [[103 117 110]\n",
            "   [110 116 111]\n",
            "   [109 116 110]\n",
            "   ...\n",
            "   [ 78  87  85]\n",
            "   [ 81  87  81]\n",
            "   [ 80  90  78]]\n",
            "\n",
            "  [[103 112 110]\n",
            "   [112 117 107]\n",
            "   [105 113 107]\n",
            "   ...\n",
            "   [ 78  81  79]\n",
            "   [ 79  83  74]\n",
            "   [ 83  85  77]]\n",
            "\n",
            "  ...\n",
            "\n",
            "  [[123 124 118]\n",
            "   [124 127 117]\n",
            "   [129 126 117]\n",
            "   ...\n",
            "   [ 92  92  79]\n",
            "   [ 90  91  79]\n",
            "   [ 90  92  81]]\n",
            "\n",
            "  [[124 122 113]\n",
            "   [123 122 117]\n",
            "   [124 127 114]\n",
            "   ...\n",
            "   [ 93  91  83]\n",
            "   [ 90  93  86]\n",
            "   [ 92  97  84]]\n",
            "\n",
            "  [[124 123 112]\n",
            "   [119 127 110]\n",
            "   [124 124 112]\n",
            "   ...\n",
            "   [ 96  96  78]\n",
            "   [ 92  93  85]\n",
            "   [ 91  96  83]]]\n",
            "\n",
            "\n",
            " [[[207 219 235]\n",
            "   [202 214 239]\n",
            "   [202 221 240]\n",
            "   ...\n",
            "   [222 233 246]\n",
            "   [225 231 243]\n",
            "   [217 231 243]]\n",
            "\n",
            "  [[206 219 238]\n",
            "   [205 224 236]\n",
            "   [204 221 236]\n",
            "   ...\n",
            "   [217 237 248]\n",
            "   [221 231 246]\n",
            "   [226 233 244]]\n",
            "\n",
            "  [[200 217 237]\n",
            "   [201 216 238]\n",
            "   [203 218 234]\n",
            "   ...\n",
            "   [222 231 247]\n",
            "   [229 231 245]\n",
            "   [222 235 245]]\n",
            "\n",
            "  ...\n",
            "\n",
            "  [[ 50  69  80]\n",
            "   [ 46  77  79]\n",
            "   [ 62  64  67]\n",
            "   ...\n",
            "   [ 85  86  93]\n",
            "   [ 79  92  95]\n",
            "   [ 92 100  94]]\n",
            "\n",
            "  [[ 61  74  72]\n",
            "   [ 56  62  81]\n",
            "   [ 53  64  70]\n",
            "   ...\n",
            "   [ 78  79  92]\n",
            "   [ 78  94 101]\n",
            "   [ 82  91 102]]\n",
            "\n",
            "  [[ 60  67  80]\n",
            "   [ 60  69  75]\n",
            "   [ 57  75  79]\n",
            "   ...\n",
            "   [ 80  95  92]\n",
            "   [ 85  87  93]\n",
            "   [ 78  90  89]]]\n",
            "\n",
            "\n",
            " [[[187 192 200]\n",
            "   [184 193 207]\n",
            "   [188 197 206]\n",
            "   ...\n",
            "   [185 192 203]\n",
            "   [186 183 192]\n",
            "   [178 184 198]]\n",
            "\n",
            "  [[183 189 202]\n",
            "   [187 199 201]\n",
            "   [188 200 202]\n",
            "   ...\n",
            "   [178 193 209]\n",
            "   [179 184 203]\n",
            "   [181 189 192]]\n",
            "\n",
            "  [[180 188 203]\n",
            "   [190 187 200]\n",
            "   [184 193 197]\n",
            "   ...\n",
            "   [179 183 200]\n",
            "   [188 183 200]\n",
            "   [177 190 190]]\n",
            "\n",
            "  ...\n",
            "\n",
            "  [[ 64  69  65]\n",
            "   [ 62  73  63]\n",
            "   [ 71  66  58]\n",
            "   ...\n",
            "   [ 63  57  50]\n",
            "   [ 62  59  54]\n",
            "   [ 69  66  54]]\n",
            "\n",
            "  [[ 70  72  62]\n",
            "   [ 69  66  66]\n",
            "   [ 65  64  56]\n",
            "   ...\n",
            "   [ 63  57  54]\n",
            "   [ 60  62  55]\n",
            "   [ 60  65  57]]\n",
            "\n",
            "  [[ 71  68  61]\n",
            "   [ 71  68  62]\n",
            "   [ 63  72  61]\n",
            "   ...\n",
            "   [ 67  64  56]\n",
            "   [ 68  63  54]\n",
            "   [ 65  67  55]]]\n",
            "\n",
            "\n",
            " ...\n",
            "\n",
            "\n",
            " [[[ 44  44  23]\n",
            "   [ 53  40  21]\n",
            "   [ 50  38  20]\n",
            "   ...\n",
            "   [ 91  70  40]\n",
            "   [ 95  67  45]\n",
            "   [ 89  72  51]]\n",
            "\n",
            "  [[ 48  35  18]\n",
            "   [ 45  34  18]\n",
            "   [ 40  43  20]\n",
            "   ...\n",
            "   [ 91  82  45]\n",
            "   [ 89  68  45]\n",
            "   [ 97  80  45]]\n",
            "\n",
            "  [[ 49  42  21]\n",
            "   [ 52  38  20]\n",
            "   [ 56  40  21]\n",
            "   ...\n",
            "   [ 99  72  48]\n",
            "   [ 98  78  44]\n",
            "   [ 98  82  46]]\n",
            "\n",
            "  ...\n",
            "\n",
            "  [[117  96  63]\n",
            "   [107 107  67]\n",
            "   [125 107  69]\n",
            "   ...\n",
            "   [191 172 126]\n",
            "   [188 166 122]\n",
            "   [183 161 118]]\n",
            "\n",
            "  [[122 105  65]\n",
            "   [116 100  64]\n",
            "   [130 117  64]\n",
            "   ...\n",
            "   [192 169 119]\n",
            "   [196 174 131]\n",
            "   [185 173 114]]\n",
            "\n",
            "  [[118 105  68]\n",
            "   [125 107  68]\n",
            "   [128 104  74]\n",
            "   ...\n",
            "   [180 165 122]\n",
            "   [184 161 129]\n",
            "   [181 155 114]]]\n",
            "\n",
            "\n",
            " [[[ 26  28  29]\n",
            "   [ 27  31  27]\n",
            "   [ 24  30  27]\n",
            "   ...\n",
            "   [ 18  19  21]\n",
            "   [ 21  21  15]\n",
            "   [ 18  21  19]]\n",
            "\n",
            "  [[ 21  29  26]\n",
            "   [ 24  25  23]\n",
            "   [ 20  31  26]\n",
            "   ...\n",
            "   [ 18  21  20]\n",
            "   [ 17  21  17]\n",
            "   [ 18  20  17]]\n",
            "\n",
            "  [[ 22  26  29]\n",
            "   [ 24  23  24]\n",
            "   [ 24  30  24]\n",
            "   ...\n",
            "   [ 17  17  19]\n",
            "   [ 17  19  17]\n",
            "   [ 16  22  15]]\n",
            "\n",
            "  ...\n",
            "\n",
            "  [[ 48  51  50]\n",
            "   [ 42  57  58]\n",
            "   [ 53  60  52]\n",
            "   ...\n",
            "   [ 26  40  32]\n",
            "   [ 28  37  30]\n",
            "   [ 29  32  36]]\n",
            "\n",
            "  [[ 43  43  50]\n",
            "   [ 44  51  49]\n",
            "   [ 54  56  51]\n",
            "   ...\n",
            "   [ 29  38  35]\n",
            "   [ 40  34  34]\n",
            "   [ 28  40  33]]\n",
            "\n",
            "  [[ 43  50  50]\n",
            "   [ 47  56  51]\n",
            "   [ 51  49  49]\n",
            "   ...\n",
            "   [ 32  37  31]\n",
            "   [ 30  35  34]\n",
            "   [ 29  35  29]]]\n",
            "\n",
            "\n",
            " [[[210 217 227]\n",
            "   [207 216 227]\n",
            "   [200 218 229]\n",
            "   ...\n",
            "   [187 193 202]\n",
            "   [187 191 205]\n",
            "   [177 188 207]]\n",
            "\n",
            "  [[201 220 227]\n",
            "   [211 221 227]\n",
            "   [210 220 226]\n",
            "   ...\n",
            "   [176 196 210]\n",
            "   [174 193 203]\n",
            "   [180 193 206]]\n",
            "\n",
            "  [[202 214 229]\n",
            "   [206 218 225]\n",
            "   [213 221 228]\n",
            "   ...\n",
            "   [177 185 209]\n",
            "   [180 191 197]\n",
            "   [182 188 196]]\n",
            "\n",
            "  ...\n",
            "\n",
            "  [[127 135 126]\n",
            "   [130 138 125]\n",
            "   [133 133 122]\n",
            "   ...\n",
            "   [110 107 100]\n",
            "   [110 102  99]\n",
            "   [121 110  91]]\n",
            "\n",
            "  [[132 141 132]\n",
            "   [140 132 124]\n",
            "   [130 134 121]\n",
            "   ...\n",
            "   [117 103  99]\n",
            "   [108 117 102]\n",
            "   [109 115  99]]\n",
            "\n",
            "  [[140 136 127]\n",
            "   [134 126 127]\n",
            "   [131 140 126]\n",
            "   ...\n",
            "   [114 118  95]\n",
            "   [115 116  95]\n",
            "   [110 121  96]]]]\n"
          ]
        }
      ],
      "source": [
        "img_new = (img_new.detach().numpy()*255).astype(int)\n",
        "print(img_new)"
      ]
    },
    {
      "cell_type": "code",
      "execution_count": 270,
      "metadata": {
        "colab": {
          "base_uri": "https://localhost:8080/",
          "height": 693
        },
        "id": "onROY5iFQnMI",
        "outputId": "a0273b94-d4c4-4371-eb9f-1a29ba537d95"
      },
      "outputs": [
        {
          "data": {
            "text/plain": [
              "<matplotlib.image.AxesImage at 0x126a9796510>"
            ]
          },
          "execution_count": 270,
          "metadata": {},
          "output_type": "execute_result"
        },
        {
          "data": {
            "image/png": "[encoded data removed]",
            "text/plain": [
              "<Figure size 2400x800 with 1 Axes>"
            ]
          },
          "metadata": {},
          "output_type": "display_data"
        }
      ],
      "source": [
        "plt.imshow(img_new[3])"
      ]
    },
    {
      "cell_type": "code",
      "execution_count": null,
      "metadata": {
        "id": "pj2hOf9GQq2q"
      },
      "outputs": [],
      "source": []
    }
  ],
  "metadata": {
    "colab": {
      "provenance": []
    },
    "kernelspec": {
      "display_name": "Python 3",
      "language": "python",
      "name": "python3"
    },
    "language_info": {
      "codemirror_mode": {
        "name": "ipython",
        "version": 3
      },
      "file_extension": ".py",
      "mimetype": "text/x-python",
      "name": "python",
      "nbconvert_exporter": "python",
      "pygments_lexer": "ipython3",
      "version": "3.11.5"
    }
  },
  "nbformat": 4,
  "nbformat_minor": 0
}
