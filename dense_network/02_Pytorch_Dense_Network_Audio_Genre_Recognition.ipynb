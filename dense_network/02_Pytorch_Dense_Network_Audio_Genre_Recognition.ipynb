{
  "cells": [
    {
      "cell_type": "code",
      "execution_count": null,
      "metadata": {
        "id": "s3o5A_2eY3i0"
      },
      "outputs": [],
      "source": [
        "import torch\n",
        "import os\n",
        "import librosa\n",
        "import wave\n",
        "import numpy as np\n",
        "import torchaudio\n",
        "from torch import nn\n",
        "from torch.utils.data import DataLoader, TensorDataset\n",
        "from torchvision import datasets\n",
        "from torchvision.transforms import ToTensor, Lambda"
      ]
    },
    {
      "cell_type": "code",
      "execution_count": null,
      "metadata": {
        "id": "3VqAoVbUeTtt"
      },
      "outputs": [],
      "source": [
        "DATA_PATH = './training_data/'\n",
        "WAV_PATH = os.path.join(DATA_PATH, 'genres_original')\n",
        "PNG_PATH = os.path.join(DATA_PATH, 'images_original')"
      ]
    },
    {
      "cell_type": "code",
      "execution_count": null,
      "metadata": {},
      "outputs": [],
      "source": [
        "### Arguments\n",
        "### path: path of either wav or png directory\n",
        "### Returns\n",
        "### dictionary of 'genre' -> number\n",
        "def extract_classes(path=WAV_PATH):\n",
        "    classes = {}\n",
        "    i = 0\n",
        "    for genre in os.listdir(path):\n",
        "        classes[genre] = i\n",
        "        i += 1\n",
        "    return classes\n",
        "CLASSES = extract_classes()"
      ]
    },
    {
      "cell_type": "code",
      "execution_count": null,
      "metadata": {},
      "outputs": [],
      "source": [
        "WAV_DURATION = 30 #seconds"
      ]
    },
    {
      "cell_type": "code",
      "execution_count": null,
      "metadata": {},
      "outputs": [],
      "source": [
        "def waveFileTransform(file_path):\n",
        "    with wave.open(file_path, 'rb') as wav_file:\n",
        "        print(wav_file.readframes(wav_file.getnframes()))"
      ]
    },
    {
      "cell_type": "code",
      "execution_count": null,
      "metadata": {},
      "outputs": [],
      "source": [
        "\n",
        "\n",
        "### duration: duration of each training example\n",
        "### sr: sample rate of the wav file\n",
        "### path: path of the wav files\n",
        "def extract_wav(path=WAV_PATH, duration=2, sr=1000):\n",
        "    dim = sr * duration\n",
        "    samples_per_wav = WAV_DURATION // duration\n",
        "    X = np.zeros((1, dim))\n",
        "    Y = np.zeros((1))\n",
        "    for genre in os.listdir(WAV_PATH):\n",
        "        genre_path = os.path.join(WAV_PATH, genre)\n",
        "        for piece in os.listdir(genre_path):\n",
        "            file_path = os.path.join(genre_path, piece)\n",
        "            try:\n",
        "                waveFileTransform(file_path)\n",
        "                x, _ = librosa.load(file_path, sr=sr)\n",
        "                x = np.pad(x, (0, 30), mode='constant', constant_values=0)\n",
        "                sample_x = x[0: samples_per_wav * dim].reshape(samples_per_wav, dim)\n",
        "                sample_y = np.ones((samples_per_wav)) * CLASSES[genre]\n",
        "                X = np.concatenate((X, sample_x))\n",
        "                Y = np.concatenate((Y, sample_y))\n",
        "            except:\n",
        "                print(\"librosa load failed on \" + file_path)\n",
        "    return X[1:,:], Y[1:]\n",
        "X, Y = extract_wav()"
      ]
    },
    {
      "cell_type": "code",
      "execution_count": null,
      "metadata": {},
      "outputs": [],
      "source": [
        "def PCA(X, out_dim=256, full_matrices=False):\n",
        "    X = X - X.mean()\n",
        "    X = X / X.std()\n",
        "    U, S, Vh = np.linalg.svd(X)\n",
        "    return np.matmul(U[:, 0:out_dim], np.diag(S[0:out_dim]))\n",
        "X_PCA = PCA(X)"
      ]
    },
    {
      "cell_type": "code",
      "execution_count": null,
      "metadata": {},
      "outputs": [],
      "source": [
        "print(X.shape)\n",
        "print(Y.shape)\n",
        "print(X_PCA.shape)"
      ]
    },
    {
      "cell_type": "code",
      "execution_count": null,
      "metadata": {},
      "outputs": [],
      "source": [
        "BATCH_SIZE = 64"
      ]
    },
    {
      "cell_type": "code",
      "execution_count": null,
      "metadata": {},
      "outputs": [],
      "source": [
        "train_target = torch.tensor(Y) # train ist ein DF\n",
        "train = torch.tensor(X)\n",
        "train_tensor = TensorDataset(train, train_target)\n",
        "test_tensor = data_utils.TensorDataset(train, train_target)\n",
        "\n",
        "train_loader = DataLoader(dataset = train_tensor, batch_size = BATCH_SIZE, shuffle = True)\n",
        "test_loader = DataLoader(dataset = train_tensor, batch_size = batch_size, shuffle = True)"
      ]
    },
    {
      "cell_type": "code",
      "execution_count": null,
      "metadata": {},
      "outputs": [],
      "source": [
        "for X, y in train_loader:\n",
        "    print(X.shape)\n",
        "    break"
      ]
    },
    {
      "cell_type": "code",
      "execution_count": null,
      "metadata": {},
      "outputs": [],
      "source": [
        "torch.full(size=(9,), fill_value=1)"
      ]
    },
    {
      "cell_type": "code",
      "execution_count": null,
      "metadata": {},
      "outputs": [],
      "source": [
        "# Get cpu, gpu or mps device for training.\n",
        "device = (\n",
        "    \"cuda\"\n",
        "    if torch.cuda.is_available()\n",
        "    else \"mps\"\n",
        "    if torch.backends.mps.is_available()\n",
        "    else \"cpu\"\n",
        ")\n",
        "print(f\"Using {device} device\")\n",
        "\n",
        "# Define model\n",
        "\n",
        "class NeuralNetwork(nn.Module):\n",
        "    def __init__(self):\n",
        "        super(NeuralNetwork, self).__init__()\n",
        "        self.flatten = nn.Flatten()\n",
        "        self.linear_relu_stack = nn.Sequential(\n",
        "            nn.Linear(28*28, 512),\n",
        "            nn.ReLU(),\n",
        "            nn.Linear(512, 512),\n",
        "            nn.ReLU(),\n",
        "            nn.Linear(512, 10),\n",
        "            nn.Softmax()\n",
        "        )\n",
        "\n",
        "    def forward(self, x):\n",
        "        x = self.flatten(x)\n",
        "        logits = self.linear_relu_stack(x)\n",
        "        return logits\n",
        "\n",
        "model = NeuralNetwork()"
      ]
    }
  ],
  "metadata": {
    "colab": {
      "provenance": []
    },
    "kernelspec": {
      "display_name": "Python 3",
      "name": "python3"
    },
    "language_info": {
      "codemirror_mode": {
        "name": "ipython",
        "version": 3
      },
      "file_extension": ".py",
      "mimetype": "text/x-python",
      "name": "python",
      "nbconvert_exporter": "python",
      "pygments_lexer": "ipython3",
      "version": "3.11.5"
    }
  },
  "nbformat": 4,
  "nbformat_minor": 0
}
